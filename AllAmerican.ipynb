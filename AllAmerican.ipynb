{
  "cells": [
    {
      "cell_type": "markdown",
      "source": [
        "**How can we predict NCAA All-Americans using their stats?**\n",
        "\n",
        "\n",
        "---\n",
        "\n"
      ],
      "metadata": {
        "id": "nXkePO1cPB3j"
      }
    },
    {
      "cell_type": "markdown",
      "source": [
        "In this project, I will use a simple neural network and a logistic regression to try to predict college basketball All-Americans based on their per-possession individual and team statistics. By training models using the last 12 years of college basketball data, we can get a good understanding of what statistics are indicative of All-American level players and use this information to predict which players will be All-Americans in the 2022-23 season.\n",
        "\n",
        "First, I will define what an All-American player is. The players that are named All-Americans are considered to be the best 15-20 players by 4 major groups. These include the Associated Press, United States Basketball Writers Association, Sporting News, and the National Association of Basketball Coaches. Each of these groups independently chooses their top 15 players of the season and places them into the first-team, second-team, or third-team. The ten players with the most votes (where votes are weighted with 3 points for first-team, 2 points for second-team, and 1 point for third-team) are given Consensus All-American honors. In this project, I chose to denote any player that received at least 1 vote as an All-American. Having more All-American players allows for more positive results in the sample, since the fraction of college basketball players that get even 1 All-American vote is extremely low. This is helpful because it is already difficult to make good models when the number of positive results is so low. "
      ],
      "metadata": {
        "id": "zg_KCvretRpN"
      }
    },
    {
      "cell_type": "markdown",
      "source": [
        "The first step in this analysis was to install the `sportsdataverse` package, which will allow us to retrieve individual game logs from the past few seasons. After that, I imported the standard data analysis packages in addition to others that will allow us to train a neural network and a logistic regression. "
      ],
      "metadata": {
        "id": "LuP_H0MWu5K1"
      }
    },
    {
      "cell_type": "code",
      "source": [
        "!pip install sportsdataverse"
      ],
      "metadata": {
        "colab": {
          "base_uri": "https://localhost:8080/"
        },
        "id": "EAa-KxtlNwEv",
        "outputId": "e2f3d2d3-a210-4354-f38b-7eb179ab3177"
      },
      "execution_count": 1,
      "outputs": [
        {
          "output_type": "stream",
          "name": "stdout",
          "text": [
            "Looking in indexes: https://pypi.org/simple, https://us-python.pkg.dev/colab-wheels/public/simple/\n",
            "Collecting sportsdataverse\n",
            "  Downloading sportsdataverse-0.0.31-py3-none-any.whl (8.4 MB)\n",
            "\u001b[2K     \u001b[90m━━━━━━━━━━━━━━━━━━━━━━━━━━━━━━━━━━━━━━━━\u001b[0m \u001b[32m8.4/8.4 MB\u001b[0m \u001b[31m33.2 MB/s\u001b[0m eta \u001b[36m0:00:00\u001b[0m\n",
            "\u001b[?25hCollecting pyreadr>=0.4.0\n",
            "  Downloading pyreadr-0.4.7-cp38-cp38-manylinux_2_17_x86_64.manylinux2014_x86_64.whl (364 kB)\n",
            "\u001b[2K     \u001b[90m━━━━━━━━━━━━━━━━━━━━━━━━━━━━━━━━━━━━━━\u001b[0m \u001b[32m365.0/365.0 KB\u001b[0m \u001b[31m13.9 MB/s\u001b[0m eta \u001b[36m0:00:00\u001b[0m\n",
            "\u001b[?25hRequirement already satisfied: tqdm>=4.50.0 in /usr/local/lib/python3.8/dist-packages (from sportsdataverse) (4.64.1)\n",
            "Requirement already satisfied: requests>=2.18.1 in /usr/local/lib/python3.8/dist-packages (from sportsdataverse) (2.25.1)\n",
            "Collecting pygithub>=1.51\n",
            "  Downloading PyGithub-1.57-py3-none-any.whl (297 kB)\n",
            "\u001b[2K     \u001b[90m━━━━━━━━━━━━━━━━━━━━━━━━━━━━━━━━━━━━━━\u001b[0m \u001b[32m297.6/297.6 KB\u001b[0m \u001b[31m16.6 MB/s\u001b[0m eta \u001b[36m0:00:00\u001b[0m\n",
            "\u001b[?25hRequirement already satisfied: beautifulsoup4>=4.4.0 in /usr/local/lib/python3.8/dist-packages (from sportsdataverse) (4.6.3)\n",
            "Requirement already satisfied: matplotlib>=2.0.0 in /usr/local/lib/python3.8/dist-packages (from sportsdataverse) (3.2.2)\n",
            "Collecting inflection>=0.5.1\n",
            "  Downloading inflection-0.5.1-py2.py3-none-any.whl (9.5 kB)\n",
            "Requirement already satisfied: scipy>=1.4.0 in /usr/local/lib/python3.8/dist-packages (from sportsdataverse) (1.7.3)\n",
            "Requirement already satisfied: lxml>=4.2.1 in /usr/local/lib/python3.8/dist-packages (from sportsdataverse) (4.9.2)\n",
            "Requirement already satisfied: pyarrow>=1.0.1 in /usr/local/lib/python3.8/dist-packages (from sportsdataverse) (9.0.0)\n",
            "Requirement already satisfied: attrs>=20.3.0 in /usr/local/lib/python3.8/dist-packages (from sportsdataverse) (22.2.0)\n",
            "Requirement already satisfied: pandas>=1.0.3 in /usr/local/lib/python3.8/dist-packages (from sportsdataverse) (1.3.5)\n",
            "Collecting xgboost>=1.2.0\n",
            "  Downloading xgboost-1.7.3-py3-none-manylinux2014_x86_64.whl (193.6 MB)\n",
            "\u001b[2K     \u001b[90m━━━━━━━━━━━━━━━━━━━━━━━━━━━━━━━━━━━━━━━\u001b[0m \u001b[32m193.6/193.6 MB\u001b[0m \u001b[31m3.5 MB/s\u001b[0m eta \u001b[36m0:00:00\u001b[0m\n",
            "\u001b[?25hRequirement already satisfied: numpy>=1.13.0 in /usr/local/lib/python3.8/dist-packages (from sportsdataverse) (1.21.6)\n",
            "Collecting pyjanitor>=0.23.1\n",
            "  Downloading pyjanitor-0.24.0-py3-none-any.whl (158 kB)\n",
            "\u001b[2K     \u001b[90m━━━━━━━━━━━━━━━━━━━━━━━━━━━━━━━━━━━━━━━\u001b[0m \u001b[32m158.4/158.4 KB\u001b[0m \u001b[31m3.8 MB/s\u001b[0m eta \u001b[36m0:00:00\u001b[0m\n",
            "\u001b[?25hRequirement already satisfied: cycler>=0.10 in /usr/local/lib/python3.8/dist-packages (from matplotlib>=2.0.0->sportsdataverse) (0.11.0)\n",
            "Requirement already satisfied: python-dateutil>=2.1 in /usr/local/lib/python3.8/dist-packages (from matplotlib>=2.0.0->sportsdataverse) (2.8.2)\n",
            "Requirement already satisfied: pyparsing!=2.0.4,!=2.1.2,!=2.1.6,>=2.0.1 in /usr/local/lib/python3.8/dist-packages (from matplotlib>=2.0.0->sportsdataverse) (3.0.9)\n",
            "Requirement already satisfied: kiwisolver>=1.0.1 in /usr/local/lib/python3.8/dist-packages (from matplotlib>=2.0.0->sportsdataverse) (1.4.4)\n",
            "Requirement already satisfied: pytz>=2017.3 in /usr/local/lib/python3.8/dist-packages (from pandas>=1.0.3->sportsdataverse) (2022.7.1)\n",
            "Collecting pynacl>=1.4.0\n",
            "  Downloading PyNaCl-1.5.0-cp36-abi3-manylinux_2_17_x86_64.manylinux2014_x86_64.manylinux_2_24_x86_64.whl (856 kB)\n",
            "\u001b[2K     \u001b[90m━━━━━━━━━━━━━━━━━━━━━━━━━━━━━━━━━━━━━━\u001b[0m \u001b[32m856.7/856.7 KB\u001b[0m \u001b[31m13.3 MB/s\u001b[0m eta \u001b[36m0:00:00\u001b[0m\n",
            "\u001b[?25hCollecting deprecated\n",
            "  Downloading Deprecated-1.2.13-py2.py3-none-any.whl (9.6 kB)\n",
            "Collecting pyjwt>=2.4.0\n",
            "  Downloading PyJWT-2.6.0-py3-none-any.whl (20 kB)\n",
            "Requirement already satisfied: multipledispatch in /usr/local/lib/python3.8/dist-packages (from pyjanitor>=0.23.1->sportsdataverse) (0.6.0)\n",
            "Collecting lazy-loader\n",
            "  Downloading lazy_loader-0.1-py3-none-any.whl (8.6 kB)\n",
            "Collecting pandas-flavor\n",
            "  Downloading pandas_flavor-0.5.0-py3-none-any.whl (7.1 kB)\n",
            "Requirement already satisfied: natsort in /usr/local/lib/python3.8/dist-packages (from pyjanitor>=0.23.1->sportsdataverse) (5.5.0)\n",
            "Requirement already satisfied: idna<3,>=2.5 in /usr/local/lib/python3.8/dist-packages (from requests>=2.18.1->sportsdataverse) (2.10)\n",
            "Requirement already satisfied: certifi>=2017.4.17 in /usr/local/lib/python3.8/dist-packages (from requests>=2.18.1->sportsdataverse) (2022.12.7)\n",
            "Requirement already satisfied: urllib3<1.27,>=1.21.1 in /usr/local/lib/python3.8/dist-packages (from requests>=2.18.1->sportsdataverse) (1.24.3)\n",
            "Requirement already satisfied: chardet<5,>=3.0.2 in /usr/local/lib/python3.8/dist-packages (from requests>=2.18.1->sportsdataverse) (4.0.0)\n",
            "Requirement already satisfied: cffi>=1.4.1 in /usr/local/lib/python3.8/dist-packages (from pynacl>=1.4.0->pygithub>=1.51->sportsdataverse) (1.15.1)\n",
            "Requirement already satisfied: six>=1.5 in /usr/local/lib/python3.8/dist-packages (from python-dateutil>=2.1->matplotlib>=2.0.0->sportsdataverse) (1.15.0)\n",
            "Requirement already satisfied: wrapt<2,>=1.10 in /usr/local/lib/python3.8/dist-packages (from deprecated->pygithub>=1.51->sportsdataverse) (1.14.1)\n",
            "Requirement already satisfied: xarray in /usr/local/lib/python3.8/dist-packages (from pandas-flavor->pyjanitor>=0.23.1->sportsdataverse) (2022.12.0)\n",
            "Requirement already satisfied: pycparser in /usr/local/lib/python3.8/dist-packages (from cffi>=1.4.1->pynacl>=1.4.0->pygithub>=1.51->sportsdataverse) (2.21)\n",
            "Requirement already satisfied: packaging>=21.3 in /usr/local/lib/python3.8/dist-packages (from xarray->pandas-flavor->pyjanitor>=0.23.1->sportsdataverse) (23.0)\n",
            "Installing collected packages: pyjwt, lazy-loader, inflection, deprecated, xgboost, pynacl, pyreadr, pygithub, pandas-flavor, pyjanitor, sportsdataverse\n",
            "  Attempting uninstall: xgboost\n",
            "    Found existing installation: xgboost 0.90\n",
            "    Uninstalling xgboost-0.90:\n",
            "      Successfully uninstalled xgboost-0.90\n",
            "Successfully installed deprecated-1.2.13 inflection-0.5.1 lazy-loader-0.1 pandas-flavor-0.5.0 pygithub-1.57 pyjanitor-0.24.0 pyjwt-2.6.0 pynacl-1.5.0 pyreadr-0.4.7 sportsdataverse-0.0.31 xgboost-1.7.3\n"
          ]
        }
      ]
    },
    {
      "cell_type": "code",
      "execution_count": 2,
      "metadata": {
        "id": "r6JCAp5asEiE"
      },
      "outputs": [],
      "source": [
        "import numpy as np\n",
        "import pandas as pd\n",
        "import matplotlib.pyplot as plt\n",
        "import matplotlib.ticker as mtick\n",
        "import seaborn as sns\n",
        "import random\n",
        "from sklearn.linear_model import LogisticRegression\n",
        "from sklearn.linear_model import LinearRegression\n",
        "import tensorflow as tf\n",
        "from tensorflow import keras\n",
        "import sportsdataverse"
      ]
    },
    {
      "cell_type": "markdown",
      "source": [
        "Next, we must load in the player game logs that will be used to compile season stats. The `sportsdataverse.mbb.load_mbb_player_boxscore()` function will give us a dataframe including players, their teams, and box score statistics from each game. I chose to use player statistics from 2011-2022 for the sample because it is enough data without going too far back in time. "
      ],
      "metadata": {
        "id": "R3A6v9_pvct_"
      }
    },
    {
      "cell_type": "code",
      "source": [
        "player_box = sportsdataverse.mbb.load_mbb_player_boxscore(seasons = range(2011,2024))\n",
        "player_box.head()"
      ],
      "metadata": {
        "colab": {
          "base_uri": "https://localhost:8080/",
          "height": 404
        },
        "id": "-5HKBLKoN99E",
        "outputId": "6c1dedef-6670-4459-bb30-37a9dddef902"
      },
      "execution_count": 3,
      "outputs": [
        {
          "output_type": "stream",
          "name": "stderr",
          "text": [
            "100%|██████████| 13/13 [00:18<00:00,  1.44s/it]\n"
          ]
        },
        {
          "output_type": "execute_result",
          "data": {
            "text/plain": [
              "  athlete_display_name team_short_display_name min    fg  fg3   ft oreb dreb  \\\n",
              "0        Gavin Gilmore               Seattle U  20   1-6  0-0  2-4    4    0   \n",
              "1      Aaron Broussard               Seattle U  28  4-11  0-2  2-2    3    7   \n",
              "2        Garrett Lever               Seattle U  28   2-3  0-1  2-2    1    3   \n",
              "3     Cervante Burrell               Seattle U  29  6-17  0-0  1-2    0    1   \n",
              "4      Sterling Carter               Seattle U  23  5-14  1-4  0-1    2    0   \n",
              "\n",
              "  reb ast  ... team_name                                          team_logo  \\\n",
              "0   4   0  ...  Redhawks  https://a.espncdn.com/i/teamlogos/ncaa/500/254...   \n",
              "1  10   4  ...  Redhawks  https://a.espncdn.com/i/teamlogos/ncaa/500/254...   \n",
              "2   4   2  ...  Redhawks  https://a.espncdn.com/i/teamlogos/ncaa/500/254...   \n",
              "3   1   2  ...  Redhawks  https://a.espncdn.com/i/teamlogos/ncaa/500/254...   \n",
              "4   2   2  ...  Redhawks  https://a.espncdn.com/i/teamlogos/ncaa/500/254...   \n",
              "\n",
              "  team_id team_abbreviation team_color    game_id  season  season_type  \\\n",
              "0    2547               SEA     BF2E1A  303120120    2011            2   \n",
              "1    2547               SEA     BF2E1A  303120120    2011            2   \n",
              "2    2547               SEA     BF2E1A  303120120    2011            2   \n",
              "3    2547               SEA     BF2E1A  303120120    2011            2   \n",
              "4    2547               SEA     BF2E1A  303120120    2011            2   \n",
              "\n",
              "    game_date athlete_headshot_href  \n",
              "0  2010-11-09                  None  \n",
              "1  2010-11-09                  None  \n",
              "2  2010-11-09                  None  \n",
              "3  2010-11-09                  None  \n",
              "4  2010-11-09                  None  \n",
              "\n",
              "[5 rows x 34 columns]"
            ],
            "text/html": [
              "\n",
              "  <div id=\"df-ba33feaa-da9a-405e-8f24-6a7d3cfb3508\">\n",
              "    <div class=\"colab-df-container\">\n",
              "      <div>\n",
              "<style scoped>\n",
              "    .dataframe tbody tr th:only-of-type {\n",
              "        vertical-align: middle;\n",
              "    }\n",
              "\n",
              "    .dataframe tbody tr th {\n",
              "        vertical-align: top;\n",
              "    }\n",
              "\n",
              "    .dataframe thead th {\n",
              "        text-align: right;\n",
              "    }\n",
              "</style>\n",
              "<table border=\"1\" class=\"dataframe\">\n",
              "  <thead>\n",
              "    <tr style=\"text-align: right;\">\n",
              "      <th></th>\n",
              "      <th>athlete_display_name</th>\n",
              "      <th>team_short_display_name</th>\n",
              "      <th>min</th>\n",
              "      <th>fg</th>\n",
              "      <th>fg3</th>\n",
              "      <th>ft</th>\n",
              "      <th>oreb</th>\n",
              "      <th>dreb</th>\n",
              "      <th>reb</th>\n",
              "      <th>ast</th>\n",
              "      <th>...</th>\n",
              "      <th>team_name</th>\n",
              "      <th>team_logo</th>\n",
              "      <th>team_id</th>\n",
              "      <th>team_abbreviation</th>\n",
              "      <th>team_color</th>\n",
              "      <th>game_id</th>\n",
              "      <th>season</th>\n",
              "      <th>season_type</th>\n",
              "      <th>game_date</th>\n",
              "      <th>athlete_headshot_href</th>\n",
              "    </tr>\n",
              "  </thead>\n",
              "  <tbody>\n",
              "    <tr>\n",
              "      <th>0</th>\n",
              "      <td>Gavin Gilmore</td>\n",
              "      <td>Seattle U</td>\n",
              "      <td>20</td>\n",
              "      <td>1-6</td>\n",
              "      <td>0-0</td>\n",
              "      <td>2-4</td>\n",
              "      <td>4</td>\n",
              "      <td>0</td>\n",
              "      <td>4</td>\n",
              "      <td>0</td>\n",
              "      <td>...</td>\n",
              "      <td>Redhawks</td>\n",
              "      <td>https://a.espncdn.com/i/teamlogos/ncaa/500/254...</td>\n",
              "      <td>2547</td>\n",
              "      <td>SEA</td>\n",
              "      <td>BF2E1A</td>\n",
              "      <td>303120120</td>\n",
              "      <td>2011</td>\n",
              "      <td>2</td>\n",
              "      <td>2010-11-09</td>\n",
              "      <td>None</td>\n",
              "    </tr>\n",
              "    <tr>\n",
              "      <th>1</th>\n",
              "      <td>Aaron Broussard</td>\n",
              "      <td>Seattle U</td>\n",
              "      <td>28</td>\n",
              "      <td>4-11</td>\n",
              "      <td>0-2</td>\n",
              "      <td>2-2</td>\n",
              "      <td>3</td>\n",
              "      <td>7</td>\n",
              "      <td>10</td>\n",
              "      <td>4</td>\n",
              "      <td>...</td>\n",
              "      <td>Redhawks</td>\n",
              "      <td>https://a.espncdn.com/i/teamlogos/ncaa/500/254...</td>\n",
              "      <td>2547</td>\n",
              "      <td>SEA</td>\n",
              "      <td>BF2E1A</td>\n",
              "      <td>303120120</td>\n",
              "      <td>2011</td>\n",
              "      <td>2</td>\n",
              "      <td>2010-11-09</td>\n",
              "      <td>None</td>\n",
              "    </tr>\n",
              "    <tr>\n",
              "      <th>2</th>\n",
              "      <td>Garrett Lever</td>\n",
              "      <td>Seattle U</td>\n",
              "      <td>28</td>\n",
              "      <td>2-3</td>\n",
              "      <td>0-1</td>\n",
              "      <td>2-2</td>\n",
              "      <td>1</td>\n",
              "      <td>3</td>\n",
              "      <td>4</td>\n",
              "      <td>2</td>\n",
              "      <td>...</td>\n",
              "      <td>Redhawks</td>\n",
              "      <td>https://a.espncdn.com/i/teamlogos/ncaa/500/254...</td>\n",
              "      <td>2547</td>\n",
              "      <td>SEA</td>\n",
              "      <td>BF2E1A</td>\n",
              "      <td>303120120</td>\n",
              "      <td>2011</td>\n",
              "      <td>2</td>\n",
              "      <td>2010-11-09</td>\n",
              "      <td>None</td>\n",
              "    </tr>\n",
              "    <tr>\n",
              "      <th>3</th>\n",
              "      <td>Cervante Burrell</td>\n",
              "      <td>Seattle U</td>\n",
              "      <td>29</td>\n",
              "      <td>6-17</td>\n",
              "      <td>0-0</td>\n",
              "      <td>1-2</td>\n",
              "      <td>0</td>\n",
              "      <td>1</td>\n",
              "      <td>1</td>\n",
              "      <td>2</td>\n",
              "      <td>...</td>\n",
              "      <td>Redhawks</td>\n",
              "      <td>https://a.espncdn.com/i/teamlogos/ncaa/500/254...</td>\n",
              "      <td>2547</td>\n",
              "      <td>SEA</td>\n",
              "      <td>BF2E1A</td>\n",
              "      <td>303120120</td>\n",
              "      <td>2011</td>\n",
              "      <td>2</td>\n",
              "      <td>2010-11-09</td>\n",
              "      <td>None</td>\n",
              "    </tr>\n",
              "    <tr>\n",
              "      <th>4</th>\n",
              "      <td>Sterling Carter</td>\n",
              "      <td>Seattle U</td>\n",
              "      <td>23</td>\n",
              "      <td>5-14</td>\n",
              "      <td>1-4</td>\n",
              "      <td>0-1</td>\n",
              "      <td>2</td>\n",
              "      <td>0</td>\n",
              "      <td>2</td>\n",
              "      <td>2</td>\n",
              "      <td>...</td>\n",
              "      <td>Redhawks</td>\n",
              "      <td>https://a.espncdn.com/i/teamlogos/ncaa/500/254...</td>\n",
              "      <td>2547</td>\n",
              "      <td>SEA</td>\n",
              "      <td>BF2E1A</td>\n",
              "      <td>303120120</td>\n",
              "      <td>2011</td>\n",
              "      <td>2</td>\n",
              "      <td>2010-11-09</td>\n",
              "      <td>None</td>\n",
              "    </tr>\n",
              "  </tbody>\n",
              "</table>\n",
              "<p>5 rows × 34 columns</p>\n",
              "</div>\n",
              "      <button class=\"colab-df-convert\" onclick=\"convertToInteractive('df-ba33feaa-da9a-405e-8f24-6a7d3cfb3508')\"\n",
              "              title=\"Convert this dataframe to an interactive table.\"\n",
              "              style=\"display:none;\">\n",
              "        \n",
              "  <svg xmlns=\"http://www.w3.org/2000/svg\" height=\"24px\"viewBox=\"0 0 24 24\"\n",
              "       width=\"24px\">\n",
              "    <path d=\"M0 0h24v24H0V0z\" fill=\"none\"/>\n",
              "    <path d=\"M18.56 5.44l.94 2.06.94-2.06 2.06-.94-2.06-.94-.94-2.06-.94 2.06-2.06.94zm-11 1L8.5 8.5l.94-2.06 2.06-.94-2.06-.94L8.5 2.5l-.94 2.06-2.06.94zm10 10l.94 2.06.94-2.06 2.06-.94-2.06-.94-.94-2.06-.94 2.06-2.06.94z\"/><path d=\"M17.41 7.96l-1.37-1.37c-.4-.4-.92-.59-1.43-.59-.52 0-1.04.2-1.43.59L10.3 9.45l-7.72 7.72c-.78.78-.78 2.05 0 2.83L4 21.41c.39.39.9.59 1.41.59.51 0 1.02-.2 1.41-.59l7.78-7.78 2.81-2.81c.8-.78.8-2.07 0-2.86zM5.41 20L4 18.59l7.72-7.72 1.47 1.35L5.41 20z\"/>\n",
              "  </svg>\n",
              "      </button>\n",
              "      \n",
              "  <style>\n",
              "    .colab-df-container {\n",
              "      display:flex;\n",
              "      flex-wrap:wrap;\n",
              "      gap: 12px;\n",
              "    }\n",
              "\n",
              "    .colab-df-convert {\n",
              "      background-color: #E8F0FE;\n",
              "      border: none;\n",
              "      border-radius: 50%;\n",
              "      cursor: pointer;\n",
              "      display: none;\n",
              "      fill: #1967D2;\n",
              "      height: 32px;\n",
              "      padding: 0 0 0 0;\n",
              "      width: 32px;\n",
              "    }\n",
              "\n",
              "    .colab-df-convert:hover {\n",
              "      background-color: #E2EBFA;\n",
              "      box-shadow: 0px 1px 2px rgba(60, 64, 67, 0.3), 0px 1px 3px 1px rgba(60, 64, 67, 0.15);\n",
              "      fill: #174EA6;\n",
              "    }\n",
              "\n",
              "    [theme=dark] .colab-df-convert {\n",
              "      background-color: #3B4455;\n",
              "      fill: #D2E3FC;\n",
              "    }\n",
              "\n",
              "    [theme=dark] .colab-df-convert:hover {\n",
              "      background-color: #434B5C;\n",
              "      box-shadow: 0px 1px 3px 1px rgba(0, 0, 0, 0.15);\n",
              "      filter: drop-shadow(0px 1px 2px rgba(0, 0, 0, 0.3));\n",
              "      fill: #FFFFFF;\n",
              "    }\n",
              "  </style>\n",
              "\n",
              "      <script>\n",
              "        const buttonEl =\n",
              "          document.querySelector('#df-ba33feaa-da9a-405e-8f24-6a7d3cfb3508 button.colab-df-convert');\n",
              "        buttonEl.style.display =\n",
              "          google.colab.kernel.accessAllowed ? 'block' : 'none';\n",
              "\n",
              "        async function convertToInteractive(key) {\n",
              "          const element = document.querySelector('#df-ba33feaa-da9a-405e-8f24-6a7d3cfb3508');\n",
              "          const dataTable =\n",
              "            await google.colab.kernel.invokeFunction('convertToInteractive',\n",
              "                                                     [key], {});\n",
              "          if (!dataTable) return;\n",
              "\n",
              "          const docLinkHtml = 'Like what you see? Visit the ' +\n",
              "            '<a target=\"_blank\" href=https://colab.research.google.com/notebooks/data_table.ipynb>data table notebook</a>'\n",
              "            + ' to learn more about interactive tables.';\n",
              "          element.innerHTML = '';\n",
              "          dataTable['output_type'] = 'display_data';\n",
              "          await google.colab.output.renderOutput(dataTable, element);\n",
              "          const docLink = document.createElement('div');\n",
              "          docLink.innerHTML = docLinkHtml;\n",
              "          element.appendChild(docLink);\n",
              "        }\n",
              "      </script>\n",
              "    </div>\n",
              "  </div>\n",
              "  "
            ]
          },
          "metadata": {},
          "execution_count": 3
        }
      ]
    },
    {
      "cell_type": "markdown",
      "source": [
        "Right now, the `game_date` variable is a string, but we want it as a date. Converting this variable into a date is helpful because we can establish a cut-off point. I set this date to February 8, 2023, meaning that we will only look at games that took place before this date. This will help with reproducability since the results (for 2023 only) will change after more and more games are played. "
      ],
      "metadata": {
        "id": "PBNGT5bCwBmi"
      }
    },
    {
      "cell_type": "code",
      "source": [
        "CUT_OFF_DATE = '2023-02-12'\n",
        "\n",
        "CUT_OFF_DATE = pd.to_datetime(CUT_OFF_DATE, format = \"%Y-%m-%d\")\n",
        "\n",
        "player_box['game_date'] = pd.to_datetime(player_box['game_date'], format = \"%Y-%m-%d\")\n",
        "player_box = player_box[player_box['game_date'] < CUT_OFF_DATE]"
      ],
      "metadata": {
        "id": "x80FmZtT-Ikr"
      },
      "execution_count": 4,
      "outputs": []
    },
    {
      "cell_type": "markdown",
      "source": [
        "There is some more basic cleaning to do with the shooting statistics. The dataframe gives shooting stats in the form of \"FGM-FGA\" in one column instead of splitting this into two separate columns. The code below splits up the shooting data into shots made and shots attempted for field goals, 3-pointers, and free throws. "
      ],
      "metadata": {
        "id": "msn5zXrDwYKL"
      }
    },
    {
      "cell_type": "code",
      "source": [
        "player_box[[\"FGM\",\"FGA\"]] = player_box.fg.str.split(\"-\", expand = True)\n",
        "player_box[[\"FG3M\",\"FG3A\"]] = player_box.fg3.str.split(\"-\", expand = True)\n",
        "player_box[[\"FTM\",\"FTA\"]] = player_box.ft.str.split(\"-\", expand = True)"
      ],
      "metadata": {
        "id": "OyEnBWF7v_0h"
      },
      "execution_count": 5,
      "outputs": []
    },
    {
      "cell_type": "markdown",
      "source": [
        "There is also a problem with some missing data. Unfortunately, some games do not give the number of minutes played and instead use \"--\" to denote that the number of minutes was not captured. "
      ],
      "metadata": {
        "id": "9yG5SFbywrlR"
      }
    },
    {
      "cell_type": "code",
      "source": [
        "player_box[player_box[\"min\"] == \"--\"]"
      ],
      "metadata": {
        "colab": {
          "base_uri": "https://localhost:8080/",
          "height": 661
        },
        "id": "SDNRHHCbnMg8",
        "outputId": "bc584784-3c35-4691-9469-b03aaf623409"
      },
      "execution_count": 6,
      "outputs": [
        {
          "output_type": "execute_result",
          "data": {
            "text/plain": [
              "       athlete_display_name team_short_display_name min    fg  fg3   ft oreb  \\\n",
              "368134   Michael Rostampour                   Omaha  --   0-2  0-1  0-0    0   \n",
              "368135         John Karhoff                   Omaha  --  4-12  0-1  4-4    1   \n",
              "368136      Devin Patterson                   Omaha  --   4-7  2-5  7-9    1   \n",
              "368137          Marcus Tyus                   Omaha  --  6-13  3-8  1-2    0   \n",
              "368138            CJ Carter                   Omaha  --  6-14  3-5  2-2    0   \n",
              "...                     ...                     ...  ..   ...  ...  ...  ...   \n",
              "988458           Zac Watson            UC Riverside  --   1-3  0-0  2-4    3   \n",
              "988459       Menno Dijkstra            UC Riverside  --   4-7  0-0  2-2    0   \n",
              "988460          DJ McDonald            UC Riverside  --   1-2  1-1  0-0    0   \n",
              "988461       Jordan Gilliam            UC Riverside  --   5-9  1-1  4-7    5   \n",
              "988462         Ryker Pierce            UC Riverside  --   1-3  0-1  0-0    1   \n",
              "\n",
              "       dreb reb ast  ... season season_type  game_date  \\\n",
              "368134    2   2   1  ...   2014           2 2013-11-23   \n",
              "368135    4   5   2  ...   2014           2 2013-11-23   \n",
              "368136    4   5   3  ...   2014           2 2013-11-23   \n",
              "368137    1   1   0  ...   2014           2 2013-11-23   \n",
              "368138    5   5   4  ...   2014           2 2013-11-23   \n",
              "...     ...  ..  ..  ...    ...         ...        ...   \n",
              "988458    2   5   5  ...   2019           2 2019-02-03   \n",
              "988459    1   1   0  ...   2019           2 2019-02-03   \n",
              "988460    1   1   1  ...   2019           2 2019-02-03   \n",
              "988461    1   6   2  ...   2019           2 2019-02-03   \n",
              "988462    0   1   0  ...   2019           2 2019-02-03   \n",
              "\n",
              "                                    athlete_headshot_href FGM  FGA  FG3M  \\\n",
              "368134                                               None   0    2     0   \n",
              "368135                                               None   4   12     0   \n",
              "368136                                               None   4    7     2   \n",
              "368137                                               None   6   13     3   \n",
              "368138                                               None   6   14     3   \n",
              "...                                                   ...  ..  ...   ...   \n",
              "988458  https://a.espncdn.com/i/headshots/mens-college...   1    3     0   \n",
              "988459  https://a.espncdn.com/i/headshots/mens-college...   4    7     0   \n",
              "988460  https://a.espncdn.com/i/headshots/mens-college...   1    2     1   \n",
              "988461  https://a.espncdn.com/i/headshots/mens-college...   5    9     1   \n",
              "988462  https://a.espncdn.com/i/headshots/mens-college...   1    3     0   \n",
              "\n",
              "        FG3A  FTM FTA  \n",
              "368134     1    0   0  \n",
              "368135     1    4   4  \n",
              "368136     5    7   9  \n",
              "368137     8    1   2  \n",
              "368138     5    2   2  \n",
              "...      ...  ...  ..  \n",
              "988458     0    2   4  \n",
              "988459     0    2   2  \n",
              "988460     1    0   0  \n",
              "988461     1    4   7  \n",
              "988462     1    0   0  \n",
              "\n",
              "[478 rows x 40 columns]"
            ],
            "text/html": [
              "\n",
              "  <div id=\"df-0e7aad80-d82f-4f84-942e-395dba59d156\">\n",
              "    <div class=\"colab-df-container\">\n",
              "      <div>\n",
              "<style scoped>\n",
              "    .dataframe tbody tr th:only-of-type {\n",
              "        vertical-align: middle;\n",
              "    }\n",
              "\n",
              "    .dataframe tbody tr th {\n",
              "        vertical-align: top;\n",
              "    }\n",
              "\n",
              "    .dataframe thead th {\n",
              "        text-align: right;\n",
              "    }\n",
              "</style>\n",
              "<table border=\"1\" class=\"dataframe\">\n",
              "  <thead>\n",
              "    <tr style=\"text-align: right;\">\n",
              "      <th></th>\n",
              "      <th>athlete_display_name</th>\n",
              "      <th>team_short_display_name</th>\n",
              "      <th>min</th>\n",
              "      <th>fg</th>\n",
              "      <th>fg3</th>\n",
              "      <th>ft</th>\n",
              "      <th>oreb</th>\n",
              "      <th>dreb</th>\n",
              "      <th>reb</th>\n",
              "      <th>ast</th>\n",
              "      <th>...</th>\n",
              "      <th>season</th>\n",
              "      <th>season_type</th>\n",
              "      <th>game_date</th>\n",
              "      <th>athlete_headshot_href</th>\n",
              "      <th>FGM</th>\n",
              "      <th>FGA</th>\n",
              "      <th>FG3M</th>\n",
              "      <th>FG3A</th>\n",
              "      <th>FTM</th>\n",
              "      <th>FTA</th>\n",
              "    </tr>\n",
              "  </thead>\n",
              "  <tbody>\n",
              "    <tr>\n",
              "      <th>368134</th>\n",
              "      <td>Michael Rostampour</td>\n",
              "      <td>Omaha</td>\n",
              "      <td>--</td>\n",
              "      <td>0-2</td>\n",
              "      <td>0-1</td>\n",
              "      <td>0-0</td>\n",
              "      <td>0</td>\n",
              "      <td>2</td>\n",
              "      <td>2</td>\n",
              "      <td>1</td>\n",
              "      <td>...</td>\n",
              "      <td>2014</td>\n",
              "      <td>2</td>\n",
              "      <td>2013-11-23</td>\n",
              "      <td>None</td>\n",
              "      <td>0</td>\n",
              "      <td>2</td>\n",
              "      <td>0</td>\n",
              "      <td>1</td>\n",
              "      <td>0</td>\n",
              "      <td>0</td>\n",
              "    </tr>\n",
              "    <tr>\n",
              "      <th>368135</th>\n",
              "      <td>John Karhoff</td>\n",
              "      <td>Omaha</td>\n",
              "      <td>--</td>\n",
              "      <td>4-12</td>\n",
              "      <td>0-1</td>\n",
              "      <td>4-4</td>\n",
              "      <td>1</td>\n",
              "      <td>4</td>\n",
              "      <td>5</td>\n",
              "      <td>2</td>\n",
              "      <td>...</td>\n",
              "      <td>2014</td>\n",
              "      <td>2</td>\n",
              "      <td>2013-11-23</td>\n",
              "      <td>None</td>\n",
              "      <td>4</td>\n",
              "      <td>12</td>\n",
              "      <td>0</td>\n",
              "      <td>1</td>\n",
              "      <td>4</td>\n",
              "      <td>4</td>\n",
              "    </tr>\n",
              "    <tr>\n",
              "      <th>368136</th>\n",
              "      <td>Devin Patterson</td>\n",
              "      <td>Omaha</td>\n",
              "      <td>--</td>\n",
              "      <td>4-7</td>\n",
              "      <td>2-5</td>\n",
              "      <td>7-9</td>\n",
              "      <td>1</td>\n",
              "      <td>4</td>\n",
              "      <td>5</td>\n",
              "      <td>3</td>\n",
              "      <td>...</td>\n",
              "      <td>2014</td>\n",
              "      <td>2</td>\n",
              "      <td>2013-11-23</td>\n",
              "      <td>None</td>\n",
              "      <td>4</td>\n",
              "      <td>7</td>\n",
              "      <td>2</td>\n",
              "      <td>5</td>\n",
              "      <td>7</td>\n",
              "      <td>9</td>\n",
              "    </tr>\n",
              "    <tr>\n",
              "      <th>368137</th>\n",
              "      <td>Marcus Tyus</td>\n",
              "      <td>Omaha</td>\n",
              "      <td>--</td>\n",
              "      <td>6-13</td>\n",
              "      <td>3-8</td>\n",
              "      <td>1-2</td>\n",
              "      <td>0</td>\n",
              "      <td>1</td>\n",
              "      <td>1</td>\n",
              "      <td>0</td>\n",
              "      <td>...</td>\n",
              "      <td>2014</td>\n",
              "      <td>2</td>\n",
              "      <td>2013-11-23</td>\n",
              "      <td>None</td>\n",
              "      <td>6</td>\n",
              "      <td>13</td>\n",
              "      <td>3</td>\n",
              "      <td>8</td>\n",
              "      <td>1</td>\n",
              "      <td>2</td>\n",
              "    </tr>\n",
              "    <tr>\n",
              "      <th>368138</th>\n",
              "      <td>CJ Carter</td>\n",
              "      <td>Omaha</td>\n",
              "      <td>--</td>\n",
              "      <td>6-14</td>\n",
              "      <td>3-5</td>\n",
              "      <td>2-2</td>\n",
              "      <td>0</td>\n",
              "      <td>5</td>\n",
              "      <td>5</td>\n",
              "      <td>4</td>\n",
              "      <td>...</td>\n",
              "      <td>2014</td>\n",
              "      <td>2</td>\n",
              "      <td>2013-11-23</td>\n",
              "      <td>None</td>\n",
              "      <td>6</td>\n",
              "      <td>14</td>\n",
              "      <td>3</td>\n",
              "      <td>5</td>\n",
              "      <td>2</td>\n",
              "      <td>2</td>\n",
              "    </tr>\n",
              "    <tr>\n",
              "      <th>...</th>\n",
              "      <td>...</td>\n",
              "      <td>...</td>\n",
              "      <td>...</td>\n",
              "      <td>...</td>\n",
              "      <td>...</td>\n",
              "      <td>...</td>\n",
              "      <td>...</td>\n",
              "      <td>...</td>\n",
              "      <td>...</td>\n",
              "      <td>...</td>\n",
              "      <td>...</td>\n",
              "      <td>...</td>\n",
              "      <td>...</td>\n",
              "      <td>...</td>\n",
              "      <td>...</td>\n",
              "      <td>...</td>\n",
              "      <td>...</td>\n",
              "      <td>...</td>\n",
              "      <td>...</td>\n",
              "      <td>...</td>\n",
              "      <td>...</td>\n",
              "    </tr>\n",
              "    <tr>\n",
              "      <th>988458</th>\n",
              "      <td>Zac Watson</td>\n",
              "      <td>UC Riverside</td>\n",
              "      <td>--</td>\n",
              "      <td>1-3</td>\n",
              "      <td>0-0</td>\n",
              "      <td>2-4</td>\n",
              "      <td>3</td>\n",
              "      <td>2</td>\n",
              "      <td>5</td>\n",
              "      <td>5</td>\n",
              "      <td>...</td>\n",
              "      <td>2019</td>\n",
              "      <td>2</td>\n",
              "      <td>2019-02-03</td>\n",
              "      <td>https://a.espncdn.com/i/headshots/mens-college...</td>\n",
              "      <td>1</td>\n",
              "      <td>3</td>\n",
              "      <td>0</td>\n",
              "      <td>0</td>\n",
              "      <td>2</td>\n",
              "      <td>4</td>\n",
              "    </tr>\n",
              "    <tr>\n",
              "      <th>988459</th>\n",
              "      <td>Menno Dijkstra</td>\n",
              "      <td>UC Riverside</td>\n",
              "      <td>--</td>\n",
              "      <td>4-7</td>\n",
              "      <td>0-0</td>\n",
              "      <td>2-2</td>\n",
              "      <td>0</td>\n",
              "      <td>1</td>\n",
              "      <td>1</td>\n",
              "      <td>0</td>\n",
              "      <td>...</td>\n",
              "      <td>2019</td>\n",
              "      <td>2</td>\n",
              "      <td>2019-02-03</td>\n",
              "      <td>https://a.espncdn.com/i/headshots/mens-college...</td>\n",
              "      <td>4</td>\n",
              "      <td>7</td>\n",
              "      <td>0</td>\n",
              "      <td>0</td>\n",
              "      <td>2</td>\n",
              "      <td>2</td>\n",
              "    </tr>\n",
              "    <tr>\n",
              "      <th>988460</th>\n",
              "      <td>DJ McDonald</td>\n",
              "      <td>UC Riverside</td>\n",
              "      <td>--</td>\n",
              "      <td>1-2</td>\n",
              "      <td>1-1</td>\n",
              "      <td>0-0</td>\n",
              "      <td>0</td>\n",
              "      <td>1</td>\n",
              "      <td>1</td>\n",
              "      <td>1</td>\n",
              "      <td>...</td>\n",
              "      <td>2019</td>\n",
              "      <td>2</td>\n",
              "      <td>2019-02-03</td>\n",
              "      <td>https://a.espncdn.com/i/headshots/mens-college...</td>\n",
              "      <td>1</td>\n",
              "      <td>2</td>\n",
              "      <td>1</td>\n",
              "      <td>1</td>\n",
              "      <td>0</td>\n",
              "      <td>0</td>\n",
              "    </tr>\n",
              "    <tr>\n",
              "      <th>988461</th>\n",
              "      <td>Jordan Gilliam</td>\n",
              "      <td>UC Riverside</td>\n",
              "      <td>--</td>\n",
              "      <td>5-9</td>\n",
              "      <td>1-1</td>\n",
              "      <td>4-7</td>\n",
              "      <td>5</td>\n",
              "      <td>1</td>\n",
              "      <td>6</td>\n",
              "      <td>2</td>\n",
              "      <td>...</td>\n",
              "      <td>2019</td>\n",
              "      <td>2</td>\n",
              "      <td>2019-02-03</td>\n",
              "      <td>https://a.espncdn.com/i/headshots/mens-college...</td>\n",
              "      <td>5</td>\n",
              "      <td>9</td>\n",
              "      <td>1</td>\n",
              "      <td>1</td>\n",
              "      <td>4</td>\n",
              "      <td>7</td>\n",
              "    </tr>\n",
              "    <tr>\n",
              "      <th>988462</th>\n",
              "      <td>Ryker Pierce</td>\n",
              "      <td>UC Riverside</td>\n",
              "      <td>--</td>\n",
              "      <td>1-3</td>\n",
              "      <td>0-1</td>\n",
              "      <td>0-0</td>\n",
              "      <td>1</td>\n",
              "      <td>0</td>\n",
              "      <td>1</td>\n",
              "      <td>0</td>\n",
              "      <td>...</td>\n",
              "      <td>2019</td>\n",
              "      <td>2</td>\n",
              "      <td>2019-02-03</td>\n",
              "      <td>https://a.espncdn.com/i/headshots/mens-college...</td>\n",
              "      <td>1</td>\n",
              "      <td>3</td>\n",
              "      <td>0</td>\n",
              "      <td>1</td>\n",
              "      <td>0</td>\n",
              "      <td>0</td>\n",
              "    </tr>\n",
              "  </tbody>\n",
              "</table>\n",
              "<p>478 rows × 40 columns</p>\n",
              "</div>\n",
              "      <button class=\"colab-df-convert\" onclick=\"convertToInteractive('df-0e7aad80-d82f-4f84-942e-395dba59d156')\"\n",
              "              title=\"Convert this dataframe to an interactive table.\"\n",
              "              style=\"display:none;\">\n",
              "        \n",
              "  <svg xmlns=\"http://www.w3.org/2000/svg\" height=\"24px\"viewBox=\"0 0 24 24\"\n",
              "       width=\"24px\">\n",
              "    <path d=\"M0 0h24v24H0V0z\" fill=\"none\"/>\n",
              "    <path d=\"M18.56 5.44l.94 2.06.94-2.06 2.06-.94-2.06-.94-.94-2.06-.94 2.06-2.06.94zm-11 1L8.5 8.5l.94-2.06 2.06-.94-2.06-.94L8.5 2.5l-.94 2.06-2.06.94zm10 10l.94 2.06.94-2.06 2.06-.94-2.06-.94-.94-2.06-.94 2.06-2.06.94z\"/><path d=\"M17.41 7.96l-1.37-1.37c-.4-.4-.92-.59-1.43-.59-.52 0-1.04.2-1.43.59L10.3 9.45l-7.72 7.72c-.78.78-.78 2.05 0 2.83L4 21.41c.39.39.9.59 1.41.59.51 0 1.02-.2 1.41-.59l7.78-7.78 2.81-2.81c.8-.78.8-2.07 0-2.86zM5.41 20L4 18.59l7.72-7.72 1.47 1.35L5.41 20z\"/>\n",
              "  </svg>\n",
              "      </button>\n",
              "      \n",
              "  <style>\n",
              "    .colab-df-container {\n",
              "      display:flex;\n",
              "      flex-wrap:wrap;\n",
              "      gap: 12px;\n",
              "    }\n",
              "\n",
              "    .colab-df-convert {\n",
              "      background-color: #E8F0FE;\n",
              "      border: none;\n",
              "      border-radius: 50%;\n",
              "      cursor: pointer;\n",
              "      display: none;\n",
              "      fill: #1967D2;\n",
              "      height: 32px;\n",
              "      padding: 0 0 0 0;\n",
              "      width: 32px;\n",
              "    }\n",
              "\n",
              "    .colab-df-convert:hover {\n",
              "      background-color: #E2EBFA;\n",
              "      box-shadow: 0px 1px 2px rgba(60, 64, 67, 0.3), 0px 1px 3px 1px rgba(60, 64, 67, 0.15);\n",
              "      fill: #174EA6;\n",
              "    }\n",
              "\n",
              "    [theme=dark] .colab-df-convert {\n",
              "      background-color: #3B4455;\n",
              "      fill: #D2E3FC;\n",
              "    }\n",
              "\n",
              "    [theme=dark] .colab-df-convert:hover {\n",
              "      background-color: #434B5C;\n",
              "      box-shadow: 0px 1px 3px 1px rgba(0, 0, 0, 0.15);\n",
              "      filter: drop-shadow(0px 1px 2px rgba(0, 0, 0, 0.3));\n",
              "      fill: #FFFFFF;\n",
              "    }\n",
              "  </style>\n",
              "\n",
              "      <script>\n",
              "        const buttonEl =\n",
              "          document.querySelector('#df-0e7aad80-d82f-4f84-942e-395dba59d156 button.colab-df-convert');\n",
              "        buttonEl.style.display =\n",
              "          google.colab.kernel.accessAllowed ? 'block' : 'none';\n",
              "\n",
              "        async function convertToInteractive(key) {\n",
              "          const element = document.querySelector('#df-0e7aad80-d82f-4f84-942e-395dba59d156');\n",
              "          const dataTable =\n",
              "            await google.colab.kernel.invokeFunction('convertToInteractive',\n",
              "                                                     [key], {});\n",
              "          if (!dataTable) return;\n",
              "\n",
              "          const docLinkHtml = 'Like what you see? Visit the ' +\n",
              "            '<a target=\"_blank\" href=https://colab.research.google.com/notebooks/data_table.ipynb>data table notebook</a>'\n",
              "            + ' to learn more about interactive tables.';\n",
              "          element.innerHTML = '';\n",
              "          dataTable['output_type'] = 'display_data';\n",
              "          await google.colab.output.renderOutput(dataTable, element);\n",
              "          const docLink = document.createElement('div');\n",
              "          docLink.innerHTML = docLinkHtml;\n",
              "          element.appendChild(docLink);\n",
              "        }\n",
              "      </script>\n",
              "    </div>\n",
              "  </div>\n",
              "  "
            ]
          },
          "metadata": {},
          "execution_count": 6
        }
      ]
    },
    {
      "cell_type": "markdown",
      "source": [
        "To fix this problem without removing the data with missing minutes, we can use a multiple linear regression to get a good estimation of how many minutes each player played based on his box-score stats. The dataframe originally loaded all the statistics as strings, so they need to be converted to numeric values. In addition, I converted the `starter` variable into a dummy variable so it could also be used in the regression."
      ],
      "metadata": {
        "id": "O8s0wsXZw3fr"
      }
    },
    {
      "cell_type": "code",
      "source": [
        "player_box[\"starter\"] = np.select([player_box[\"starter\"] == True, player_box[\"starter\"] == False],\n",
        "                                   [1,0])\n",
        "cols = [\"min\",\"FGM\",\"FGA\",\"FG3M\",\"FG3A\",\"FTM\",\"FTA\",\"oreb\",\"dreb\",\"ast\",\"stl\",\"blk\",\"to\",\"pf\",\"pts\"]\n",
        "player_box[cols] = player_box[cols].apply(pd.to_numeric, errors='coerce')"
      ],
      "metadata": {
        "id": "4Kc6QsAU3S5g"
      },
      "execution_count": 7,
      "outputs": []
    },
    {
      "cell_type": "markdown",
      "source": [
        "Its important to note that missing data could be inconsistent. It is likely that some missing data for minutes played was recorded as \"0\" instead of \"--\", meaning some of are values are still off. To explore further, we can look at team-games where the total number of player minutes was 0. "
      ],
      "metadata": {
        "id": "XxhpQbKo4Ji0"
      }
    },
    {
      "cell_type": "code",
      "source": [
        "check_teams = player_box.groupby([\"team_short_display_name\",\"game_date\"]).agg({'min': ['sum']})\n",
        "check_teams.columns = ['total_min']\n",
        "no_mins = check_teams[check_teams[\"total_min\"] == 0]\n",
        "print(no_mins.shape)\n",
        "print(no_mins.head())"
      ],
      "metadata": {
        "colab": {
          "base_uri": "https://localhost:8080/"
        },
        "id": "0E8I3U8RACwM",
        "outputId": "8a15e36c-e11b-4441-ec55-3f84c0b41613"
      },
      "execution_count": 8,
      "outputs": [
        {
          "output_type": "stream",
          "name": "stdout",
          "text": [
            "(70, 1)\n",
            "                                    total_min\n",
            "team_short_display_name game_date            \n",
            "Akron                   2019-02-13        0.0\n",
            "Arizona                 2014-03-08        0.0\n",
            "Arkansas                2014-11-26        0.0\n",
            "Austin Peay             2013-11-23        0.0\n",
            "Belmont                 2018-11-24        0.0\n"
          ]
        }
      ]
    },
    {
      "cell_type": "markdown",
      "source": [
        "Now that we know what data is missing, we can start to create the data to train the minutes regression. The model can be trained by the players who did not have missing data. "
      ],
      "metadata": {
        "id": "ocyD0GXd5Hlv"
      }
    },
    {
      "cell_type": "code",
      "source": [
        "player_box = player_box.merge(check_teams, on = ['team_short_display_name','game_date'], how = 'left')"
      ],
      "metadata": {
        "id": "9e2oc5YSBfnR"
      },
      "execution_count": 9,
      "outputs": []
    },
    {
      "cell_type": "code",
      "source": [
        "minutes_est = player_box[[\"min\",\"FGA\",\"FG3A\",\"FTA\",\"oreb\",\"dreb\",\"ast\",\"stl\",\"blk\",\"to\",\"pf\",\"starter\",\"total_min\"]]\n",
        "minutes_est_train = minutes_est[(minutes_est['min'].isnull() == False) & (minutes_est['total_min'] != 0)]\n",
        "minutes_est_train = minutes_est_train.drop([\"total_min\"], axis = 1)"
      ],
      "metadata": {
        "id": "QtNYDdgJOzKR"
      },
      "execution_count": 10,
      "outputs": []
    },
    {
      "cell_type": "markdown",
      "source": [
        "Now that the data is ready for use, we can use it to model the minutes played in a game. The code below separates the independent variables from the dependent variables and fits the linear regression."
      ],
      "metadata": {
        "id": "75S2cmdlxXaG"
      }
    },
    {
      "cell_type": "code",
      "source": [
        "mins_x = np.array(minutes_est_train)[:, 1:12]\n",
        "mins_y = np.array(minutes_est_train)[:, 0]\n",
        "\n",
        "min_fit = LinearRegression()\n",
        "min_fit.fit(mins_x, mins_y)"
      ],
      "metadata": {
        "colab": {
          "base_uri": "https://localhost:8080/"
        },
        "id": "zfxOhDwEozuE",
        "outputId": "1a0bb1cf-546e-48d2-a5a0-672513f0d8d5"
      },
      "execution_count": 11,
      "outputs": [
        {
          "output_type": "execute_result",
          "data": {
            "text/plain": [
              "LinearRegression()"
            ]
          },
          "metadata": {},
          "execution_count": 11
        }
      ]
    },
    {
      "cell_type": "markdown",
      "source": [
        "To get the estimated minutes played for those missing the data, we just apply the predictions from the linear regression to the dataset and allow the `min` variable to be the actual minutes if it was recorded. Otherwise, we use the expected minutes from the regression if it is missing. The first code chunk shows that the predicted minutes array has the same length as the number of rows from the box scores dataframe. Therefore we can add it on to the box scores dataframe. The second code chunk converts the variables to numeric and substitutes the expected minutes for `min` for players with missing minutes data. It also shows that there is no more missing data for `min` after this."
      ],
      "metadata": {
        "id": "EjBRFf2Axl55"
      }
    },
    {
      "cell_type": "code",
      "source": [
        "predicted_mins = min_fit.predict(np.array(minutes_est)[:, 1:12])\n",
        "print(predicted_mins.shape)\n",
        "print(player_box.shape)"
      ],
      "metadata": {
        "colab": {
          "base_uri": "https://localhost:8080/"
        },
        "id": "fIWXxA0Iprya",
        "outputId": "d2669603-399c-4885-98ee-0389810c4acd"
      },
      "execution_count": 12,
      "outputs": [
        {
          "output_type": "stream",
          "name": "stdout",
          "text": [
            "(1464572,)\n",
            "(1464572, 41)\n"
          ]
        }
      ]
    },
    {
      "cell_type": "code",
      "source": [
        "player_box[\"yhat_min\"] = predicted_mins\n",
        "\n",
        "player_box[\"min\"] = np.select([(player_box[\"min\"].isnull()) | (player_box[\"total_min\"] == 0)],\n",
        "                              [player_box[\"yhat_min\"]],\n",
        "                              default = player_box['min'])\n",
        "\n",
        "print(player_box[player_box[\"min\"].isnull()])\n"
      ],
      "metadata": {
        "id": "m8D-XevRq5oX",
        "colab": {
          "base_uri": "https://localhost:8080/"
        },
        "outputId": "6e868765-d670-4e5d-a777-80de84491897"
      },
      "execution_count": 13,
      "outputs": [
        {
          "output_type": "stream",
          "name": "stdout",
          "text": [
            "Empty DataFrame\n",
            "Columns: [athlete_display_name, team_short_display_name, min, fg, fg3, ft, oreb, dreb, reb, ast, stl, blk, to, pf, pts, starter, ejected, did_not_play, active, athlete_jersey, athlete_id, athlete_short_name, athlete_position_name, athlete_position_abbreviation, team_name, team_logo, team_id, team_abbreviation, team_color, game_id, season, season_type, game_date, athlete_headshot_href, FGM, FGA, FG3M, FG3A, FTM, FTA, total_min, yhat_min]\n",
            "Index: []\n",
            "\n",
            "[0 rows x 42 columns]\n"
          ]
        }
      ]
    },
    {
      "cell_type": "markdown",
      "source": [
        "The data is now clean for the most part. To do the analysis, I want to use per-possession stats in order to decrease the effects of pace and playing time on the results. The number of possessions played can be estimated by taking the proportion of minutes played and multiplying by team possessions (which is roughly given by FGA + 0.4*FTA + TOV - OREB)."
      ],
      "metadata": {
        "id": "S7MXqCt-O3VK"
      }
    },
    {
      "cell_type": "code",
      "source": [
        "team_poss = player_box.groupby([\"team_short_display_name\",\"game_date\"])[[\"min\",\"FGA\",\"to\",\"oreb\",\"FTA\"]].sum()\n",
        "team_poss.columns = ['tm_min','tm_FGA','tm_TOV','tm_OREB','tm_FTA']\n",
        "player_box = player_box.merge(team_poss, on = [\"team_short_display_name\",\"game_date\"], how = 'left')\n",
        "player_box = player_box.assign(Est_Poss = lambda x: x[\"min\"]/(x[\"tm_min\"]/5) * (x['tm_FGA'] + x['tm_TOV'] - x['tm_OREB'] + 0.4*x['tm_FTA']))"
      ],
      "metadata": {
        "id": "c-GPkPbjkZIn"
      },
      "execution_count": 14,
      "outputs": []
    },
    {
      "cell_type": "markdown",
      "source": [
        "The following code calculates the sum of the given variables below for each player in each season to get their season stats. Then the variables are renamed. "
      ],
      "metadata": {
        "id": "WvgTy1R_PyDo"
      }
    },
    {
      "cell_type": "code",
      "source": [
        "sum_cols = [\"Est_Poss\",\"min\",\"FGM\",\"FGA\",\"FG3M\",\"FG3A\",\"FTM\",\"FTA\",\"oreb\",\"dreb\",\"ast\",\"stl\",\"blk\",\"to\",\"pf\",\"pts\"]\n",
        "\n",
        "players = player_box.groupby([\"athlete_display_name\",\"team_short_display_name\",\"season\"], as_index = False)[sum_cols].sum()\n",
        "players = players.rename({\"athlete_display_name\" : \"Player\", \"team_short_display_name\" : \"School\", \"season\" : \"Season\",\n",
        "                          \"Est_Poss\" : \"POSS\", \"min\" : \"MIN\", \"oreb\" : \"OREB\", \"dreb\" : \"DREB\", \"ast\" : \"AST\", \n",
        "                          \"stl\" : \"STL\", \"blk\" : \"BLK\", \"to\" : \"TOV\", \"pf\" : \"PF\", \"pts\" : \"PTS\"}, axis = 1)"
      ],
      "metadata": {
        "id": "7ZzFmOfTmtk-"
      },
      "execution_count": 15,
      "outputs": []
    },
    {
      "cell_type": "markdown",
      "source": [
        "The next thing to do is get the team statistics. I chose to use some of KenPom's efficiency statistics to get a good measure of team quality. The `kp_mapping` dataset provides a conversion from the team names of the espn box score data to the team names of the KenPom data. The `school_stats` data includes team efficiency stats as of February 11, 2023. (Note: I gathered the KenPom data using the `kp_pomeroy_ratings` function from the `hoopR` package in R; all this data is available without a KenPom subscription)"
      ],
      "metadata": {
        "id": "1FCWFwOjQeBz"
      }
    },
    {
      "cell_type": "code",
      "source": [
        "school_stats = pd.read_csv(\"https://raw.githubusercontent.com/AyushBatra15/All-Americans/main/kp_team.csv\")\n",
        "kp_mapping = pd.read_csv(\"https://raw.githubusercontent.com/AyushBatra15/All-Americans/main/kp_mapping.csv\")"
      ],
      "metadata": {
        "id": "Zd-UVgZjn5Hd"
      },
      "execution_count": 16,
      "outputs": []
    },
    {
      "cell_type": "markdown",
      "source": [
        "The KenPom data comes with win-loss record as a string with wins and losses separated by a hyphen. To get a win-loss percentage, I split the win loss column into 2 separate variables, made them numeric, then calculated team games played and win percentage. Lastly, I selected only the relevant variables. "
      ],
      "metadata": {
        "id": "SntC-0UgRHd0"
      }
    },
    {
      "cell_type": "code",
      "source": [
        "school_stats[[\"W\",\"L\"]] = school_stats.w_l.str.split(\"-\", expand = True)\n",
        "school_stats[[\"W\",\"L\"]] = school_stats[[\"W\",\"L\"]].apply(pd.to_numeric, errors = \"coerce\")\n",
        "school_stats = school_stats.assign(games = lambda x: x[\"W\"] + x[\"L\"])\n",
        "school_stats = school_stats.assign(WP = lambda x: x[\"W\"]/x[\"games\"])\n",
        "school_stats = school_stats[[\"rk\",\"team\",\"year\",\"games\",\"WP\",\"adj_o\",\"adj_d\",\"adj_t\",\"sos_opp_o\",\"sos_opp_d\"]]"
      ],
      "metadata": {
        "id": "bZKejeeMsN0H"
      },
      "execution_count": 17,
      "outputs": []
    },
    {
      "cell_type": "markdown",
      "source": [
        "After looking through the both the KenPom data and the espn box score data, it occurred to me that almost all of the state schools have \"St.\" instead of \"State\" in their KenPom name. To create some matches, I added a period to school names that ended in \"St\" in the espn data. In addition, I converted any schools that had \"State\" in their name to have \"St.\" instead. "
      ],
      "metadata": {
        "id": "W1xRRtWUSn59"
      }
    },
    {
      "cell_type": "code",
      "source": [
        "players[\"School\"] = np.select([players[\"School\"].str[-2:] == \"St\"],\n",
        "                              [players[\"School\"] + \".\"],\n",
        "                              default = players[\"School\"])"
      ],
      "metadata": {
        "id": "Yo1pCj9yssFz"
      },
      "execution_count": 18,
      "outputs": []
    },
    {
      "cell_type": "code",
      "source": [
        "players[\"School\"] = players[\"School\"].str.replace(\"State\", \"St.\")"
      ],
      "metadata": {
        "id": "sASsdN65wamt"
      },
      "execution_count": 19,
      "outputs": []
    },
    {
      "cell_type": "markdown",
      "source": [
        "There are some matches in the KenPom school names and ESPN school names without further editing. Therefore, we can merge these datasets for at least some players. However, there are still schools like UMass, Western KY, and Cent Michigan without matches in the KenPom data. This is where the `kp_mapping` dataset comes into play."
      ],
      "metadata": {
        "id": "uqyWhTcwTTe6"
      }
    },
    {
      "cell_type": "code",
      "source": [
        "players = players.merge(school_stats, left_on = [\"School\",\"Season\"], right_on = [\"team\",\"year\"], how = 'left')"
      ],
      "metadata": {
        "id": "QSCxUzGhxPM6"
      },
      "execution_count": 20,
      "outputs": []
    },
    {
      "cell_type": "code",
      "source": [
        "no_match = players[players['rk'].isnull()]\n",
        "no_match.sort_values(by = 'POSS', ascending = False)"
      ],
      "metadata": {
        "colab": {
          "base_uri": "https://localhost:8080/",
          "height": 661
        },
        "id": "hibI9TCCyB-i",
        "outputId": "47927055-9dae-46bf-cd5d-b134769c96ea"
      },
      "execution_count": 21,
      "outputs": [
        {
          "output_type": "execute_result",
          "data": {
            "text/plain": [
              "                      Player          School  Season         POSS     MIN  \\\n",
              "17093          Chaz Williams           UMass    2012  2383.608444  1291.0   \n",
              "24410        Darius Thompson      Western KY    2018  2345.272778  1354.0   \n",
              "11413         Braylon Rayson   Cent Michigan    2017  2306.234444  1192.0   \n",
              "67879           Marcus Keene   Cent Michigan    2017  2280.760556  1179.0   \n",
              "91599  Taveion Hollingsworth      Western KY    2018  2273.971944  1312.0   \n",
              "...                      ...             ...     ...          ...     ...   \n",
              "32795          Elijah Watson   UT Rio Grande    2014     0.000000     0.0   \n",
              "19663              Cody Mann   Florida Int'l    2015     0.000000     0.0   \n",
              "51320            John Walker  Brewton-Parker    2015     0.000000     0.0   \n",
              "63315       La'Darius Carter           Miles    2018     0.000000     0.0   \n",
              "76216           Nick Bridges    Lenoir Rhyne    2019     0.000000     0.0   \n",
              "\n",
              "       FGM  FGA  FG3M  FG3A  FTM  ...  rk  team  year  games  WP  adj_o  \\\n",
              "17093  195  476    62   148  175  ... NaN   NaN   NaN    NaN NaN    NaN   \n",
              "24410  177  382    54   152  109  ... NaN   NaN   NaN    NaN NaN    NaN   \n",
              "11413  209  548    93   257  168  ... NaN   NaN   NaN    NaN NaN    NaN   \n",
              "67879  313  701   125   341  208  ... NaN   NaN   NaN    NaN NaN    NaN   \n",
              "91599  170  354    45   119  121  ... NaN   NaN   NaN    NaN NaN    NaN   \n",
              "...    ...  ...   ...   ...  ...  ...  ..   ...   ...    ...  ..    ...   \n",
              "32795    0    0     0     0    0  ... NaN   NaN   NaN    NaN NaN    NaN   \n",
              "19663    0    1     0     1    0  ... NaN   NaN   NaN    NaN NaN    NaN   \n",
              "51320    0    1     0     1    0  ... NaN   NaN   NaN    NaN NaN    NaN   \n",
              "63315    0    0     0     0    0  ... NaN   NaN   NaN    NaN NaN    NaN   \n",
              "76216    0    0     0     0    0  ... NaN   NaN   NaN    NaN NaN    NaN   \n",
              "\n",
              "       adj_d  adj_t  sos_opp_o  sos_opp_d  \n",
              "17093    NaN    NaN        NaN        NaN  \n",
              "24410    NaN    NaN        NaN        NaN  \n",
              "11413    NaN    NaN        NaN        NaN  \n",
              "67879    NaN    NaN        NaN        NaN  \n",
              "91599    NaN    NaN        NaN        NaN  \n",
              "...      ...    ...        ...        ...  \n",
              "32795    NaN    NaN        NaN        NaN  \n",
              "19663    NaN    NaN        NaN        NaN  \n",
              "51320    NaN    NaN        NaN        NaN  \n",
              "63315    NaN    NaN        NaN        NaN  \n",
              "76216    NaN    NaN        NaN        NaN  \n",
              "\n",
              "[53138 rows x 29 columns]"
            ],
            "text/html": [
              "\n",
              "  <div id=\"df-8eb32b5d-fa7d-4bef-9073-858357de16ba\">\n",
              "    <div class=\"colab-df-container\">\n",
              "      <div>\n",
              "<style scoped>\n",
              "    .dataframe tbody tr th:only-of-type {\n",
              "        vertical-align: middle;\n",
              "    }\n",
              "\n",
              "    .dataframe tbody tr th {\n",
              "        vertical-align: top;\n",
              "    }\n",
              "\n",
              "    .dataframe thead th {\n",
              "        text-align: right;\n",
              "    }\n",
              "</style>\n",
              "<table border=\"1\" class=\"dataframe\">\n",
              "  <thead>\n",
              "    <tr style=\"text-align: right;\">\n",
              "      <th></th>\n",
              "      <th>Player</th>\n",
              "      <th>School</th>\n",
              "      <th>Season</th>\n",
              "      <th>POSS</th>\n",
              "      <th>MIN</th>\n",
              "      <th>FGM</th>\n",
              "      <th>FGA</th>\n",
              "      <th>FG3M</th>\n",
              "      <th>FG3A</th>\n",
              "      <th>FTM</th>\n",
              "      <th>...</th>\n",
              "      <th>rk</th>\n",
              "      <th>team</th>\n",
              "      <th>year</th>\n",
              "      <th>games</th>\n",
              "      <th>WP</th>\n",
              "      <th>adj_o</th>\n",
              "      <th>adj_d</th>\n",
              "      <th>adj_t</th>\n",
              "      <th>sos_opp_o</th>\n",
              "      <th>sos_opp_d</th>\n",
              "    </tr>\n",
              "  </thead>\n",
              "  <tbody>\n",
              "    <tr>\n",
              "      <th>17093</th>\n",
              "      <td>Chaz Williams</td>\n",
              "      <td>UMass</td>\n",
              "      <td>2012</td>\n",
              "      <td>2383.608444</td>\n",
              "      <td>1291.0</td>\n",
              "      <td>195</td>\n",
              "      <td>476</td>\n",
              "      <td>62</td>\n",
              "      <td>148</td>\n",
              "      <td>175</td>\n",
              "      <td>...</td>\n",
              "      <td>NaN</td>\n",
              "      <td>NaN</td>\n",
              "      <td>NaN</td>\n",
              "      <td>NaN</td>\n",
              "      <td>NaN</td>\n",
              "      <td>NaN</td>\n",
              "      <td>NaN</td>\n",
              "      <td>NaN</td>\n",
              "      <td>NaN</td>\n",
              "      <td>NaN</td>\n",
              "    </tr>\n",
              "    <tr>\n",
              "      <th>24410</th>\n",
              "      <td>Darius Thompson</td>\n",
              "      <td>Western KY</td>\n",
              "      <td>2018</td>\n",
              "      <td>2345.272778</td>\n",
              "      <td>1354.0</td>\n",
              "      <td>177</td>\n",
              "      <td>382</td>\n",
              "      <td>54</td>\n",
              "      <td>152</td>\n",
              "      <td>109</td>\n",
              "      <td>...</td>\n",
              "      <td>NaN</td>\n",
              "      <td>NaN</td>\n",
              "      <td>NaN</td>\n",
              "      <td>NaN</td>\n",
              "      <td>NaN</td>\n",
              "      <td>NaN</td>\n",
              "      <td>NaN</td>\n",
              "      <td>NaN</td>\n",
              "      <td>NaN</td>\n",
              "      <td>NaN</td>\n",
              "    </tr>\n",
              "    <tr>\n",
              "      <th>11413</th>\n",
              "      <td>Braylon Rayson</td>\n",
              "      <td>Cent Michigan</td>\n",
              "      <td>2017</td>\n",
              "      <td>2306.234444</td>\n",
              "      <td>1192.0</td>\n",
              "      <td>209</td>\n",
              "      <td>548</td>\n",
              "      <td>93</td>\n",
              "      <td>257</td>\n",
              "      <td>168</td>\n",
              "      <td>...</td>\n",
              "      <td>NaN</td>\n",
              "      <td>NaN</td>\n",
              "      <td>NaN</td>\n",
              "      <td>NaN</td>\n",
              "      <td>NaN</td>\n",
              "      <td>NaN</td>\n",
              "      <td>NaN</td>\n",
              "      <td>NaN</td>\n",
              "      <td>NaN</td>\n",
              "      <td>NaN</td>\n",
              "    </tr>\n",
              "    <tr>\n",
              "      <th>67879</th>\n",
              "      <td>Marcus Keene</td>\n",
              "      <td>Cent Michigan</td>\n",
              "      <td>2017</td>\n",
              "      <td>2280.760556</td>\n",
              "      <td>1179.0</td>\n",
              "      <td>313</td>\n",
              "      <td>701</td>\n",
              "      <td>125</td>\n",
              "      <td>341</td>\n",
              "      <td>208</td>\n",
              "      <td>...</td>\n",
              "      <td>NaN</td>\n",
              "      <td>NaN</td>\n",
              "      <td>NaN</td>\n",
              "      <td>NaN</td>\n",
              "      <td>NaN</td>\n",
              "      <td>NaN</td>\n",
              "      <td>NaN</td>\n",
              "      <td>NaN</td>\n",
              "      <td>NaN</td>\n",
              "      <td>NaN</td>\n",
              "    </tr>\n",
              "    <tr>\n",
              "      <th>91599</th>\n",
              "      <td>Taveion Hollingsworth</td>\n",
              "      <td>Western KY</td>\n",
              "      <td>2018</td>\n",
              "      <td>2273.971944</td>\n",
              "      <td>1312.0</td>\n",
              "      <td>170</td>\n",
              "      <td>354</td>\n",
              "      <td>45</td>\n",
              "      <td>119</td>\n",
              "      <td>121</td>\n",
              "      <td>...</td>\n",
              "      <td>NaN</td>\n",
              "      <td>NaN</td>\n",
              "      <td>NaN</td>\n",
              "      <td>NaN</td>\n",
              "      <td>NaN</td>\n",
              "      <td>NaN</td>\n",
              "      <td>NaN</td>\n",
              "      <td>NaN</td>\n",
              "      <td>NaN</td>\n",
              "      <td>NaN</td>\n",
              "    </tr>\n",
              "    <tr>\n",
              "      <th>...</th>\n",
              "      <td>...</td>\n",
              "      <td>...</td>\n",
              "      <td>...</td>\n",
              "      <td>...</td>\n",
              "      <td>...</td>\n",
              "      <td>...</td>\n",
              "      <td>...</td>\n",
              "      <td>...</td>\n",
              "      <td>...</td>\n",
              "      <td>...</td>\n",
              "      <td>...</td>\n",
              "      <td>...</td>\n",
              "      <td>...</td>\n",
              "      <td>...</td>\n",
              "      <td>...</td>\n",
              "      <td>...</td>\n",
              "      <td>...</td>\n",
              "      <td>...</td>\n",
              "      <td>...</td>\n",
              "      <td>...</td>\n",
              "      <td>...</td>\n",
              "    </tr>\n",
              "    <tr>\n",
              "      <th>32795</th>\n",
              "      <td>Elijah Watson</td>\n",
              "      <td>UT Rio Grande</td>\n",
              "      <td>2014</td>\n",
              "      <td>0.000000</td>\n",
              "      <td>0.0</td>\n",
              "      <td>0</td>\n",
              "      <td>0</td>\n",
              "      <td>0</td>\n",
              "      <td>0</td>\n",
              "      <td>0</td>\n",
              "      <td>...</td>\n",
              "      <td>NaN</td>\n",
              "      <td>NaN</td>\n",
              "      <td>NaN</td>\n",
              "      <td>NaN</td>\n",
              "      <td>NaN</td>\n",
              "      <td>NaN</td>\n",
              "      <td>NaN</td>\n",
              "      <td>NaN</td>\n",
              "      <td>NaN</td>\n",
              "      <td>NaN</td>\n",
              "    </tr>\n",
              "    <tr>\n",
              "      <th>19663</th>\n",
              "      <td>Cody Mann</td>\n",
              "      <td>Florida Int'l</td>\n",
              "      <td>2015</td>\n",
              "      <td>0.000000</td>\n",
              "      <td>0.0</td>\n",
              "      <td>0</td>\n",
              "      <td>1</td>\n",
              "      <td>0</td>\n",
              "      <td>1</td>\n",
              "      <td>0</td>\n",
              "      <td>...</td>\n",
              "      <td>NaN</td>\n",
              "      <td>NaN</td>\n",
              "      <td>NaN</td>\n",
              "      <td>NaN</td>\n",
              "      <td>NaN</td>\n",
              "      <td>NaN</td>\n",
              "      <td>NaN</td>\n",
              "      <td>NaN</td>\n",
              "      <td>NaN</td>\n",
              "      <td>NaN</td>\n",
              "    </tr>\n",
              "    <tr>\n",
              "      <th>51320</th>\n",
              "      <td>John Walker</td>\n",
              "      <td>Brewton-Parker</td>\n",
              "      <td>2015</td>\n",
              "      <td>0.000000</td>\n",
              "      <td>0.0</td>\n",
              "      <td>0</td>\n",
              "      <td>1</td>\n",
              "      <td>0</td>\n",
              "      <td>1</td>\n",
              "      <td>0</td>\n",
              "      <td>...</td>\n",
              "      <td>NaN</td>\n",
              "      <td>NaN</td>\n",
              "      <td>NaN</td>\n",
              "      <td>NaN</td>\n",
              "      <td>NaN</td>\n",
              "      <td>NaN</td>\n",
              "      <td>NaN</td>\n",
              "      <td>NaN</td>\n",
              "      <td>NaN</td>\n",
              "      <td>NaN</td>\n",
              "    </tr>\n",
              "    <tr>\n",
              "      <th>63315</th>\n",
              "      <td>La'Darius Carter</td>\n",
              "      <td>Miles</td>\n",
              "      <td>2018</td>\n",
              "      <td>0.000000</td>\n",
              "      <td>0.0</td>\n",
              "      <td>0</td>\n",
              "      <td>0</td>\n",
              "      <td>0</td>\n",
              "      <td>0</td>\n",
              "      <td>0</td>\n",
              "      <td>...</td>\n",
              "      <td>NaN</td>\n",
              "      <td>NaN</td>\n",
              "      <td>NaN</td>\n",
              "      <td>NaN</td>\n",
              "      <td>NaN</td>\n",
              "      <td>NaN</td>\n",
              "      <td>NaN</td>\n",
              "      <td>NaN</td>\n",
              "      <td>NaN</td>\n",
              "      <td>NaN</td>\n",
              "    </tr>\n",
              "    <tr>\n",
              "      <th>76216</th>\n",
              "      <td>Nick Bridges</td>\n",
              "      <td>Lenoir Rhyne</td>\n",
              "      <td>2019</td>\n",
              "      <td>0.000000</td>\n",
              "      <td>0.0</td>\n",
              "      <td>0</td>\n",
              "      <td>0</td>\n",
              "      <td>0</td>\n",
              "      <td>0</td>\n",
              "      <td>0</td>\n",
              "      <td>...</td>\n",
              "      <td>NaN</td>\n",
              "      <td>NaN</td>\n",
              "      <td>NaN</td>\n",
              "      <td>NaN</td>\n",
              "      <td>NaN</td>\n",
              "      <td>NaN</td>\n",
              "      <td>NaN</td>\n",
              "      <td>NaN</td>\n",
              "      <td>NaN</td>\n",
              "      <td>NaN</td>\n",
              "    </tr>\n",
              "  </tbody>\n",
              "</table>\n",
              "<p>53138 rows × 29 columns</p>\n",
              "</div>\n",
              "      <button class=\"colab-df-convert\" onclick=\"convertToInteractive('df-8eb32b5d-fa7d-4bef-9073-858357de16ba')\"\n",
              "              title=\"Convert this dataframe to an interactive table.\"\n",
              "              style=\"display:none;\">\n",
              "        \n",
              "  <svg xmlns=\"http://www.w3.org/2000/svg\" height=\"24px\"viewBox=\"0 0 24 24\"\n",
              "       width=\"24px\">\n",
              "    <path d=\"M0 0h24v24H0V0z\" fill=\"none\"/>\n",
              "    <path d=\"M18.56 5.44l.94 2.06.94-2.06 2.06-.94-2.06-.94-.94-2.06-.94 2.06-2.06.94zm-11 1L8.5 8.5l.94-2.06 2.06-.94-2.06-.94L8.5 2.5l-.94 2.06-2.06.94zm10 10l.94 2.06.94-2.06 2.06-.94-2.06-.94-.94-2.06-.94 2.06-2.06.94z\"/><path d=\"M17.41 7.96l-1.37-1.37c-.4-.4-.92-.59-1.43-.59-.52 0-1.04.2-1.43.59L10.3 9.45l-7.72 7.72c-.78.78-.78 2.05 0 2.83L4 21.41c.39.39.9.59 1.41.59.51 0 1.02-.2 1.41-.59l7.78-7.78 2.81-2.81c.8-.78.8-2.07 0-2.86zM5.41 20L4 18.59l7.72-7.72 1.47 1.35L5.41 20z\"/>\n",
              "  </svg>\n",
              "      </button>\n",
              "      \n",
              "  <style>\n",
              "    .colab-df-container {\n",
              "      display:flex;\n",
              "      flex-wrap:wrap;\n",
              "      gap: 12px;\n",
              "    }\n",
              "\n",
              "    .colab-df-convert {\n",
              "      background-color: #E8F0FE;\n",
              "      border: none;\n",
              "      border-radius: 50%;\n",
              "      cursor: pointer;\n",
              "      display: none;\n",
              "      fill: #1967D2;\n",
              "      height: 32px;\n",
              "      padding: 0 0 0 0;\n",
              "      width: 32px;\n",
              "    }\n",
              "\n",
              "    .colab-df-convert:hover {\n",
              "      background-color: #E2EBFA;\n",
              "      box-shadow: 0px 1px 2px rgba(60, 64, 67, 0.3), 0px 1px 3px 1px rgba(60, 64, 67, 0.15);\n",
              "      fill: #174EA6;\n",
              "    }\n",
              "\n",
              "    [theme=dark] .colab-df-convert {\n",
              "      background-color: #3B4455;\n",
              "      fill: #D2E3FC;\n",
              "    }\n",
              "\n",
              "    [theme=dark] .colab-df-convert:hover {\n",
              "      background-color: #434B5C;\n",
              "      box-shadow: 0px 1px 3px 1px rgba(0, 0, 0, 0.15);\n",
              "      filter: drop-shadow(0px 1px 2px rgba(0, 0, 0, 0.3));\n",
              "      fill: #FFFFFF;\n",
              "    }\n",
              "  </style>\n",
              "\n",
              "      <script>\n",
              "        const buttonEl =\n",
              "          document.querySelector('#df-8eb32b5d-fa7d-4bef-9073-858357de16ba button.colab-df-convert');\n",
              "        buttonEl.style.display =\n",
              "          google.colab.kernel.accessAllowed ? 'block' : 'none';\n",
              "\n",
              "        async function convertToInteractive(key) {\n",
              "          const element = document.querySelector('#df-8eb32b5d-fa7d-4bef-9073-858357de16ba');\n",
              "          const dataTable =\n",
              "            await google.colab.kernel.invokeFunction('convertToInteractive',\n",
              "                                                     [key], {});\n",
              "          if (!dataTable) return;\n",
              "\n",
              "          const docLinkHtml = 'Like what you see? Visit the ' +\n",
              "            '<a target=\"_blank\" href=https://colab.research.google.com/notebooks/data_table.ipynb>data table notebook</a>'\n",
              "            + ' to learn more about interactive tables.';\n",
              "          element.innerHTML = '';\n",
              "          dataTable['output_type'] = 'display_data';\n",
              "          await google.colab.output.renderOutput(dataTable, element);\n",
              "          const docLink = document.createElement('div');\n",
              "          docLink.innerHTML = docLinkHtml;\n",
              "          element.appendChild(docLink);\n",
              "        }\n",
              "      </script>\n",
              "    </div>\n",
              "  </div>\n",
              "  "
            ]
          },
          "metadata": {},
          "execution_count": 21
        }
      ]
    },
    {
      "cell_type": "markdown",
      "source": [
        "The `no_match` data includes players whose teams do not have a match with the KenPom data yet. In this dataframe, I used the `kp_mapping` dataset I created to get the KenPom names for the schools without a match. Lastly, I had to drop any rows with `NA` because these rows were for players that played for non-D1 teams. "
      ],
      "metadata": {
        "id": "wyZmLVzNUEwG"
      }
    },
    {
      "cell_type": "code",
      "source": [
        "no_match = no_match.iloc[:, 0:19]\n",
        "no_match = no_match.merge(kp_mapping, left_on = [\"School\"], right_on = [\"hoopr\"], how = 'left')\n",
        "no_match[\"School\"] = no_match[\"kenpom\"]\n",
        "no_match = no_match.drop([\"kenpom\",\"hoopr\"], axis = 1)\n",
        "no_match = no_match.merge(school_stats, left_on = [\"School\",\"Season\"], right_on = [\"team\",\"year\"], how = 'left')\n",
        "no_match = no_match.dropna()"
      ],
      "metadata": {
        "id": "Dw8ChRRQSZC5"
      },
      "execution_count": 22,
      "outputs": []
    },
    {
      "cell_type": "markdown",
      "source": [
        "And now the dataframes could be put together to get all the D1 players' team stats. "
      ],
      "metadata": {
        "id": "vuT6p6UPUzqO"
      }
    },
    {
      "cell_type": "code",
      "source": [
        "players = players.dropna()\n",
        "players = pd.concat([players, no_match], axis = 0)"
      ],
      "metadata": {
        "id": "G9K0yketrpVz"
      },
      "execution_count": 23,
      "outputs": []
    },
    {
      "cell_type": "markdown",
      "source": [
        "The `winners` data includes the players that received at least 1 All-American vote for each season. Since all these players are All-Americans, I set the `All_American` dummy equal to 1, joined it with the player stats data, and allowed all other players to have 0 for `All_American`. \n"
      ],
      "metadata": {
        "id": "H5HgOnW8VUMy"
      }
    },
    {
      "cell_type": "code",
      "source": [
        "winners = pd.read_csv(\"https://raw.githubusercontent.com/AyushBatra15/All-Americans/main/allamericans.csv\")"
      ],
      "metadata": {
        "id": "Uc3xxcbxrVEq"
      },
      "execution_count": 24,
      "outputs": []
    },
    {
      "cell_type": "code",
      "source": [
        "winners = winners.assign(All_American = 1)\n",
        "winners = winners.rename({\"season\" : \"Season\"}, axis = 1)"
      ],
      "metadata": {
        "id": "PS_-3Fn9VOT_"
      },
      "execution_count": 25,
      "outputs": []
    },
    {
      "cell_type": "code",
      "source": [
        "per100 = players.merge(winners, on = [\"Player\",\"School\",\"Season\"], how = 'left')\n",
        "per100[\"All_American\"] = np.select([per100[\"All_American\"].isnull()],\n",
        "                                   [0], default = per100[\"All_American\"])"
      ],
      "metadata": {
        "id": "LhEd6a0AVYpC"
      },
      "execution_count": 26,
      "outputs": []
    },
    {
      "cell_type": "markdown",
      "source": [
        "Next, I calculated the Minutes Percentage by taking the minutes and dividing by available minutes. This value won't be exact since there is some inaccuracy in the box score data and because I used 40 for minutes per game when in reality this value should be slightly larger for some teams due to overtime games. I also dropped some columns that aren't necessary. "
      ],
      "metadata": {
        "id": "RtCs3IV-WQOo"
      }
    },
    {
      "cell_type": "code",
      "source": [
        "per100 = per100.assign(MIN_P = lambda x: x[\"MIN\"]/(40*x[\"games\"]))\n",
        "per100 = per100.drop([\"rk\",\"PTS\",\"games\"], axis = 1)"
      ],
      "metadata": {
        "id": "zZqs_D64WGar"
      },
      "execution_count": 27,
      "outputs": []
    },
    {
      "cell_type": "markdown",
      "source": [
        "Using per-possessions stats is the best way to measure player performance without influence from playing time and team pace. I chose to represent each box score stat in a scale of per 100 possessions, I took the value of the stat, divided by the number of possessions, and multiplied by 100. "
      ],
      "metadata": {
        "id": "7geOhkc_W4HD"
      }
    },
    {
      "cell_type": "code",
      "source": [
        "def scale100(stat, poss):\n",
        "  return stat/poss*100\n",
        "\n",
        "per100 = per100.assign(FGM = lambda x: scale100(x[\"FGM\"], x[\"POSS\"]))\n",
        "per100 = per100.assign(FGA = lambda x: scale100(x[\"FGA\"], x[\"POSS\"]))\n",
        "per100 = per100.assign(FG3M = lambda x: scale100(x[\"FG3M\"], x[\"POSS\"]))\n",
        "per100 = per100.assign(FG3A = lambda x: scale100(x[\"FG3A\"], x[\"POSS\"]))\n",
        "per100 = per100.assign(FTM = lambda x: scale100(x[\"FTM\"], x[\"POSS\"]))\n",
        "per100 = per100.assign(FTA = lambda x: scale100(x[\"FTA\"], x[\"POSS\"]))\n",
        "per100 = per100.assign(OREB = lambda x: scale100(x[\"OREB\"], x[\"POSS\"]))\n",
        "per100 = per100.assign(DREB = lambda x: scale100(x[\"DREB\"], x[\"POSS\"]))\n",
        "per100 = per100.assign(AST = lambda x: scale100(x[\"AST\"], x[\"POSS\"]))\n",
        "per100 = per100.assign(STL = lambda x: scale100(x[\"STL\"], x[\"POSS\"]))\n",
        "per100 = per100.assign(BLK = lambda x: scale100(x[\"BLK\"], x[\"POSS\"]))\n",
        "per100 = per100.assign(TOV = lambda x: scale100(x[\"TOV\"], x[\"POSS\"]))\n",
        "per100 = per100.assign(PF = lambda x: scale100(x[\"PF\"], x[\"POSS\"]))"
      ],
      "metadata": {
        "id": "Ynkq4KM3XWox"
      },
      "execution_count": 28,
      "outputs": []
    },
    {
      "cell_type": "markdown",
      "source": [
        "Now that the data is ready. I split it up into the players from 2011-2022 and the players in 2023. None of the 2023 players have actually been named All-Americans yet, so this data is only for predictions to be made on. "
      ],
      "metadata": {
        "id": "YtWCNKsdYM_0"
      }
    },
    {
      "cell_type": "code",
      "source": [
        "data23 = per100[per100[\"Season\"] == 2023]\n",
        "df = per100[per100[\"Season\"] != 2023]\n",
        "data23 = data23.drop([\"All_American\"], axis = 1)"
      ],
      "metadata": {
        "id": "tc7QuI1OCl5R"
      },
      "execution_count": 29,
      "outputs": []
    },
    {
      "cell_type": "markdown",
      "source": [
        "But what should be the minutes cut-off? To find the best minutes cut-off, we can look at the distribution of minutes percentage for players that received at least 1 All-American vote. "
      ],
      "metadata": {
        "id": "zKI0o66OYhVH"
      }
    },
    {
      "cell_type": "code",
      "source": [
        "aa_mins = df[df.All_American == 1]\n",
        "aa_mins = aa_mins[\"MIN_P\"]\n",
        "binsList = np.arange(0.4,1 + 1/30,1/30).tolist()\n",
        "\n",
        "fig, ax = plt.subplots(1,1, figsize = (10,7), tight_layout = True)\n",
        "ax.hist(aa_mins, bins = binsList)\n",
        "ax.grid(b = True, color ='grey',\n",
        "        linestyle ='-.', linewidth = 0.5,\n",
        "        alpha = 0.6)\n",
        "ax.xaxis.set_major_formatter(mtick.PercentFormatter(xmax = 1))\n",
        "plt.title(\"Minutes Percentage among All-Americans (2011-2022)\")\n",
        "plt.xlabel(\"% of Team Minutes Played\")\n",
        "plt.ylabel(\"Count\")\n",
        "plt.show()"
      ],
      "metadata": {
        "colab": {
          "base_uri": "https://localhost:8080/",
          "height": 513
        },
        "id": "bGqtWOGnewa6",
        "outputId": "0a49298c-1e49-4e26-ad48-f33807313bf0"
      },
      "execution_count": 30,
      "outputs": [
        {
          "output_type": "display_data",
          "data": {
            "text/plain": [
              "<Figure size 720x504 with 1 Axes>"
            ],
            "image/png": "[encoded data removed]"
          },
          "metadata": {
            "needs_background": "light"
          }
        }
      ]
    },
    {
      "cell_type": "markdown",
      "source": [
        "From the hisotgram, we can see that most All-Americans played between 65% and 85% of their teams' minutes. However, all All-Americans played at least 40% of available minutes. Therefore, I set the cut-off for minutes% at 40%. "
      ],
      "metadata": {
        "id": "HKQiNIhmZA_x"
      }
    },
    {
      "cell_type": "code",
      "source": [
        "df = df[df[\"MIN_P\"] > 0.4]\n",
        "data23 = data23[data23[\"MIN_P\"] > 0.4]"
      ],
      "metadata": {
        "id": "Gf3Gsu-4mt35"
      },
      "execution_count": 31,
      "outputs": []
    },
    {
      "cell_type": "markdown",
      "source": [
        "To get a rough overview of how All-Americans perform against their peers, we can look at the average per-100 stats for All-Americans vs non All-Americans. The output below suggest what one would expect. All-Americans score more points, grab more rebounds, get more assists, have a greater defensive impact, and better team performance. "
      ],
      "metadata": {
        "id": "kf2GQHUxaN1d"
      }
    },
    {
      "cell_type": "code",
      "source": [
        "df[\"PTS\"] = 2*df[\"FGM\"] + df[\"FG3M\"] + df[\"FTM\"]\n",
        "df.groupby('All_American')[[\"PTS\",\"OREB\",\"DREB\",\"AST\",\"STL\",\"BLK\",\"WP\",\"adj_o\",\"adj_d\"]].mean()"
      ],
      "metadata": {
        "colab": {
          "base_uri": "https://localhost:8080/",
          "height": 143
        },
        "id": "rCcxqH2ge0FM",
        "outputId": "95766dfb-7d40-461f-b477-7331617355c6"
      },
      "execution_count": 32,
      "outputs": [
        {
          "output_type": "execute_result",
          "data": {
            "text/plain": [
              "                    PTS      OREB      DREB       AST       STL       BLK  \\\n",
              "All_American                                                                \n",
              "0.0           21.374514  2.580417  6.798870  3.969125  1.897389  0.970075   \n",
              "1.0           33.114435  3.093603  8.822035  5.410625  2.174084  1.469974   \n",
              "\n",
              "                    WP       adj_o       adj_d  \n",
              "All_American                                    \n",
              "0.0           0.507063  103.558057  103.689325  \n",
              "1.0           0.789471  117.346759   93.777315  "
            ],
            "text/html": [
              "\n",
              "  <div id=\"df-dff440f5-96b2-4e0b-8570-7a5902670dda\">\n",
              "    <div class=\"colab-df-container\">\n",
              "      <div>\n",
              "<style scoped>\n",
              "    .dataframe tbody tr th:only-of-type {\n",
              "        vertical-align: middle;\n",
              "    }\n",
              "\n",
              "    .dataframe tbody tr th {\n",
              "        vertical-align: top;\n",
              "    }\n",
              "\n",
              "    .dataframe thead th {\n",
              "        text-align: right;\n",
              "    }\n",
              "</style>\n",
              "<table border=\"1\" class=\"dataframe\">\n",
              "  <thead>\n",
              "    <tr style=\"text-align: right;\">\n",
              "      <th></th>\n",
              "      <th>PTS</th>\n",
              "      <th>OREB</th>\n",
              "      <th>DREB</th>\n",
              "      <th>AST</th>\n",
              "      <th>STL</th>\n",
              "      <th>BLK</th>\n",
              "      <th>WP</th>\n",
              "      <th>adj_o</th>\n",
              "      <th>adj_d</th>\n",
              "    </tr>\n",
              "    <tr>\n",
              "      <th>All_American</th>\n",
              "      <th></th>\n",
              "      <th></th>\n",
              "      <th></th>\n",
              "      <th></th>\n",
              "      <th></th>\n",
              "      <th></th>\n",
              "      <th></th>\n",
              "      <th></th>\n",
              "      <th></th>\n",
              "    </tr>\n",
              "  </thead>\n",
              "  <tbody>\n",
              "    <tr>\n",
              "      <th>0.0</th>\n",
              "      <td>21.374514</td>\n",
              "      <td>2.580417</td>\n",
              "      <td>6.798870</td>\n",
              "      <td>3.969125</td>\n",
              "      <td>1.897389</td>\n",
              "      <td>0.970075</td>\n",
              "      <td>0.507063</td>\n",
              "      <td>103.558057</td>\n",
              "      <td>103.689325</td>\n",
              "    </tr>\n",
              "    <tr>\n",
              "      <th>1.0</th>\n",
              "      <td>33.114435</td>\n",
              "      <td>3.093603</td>\n",
              "      <td>8.822035</td>\n",
              "      <td>5.410625</td>\n",
              "      <td>2.174084</td>\n",
              "      <td>1.469974</td>\n",
              "      <td>0.789471</td>\n",
              "      <td>117.346759</td>\n",
              "      <td>93.777315</td>\n",
              "    </tr>\n",
              "  </tbody>\n",
              "</table>\n",
              "</div>\n",
              "      <button class=\"colab-df-convert\" onclick=\"convertToInteractive('df-dff440f5-96b2-4e0b-8570-7a5902670dda')\"\n",
              "              title=\"Convert this dataframe to an interactive table.\"\n",
              "              style=\"display:none;\">\n",
              "        \n",
              "  <svg xmlns=\"http://www.w3.org/2000/svg\" height=\"24px\"viewBox=\"0 0 24 24\"\n",
              "       width=\"24px\">\n",
              "    <path d=\"M0 0h24v24H0V0z\" fill=\"none\"/>\n",
              "    <path d=\"M18.56 5.44l.94 2.06.94-2.06 2.06-.94-2.06-.94-.94-2.06-.94 2.06-2.06.94zm-11 1L8.5 8.5l.94-2.06 2.06-.94-2.06-.94L8.5 2.5l-.94 2.06-2.06.94zm10 10l.94 2.06.94-2.06 2.06-.94-2.06-.94-.94-2.06-.94 2.06-2.06.94z\"/><path d=\"M17.41 7.96l-1.37-1.37c-.4-.4-.92-.59-1.43-.59-.52 0-1.04.2-1.43.59L10.3 9.45l-7.72 7.72c-.78.78-.78 2.05 0 2.83L4 21.41c.39.39.9.59 1.41.59.51 0 1.02-.2 1.41-.59l7.78-7.78 2.81-2.81c.8-.78.8-2.07 0-2.86zM5.41 20L4 18.59l7.72-7.72 1.47 1.35L5.41 20z\"/>\n",
              "  </svg>\n",
              "      </button>\n",
              "      \n",
              "  <style>\n",
              "    .colab-df-container {\n",
              "      display:flex;\n",
              "      flex-wrap:wrap;\n",
              "      gap: 12px;\n",
              "    }\n",
              "\n",
              "    .colab-df-convert {\n",
              "      background-color: #E8F0FE;\n",
              "      border: none;\n",
              "      border-radius: 50%;\n",
              "      cursor: pointer;\n",
              "      display: none;\n",
              "      fill: #1967D2;\n",
              "      height: 32px;\n",
              "      padding: 0 0 0 0;\n",
              "      width: 32px;\n",
              "    }\n",
              "\n",
              "    .colab-df-convert:hover {\n",
              "      background-color: #E2EBFA;\n",
              "      box-shadow: 0px 1px 2px rgba(60, 64, 67, 0.3), 0px 1px 3px 1px rgba(60, 64, 67, 0.15);\n",
              "      fill: #174EA6;\n",
              "    }\n",
              "\n",
              "    [theme=dark] .colab-df-convert {\n",
              "      background-color: #3B4455;\n",
              "      fill: #D2E3FC;\n",
              "    }\n",
              "\n",
              "    [theme=dark] .colab-df-convert:hover {\n",
              "      background-color: #434B5C;\n",
              "      box-shadow: 0px 1px 3px 1px rgba(0, 0, 0, 0.15);\n",
              "      filter: drop-shadow(0px 1px 2px rgba(0, 0, 0, 0.3));\n",
              "      fill: #FFFFFF;\n",
              "    }\n",
              "  </style>\n",
              "\n",
              "      <script>\n",
              "        const buttonEl =\n",
              "          document.querySelector('#df-dff440f5-96b2-4e0b-8570-7a5902670dda button.colab-df-convert');\n",
              "        buttonEl.style.display =\n",
              "          google.colab.kernel.accessAllowed ? 'block' : 'none';\n",
              "\n",
              "        async function convertToInteractive(key) {\n",
              "          const element = document.querySelector('#df-dff440f5-96b2-4e0b-8570-7a5902670dda');\n",
              "          const dataTable =\n",
              "            await google.colab.kernel.invokeFunction('convertToInteractive',\n",
              "                                                     [key], {});\n",
              "          if (!dataTable) return;\n",
              "\n",
              "          const docLinkHtml = 'Like what you see? Visit the ' +\n",
              "            '<a target=\"_blank\" href=https://colab.research.google.com/notebooks/data_table.ipynb>data table notebook</a>'\n",
              "            + ' to learn more about interactive tables.';\n",
              "          element.innerHTML = '';\n",
              "          dataTable['output_type'] = 'display_data';\n",
              "          await google.colab.output.renderOutput(dataTable, element);\n",
              "          const docLink = document.createElement('div');\n",
              "          docLink.innerHTML = docLinkHtml;\n",
              "          element.appendChild(docLink);\n",
              "        }\n",
              "      </script>\n",
              "    </div>\n",
              "  </div>\n",
              "  "
            ]
          },
          "metadata": {},
          "execution_count": 32
        }
      ]
    },
    {
      "cell_type": "code",
      "source": [
        "df[\"All_American\"] = np.select([df[\"All_American\"] == 1, df[\"All_American\"] == 0], \n",
        "                               [\"Yes\",\"No\"])"
      ],
      "metadata": {
        "id": "aBFrWTg9e294"
      },
      "execution_count": 33,
      "outputs": []
    },
    {
      "cell_type": "markdown",
      "source": [
        "To get a better idea of the scoring difference between All-Americans and those who aren't All-Americans, one can look at the boxplot of scoring distributions. "
      ],
      "metadata": {
        "id": "4tSphtCPa2r9"
      }
    },
    {
      "cell_type": "code",
      "source": [
        "pts_boxplot = sns.boxplot(data = df, x = 'PTS', y = 'All_American', orient = 'h',\n",
        "                          order = [\"Yes\",\"No\"])\n",
        "pts_boxplot.set(xlabel = \"Pts per 100 Possessions\", \n",
        "                ylabel = \"All-American\",\n",
        "                title = \"All-Americans Score... A Lot (Obviously)\")\n",
        "plt.show()\n",
        "sns.set_style(\"ticks\",{'axes.grid' : True})"
      ],
      "metadata": {
        "colab": {
          "base_uri": "https://localhost:8080/",
          "height": 295
        },
        "id": "zBBA4P1Ye6yG",
        "outputId": "9ce9a2f3-20f9-4002-8ca4-83e86d913e79"
      },
      "execution_count": 34,
      "outputs": [
        {
          "output_type": "display_data",
          "data": {
            "text/plain": [
              "<Figure size 432x288 with 1 Axes>"
            ],
            "image/png": "[encoded data removed]"
          },
          "metadata": {
            "needs_background": "light"
          }
        }
      ]
    },
    {
      "cell_type": "code",
      "source": [
        "df[(df[\"All_American\"] == \"Yes\") & (df[\"PTS\"] < 20)]"
      ],
      "metadata": {
        "id": "0NRPkw8Abg8K",
        "colab": {
          "base_uri": "https://localhost:8080/",
          "height": 191
        },
        "outputId": "b54ff591-de21-4719-8ce2-38c8dd0a8da3"
      },
      "execution_count": 35,
      "outputs": [
        {
          "output_type": "execute_result",
          "data": {
            "text/plain": [
              "                 Player          School  Season      POSS     MIN       FGM  \\\n",
              "28458  Kendall Marshall  North Carolina    2012  2025.355  1121.0  4.591788   \n",
              "\n",
              "             FGA      FG3M      FG3A       FTM  ...    year        WP  adj_o  \\\n",
              "28458  10.368553  1.283726  3.752429  2.567451  ...  2012.0  0.842105  116.1   \n",
              "\n",
              "       adj_d  adj_t  sos_opp_o  sos_opp_d  All_American   MIN_P        PTS  \n",
              "28458   90.7   70.9      107.2       99.8           Yes  0.7375  13.034752  \n",
              "\n",
              "[1 rows x 29 columns]"
            ],
            "text/html": [
              "\n",
              "  <div id=\"df-67128029-dc23-491e-bb49-1aed155afc34\">\n",
              "    <div class=\"colab-df-container\">\n",
              "      <div>\n",
              "<style scoped>\n",
              "    .dataframe tbody tr th:only-of-type {\n",
              "        vertical-align: middle;\n",
              "    }\n",
              "\n",
              "    .dataframe tbody tr th {\n",
              "        vertical-align: top;\n",
              "    }\n",
              "\n",
              "    .dataframe thead th {\n",
              "        text-align: right;\n",
              "    }\n",
              "</style>\n",
              "<table border=\"1\" class=\"dataframe\">\n",
              "  <thead>\n",
              "    <tr style=\"text-align: right;\">\n",
              "      <th></th>\n",
              "      <th>Player</th>\n",
              "      <th>School</th>\n",
              "      <th>Season</th>\n",
              "      <th>POSS</th>\n",
              "      <th>MIN</th>\n",
              "      <th>FGM</th>\n",
              "      <th>FGA</th>\n",
              "      <th>FG3M</th>\n",
              "      <th>FG3A</th>\n",
              "      <th>FTM</th>\n",
              "      <th>...</th>\n",
              "      <th>year</th>\n",
              "      <th>WP</th>\n",
              "      <th>adj_o</th>\n",
              "      <th>adj_d</th>\n",
              "      <th>adj_t</th>\n",
              "      <th>sos_opp_o</th>\n",
              "      <th>sos_opp_d</th>\n",
              "      <th>All_American</th>\n",
              "      <th>MIN_P</th>\n",
              "      <th>PTS</th>\n",
              "    </tr>\n",
              "  </thead>\n",
              "  <tbody>\n",
              "    <tr>\n",
              "      <th>28458</th>\n",
              "      <td>Kendall Marshall</td>\n",
              "      <td>North Carolina</td>\n",
              "      <td>2012</td>\n",
              "      <td>2025.355</td>\n",
              "      <td>1121.0</td>\n",
              "      <td>4.591788</td>\n",
              "      <td>10.368553</td>\n",
              "      <td>1.283726</td>\n",
              "      <td>3.752429</td>\n",
              "      <td>2.567451</td>\n",
              "      <td>...</td>\n",
              "      <td>2012.0</td>\n",
              "      <td>0.842105</td>\n",
              "      <td>116.1</td>\n",
              "      <td>90.7</td>\n",
              "      <td>70.9</td>\n",
              "      <td>107.2</td>\n",
              "      <td>99.8</td>\n",
              "      <td>Yes</td>\n",
              "      <td>0.7375</td>\n",
              "      <td>13.034752</td>\n",
              "    </tr>\n",
              "  </tbody>\n",
              "</table>\n",
              "<p>1 rows × 29 columns</p>\n",
              "</div>\n",
              "      <button class=\"colab-df-convert\" onclick=\"convertToInteractive('df-67128029-dc23-491e-bb49-1aed155afc34')\"\n",
              "              title=\"Convert this dataframe to an interactive table.\"\n",
              "              style=\"display:none;\">\n",
              "        \n",
              "  <svg xmlns=\"http://www.w3.org/2000/svg\" height=\"24px\"viewBox=\"0 0 24 24\"\n",
              "       width=\"24px\">\n",
              "    <path d=\"M0 0h24v24H0V0z\" fill=\"none\"/>\n",
              "    <path d=\"M18.56 5.44l.94 2.06.94-2.06 2.06-.94-2.06-.94-.94-2.06-.94 2.06-2.06.94zm-11 1L8.5 8.5l.94-2.06 2.06-.94-2.06-.94L8.5 2.5l-.94 2.06-2.06.94zm10 10l.94 2.06.94-2.06 2.06-.94-2.06-.94-.94-2.06-.94 2.06-2.06.94z\"/><path d=\"M17.41 7.96l-1.37-1.37c-.4-.4-.92-.59-1.43-.59-.52 0-1.04.2-1.43.59L10.3 9.45l-7.72 7.72c-.78.78-.78 2.05 0 2.83L4 21.41c.39.39.9.59 1.41.59.51 0 1.02-.2 1.41-.59l7.78-7.78 2.81-2.81c.8-.78.8-2.07 0-2.86zM5.41 20L4 18.59l7.72-7.72 1.47 1.35L5.41 20z\"/>\n",
              "  </svg>\n",
              "      </button>\n",
              "      \n",
              "  <style>\n",
              "    .colab-df-container {\n",
              "      display:flex;\n",
              "      flex-wrap:wrap;\n",
              "      gap: 12px;\n",
              "    }\n",
              "\n",
              "    .colab-df-convert {\n",
              "      background-color: #E8F0FE;\n",
              "      border: none;\n",
              "      border-radius: 50%;\n",
              "      cursor: pointer;\n",
              "      display: none;\n",
              "      fill: #1967D2;\n",
              "      height: 32px;\n",
              "      padding: 0 0 0 0;\n",
              "      width: 32px;\n",
              "    }\n",
              "\n",
              "    .colab-df-convert:hover {\n",
              "      background-color: #E2EBFA;\n",
              "      box-shadow: 0px 1px 2px rgba(60, 64, 67, 0.3), 0px 1px 3px 1px rgba(60, 64, 67, 0.15);\n",
              "      fill: #174EA6;\n",
              "    }\n",
              "\n",
              "    [theme=dark] .colab-df-convert {\n",
              "      background-color: #3B4455;\n",
              "      fill: #D2E3FC;\n",
              "    }\n",
              "\n",
              "    [theme=dark] .colab-df-convert:hover {\n",
              "      background-color: #434B5C;\n",
              "      box-shadow: 0px 1px 3px 1px rgba(0, 0, 0, 0.15);\n",
              "      filter: drop-shadow(0px 1px 2px rgba(0, 0, 0, 0.3));\n",
              "      fill: #FFFFFF;\n",
              "    }\n",
              "  </style>\n",
              "\n",
              "      <script>\n",
              "        const buttonEl =\n",
              "          document.querySelector('#df-67128029-dc23-491e-bb49-1aed155afc34 button.colab-df-convert');\n",
              "        buttonEl.style.display =\n",
              "          google.colab.kernel.accessAllowed ? 'block' : 'none';\n",
              "\n",
              "        async function convertToInteractive(key) {\n",
              "          const element = document.querySelector('#df-67128029-dc23-491e-bb49-1aed155afc34');\n",
              "          const dataTable =\n",
              "            await google.colab.kernel.invokeFunction('convertToInteractive',\n",
              "                                                     [key], {});\n",
              "          if (!dataTable) return;\n",
              "\n",
              "          const docLinkHtml = 'Like what you see? Visit the ' +\n",
              "            '<a target=\"_blank\" href=https://colab.research.google.com/notebooks/data_table.ipynb>data table notebook</a>'\n",
              "            + ' to learn more about interactive tables.';\n",
              "          element.innerHTML = '';\n",
              "          dataTable['output_type'] = 'display_data';\n",
              "          await google.colab.output.renderOutput(dataTable, element);\n",
              "          const docLink = document.createElement('div');\n",
              "          docLink.innerHTML = docLinkHtml;\n",
              "          element.appendChild(docLink);\n",
              "        }\n",
              "      </script>\n",
              "    </div>\n",
              "  </div>\n",
              "  "
            ]
          },
          "metadata": {},
          "execution_count": 35
        }
      ]
    },
    {
      "cell_type": "markdown",
      "source": [
        "The boxplot shows that the middle 50% of All-American scoring lies between 30 and about 36 points per 100 possessions, much greater than about 17 and 25, respectively, for non All-Americans. In fact, all but 1 All-American player (Kendall Marshall in 2012) scored over 20 points per 100 possessions, which translates to about 10 points in 30 minutes of a game at average pace. "
      ],
      "metadata": {
        "id": "0DSWgZPLbPE2"
      }
    },
    {
      "cell_type": "markdown",
      "source": [
        "We can also look at rebounding:"
      ],
      "metadata": {
        "id": "fGQIOu-M8TyM"
      }
    },
    {
      "cell_type": "code",
      "source": [
        "reb_df = df[[\"Player\",\"All_American\",\"OREB\",\"DREB\"]]\n",
        "reb_df = pd.melt(reb_df, id_vars = [\"Player\",\"All_American\"],\n",
        "                 value_vars = [\"OREB\",\"DREB\"])\n",
        "reb_df = reb_df.rename({\"variable\" : \"Stat\", \"value\" : \"Per100\"}, axis = 1)\n",
        "reb_df\n",
        "reb_boxplot = sns.catplot(data = reb_df, x = \"Per100\", y = \"All_American\", col = \"Stat\",\n",
        "                          kind = 'box', orient = 'h', order = [\"Yes\",\"No\"],\n",
        "                          col_wrap = 3)\n",
        "reb_boxplot.set(xlabel = \"Value per 100 Possessions\",\n",
        "                ylabel = \"All-American\")\n",
        "plt.show()"
      ],
      "metadata": {
        "colab": {
          "base_uri": "https://localhost:8080/",
          "height": 369
        },
        "id": "9_OXbNHqe_fP",
        "outputId": "69060089-e1ab-47ab-beef-23b5b3a1356e"
      },
      "execution_count": 36,
      "outputs": [
        {
          "output_type": "display_data",
          "data": {
            "text/plain": [
              "<Figure size 1080x360 with 2 Axes>"
            ],
            "image/png": "[encoded data removed]"
          },
          "metadata": {}
        }
      ]
    },
    {
      "cell_type": "markdown",
      "source": [
        "Rebounding is much less predictive of All-Americans than scoring. Although All-Americans typically get slightly more offensive rebounds and defensive rebounds, the difference is not very lage. In fact, there is a large overlap in the boxes representing the middle 50% of rebounding for All-Americans and non All-Americans. "
      ],
      "metadata": {
        "id": "1sGWTHOJcV6V"
      }
    },
    {
      "cell_type": "code",
      "source": [
        "playm_df = df[[\"Player\",\"All_American\",\"AST\",\"TOV\"]]\n",
        "playm_df = pd.melt(playm_df, id_vars = [\"Player\",\"All_American\"],\n",
        "                   value_vars = [\"AST\",\"TOV\"])\n",
        "playm_df = playm_df.rename({\"variable\" : \"Stat\", \"value\" : \"Per100\"}, axis = 1)\n",
        "playm_df\n",
        "playm_boxplot = sns.catplot(data = playm_df, x = \"Per100\", y = \"All_American\", col = \"Stat\",\n",
        "                            kind = 'box', orient = 'h', order = [\"Yes\",\"No\"],\n",
        "                            col_wrap = 3)\n",
        "playm_boxplot.set(xlabel = \"Value per 100 Possessions\",\n",
        "                  ylabel = \"All-American\")\n",
        "plt.show()"
      ],
      "metadata": {
        "colab": {
          "base_uri": "https://localhost:8080/",
          "height": 369
        },
        "id": "cQYFTvj1fCyR",
        "outputId": "f3073b46-a129-468f-f79a-3ecab54f4d0d"
      },
      "execution_count": 37,
      "outputs": [
        {
          "output_type": "display_data",
          "data": {
            "text/plain": [
              "<Figure size 1080x360 with 2 Axes>"
            ],
            "image/png": "[encoded data removed]"
          },
          "metadata": {}
        }
      ]
    },
    {
      "cell_type": "markdown",
      "source": [
        "We can look at playmaking statistics like assists and turnovers as well. Neither statistic looks to be nearly as predictive as points, but All-Americans still have a greater median assists per 100. Even though turnovers are seen as a bad thing, All-Americans usually have more of them than non All-Americans. The reason for this is that All-Americans usually have much higher usage rates, meaning they have the ball in their hands more often giving them more chances to turn the ball over. "
      ],
      "metadata": {
        "id": "_GJDiOfw8sbE"
      }
    },
    {
      "cell_type": "code",
      "source": [
        "def_df = df[[\"Player\",\"All_American\",\"STL\",\"BLK\"]]\n",
        "def_df = pd.melt(def_df, id_vars = [\"Player\",\"All_American\"],\n",
        "                 value_vars = [\"STL\",\"BLK\"])\n",
        "def_df = def_df.rename({\"variable\" : \"Stat\", \"value\" : \"Per100\"}, axis = 1)\n",
        "def_df\n",
        "def_boxplot = sns.catplot(data = def_df, x = \"Per100\", y = \"All_American\", col = \"Stat\",\n",
        "                          kind = 'box', orient = 'h', order = [\"Yes\",\"No\"],\n",
        "                          col_wrap = 3)\n",
        "def_boxplot.set(xlabel = \"Value per 100 Possessions\",\n",
        "                ylabel = \"All-American\")\n",
        "plt.show()"
      ],
      "metadata": {
        "colab": {
          "base_uri": "https://localhost:8080/",
          "height": 369
        },
        "id": "tJi8grOxfFwK",
        "outputId": "dba47631-169a-43e7-e40c-76c803278ae7"
      },
      "execution_count": 38,
      "outputs": [
        {
          "output_type": "display_data",
          "data": {
            "text/plain": [
              "<Figure size 1080x360 with 2 Axes>"
            ],
            "image/png": "[encoded data removed]"
          },
          "metadata": {}
        }
      ]
    },
    {
      "cell_type": "markdown",
      "source": [
        "All-American players typically perform better than average on the defensive side of the ball. Blocks seem to be more predictive of All-Americans than steals are, meaning that the public likely values rim protectors over perimeter players that can intercept passing lanes. "
      ],
      "metadata": {
        "id": "KV_fi8w39TfT"
      }
    },
    {
      "cell_type": "markdown",
      "source": [
        "One would expect that All-American shoot more efficient than other players. The following code helps to produce a dataset that can make a visualization to test this theory. To ensure players who took few shots were excluded, I ensured that the included players must have over 50 attempts when counted for field goal attempts, 3-point attempts, or free throw attempts. "
      ],
      "metadata": {
        "id": "I4bgexNq9qPi"
      }
    },
    {
      "cell_type": "code",
      "source": [
        "shot_df1 = df.assign(FG = lambda x: x[\"FGA\"]*x[\"POSS\"]/100)\n",
        "shot_df1 = shot_df1.assign(FG3 = lambda x: x[\"FG3A\"]*x[\"POSS\"]/100)\n",
        "shot_df1 = shot_df1.assign(FT = lambda x: x[\"FTA\"]*x[\"POSS\"]/100)\n",
        "shot_df1 = shot_df1[[\"Player\",\"School\",\"Season\",\"All_American\",\"FG\",\"FG3\",\"FT\"]]\n",
        "shot_df1 = pd.melt(shot_df1, id_vars = [\"Player\",\"School\",\"Season\",\"All_American\"],\n",
        "                   value_vars = [\"FG\",\"FG3\",\"FT\"], var_name = \"Type\", value_name = \"Total\")\n",
        "\n",
        "shot_df2 = df.assign(FG = lambda x: x[\"FGM\"]/x[\"FGA\"])\n",
        "shot_df2 = shot_df2.assign(FG3 = lambda x: x[\"FG3M\"]/x[\"FG3A\"])\n",
        "shot_df2 = shot_df2.assign(FT = lambda x: x[\"FTM\"]/x[\"FTA\"])\n",
        "shot_df2 = shot_df2[[\"Player\",\"School\",\"Season\",\"All_American\",\"FG\",\"FG3\",\"FT\"]]\n",
        "shot_df2 = pd.melt(shot_df2, id_vars = [\"Player\",\"School\",\"Season\",\"All_American\"],\n",
        "                   value_vars = [\"FG\",\"FG3\",\"FT\"], var_name = \"Type\", value_name = \"FGP\")\n",
        "\n",
        "shot_df = pd.merge(shot_df1, shot_df2, on = [\"Player\",\"School\",\"Season\",\"All_American\",\"Type\"])\n",
        "shot_df = shot_df[shot_df[\"Total\"] >= 50]"
      ],
      "metadata": {
        "id": "CVmybqVbfLMt"
      },
      "execution_count": 39,
      "outputs": []
    },
    {
      "cell_type": "code",
      "source": [
        "shot_barplot = sns.catplot(data = shot_df, x = \"All_American\", y = \"FGP\", col = \"Type\",\n",
        "                           kind = 'bar', order = [\"Yes\",\"No\"],\n",
        "                           height = 4, aspect = 0.5)\n",
        "shot_barplot.set(xlabel = \"All-American\",\n",
        "                 ylabel = \"Shooting Percentage\")\n",
        "plt.show()"
      ],
      "metadata": {
        "colab": {
          "base_uri": "https://localhost:8080/",
          "height": 296
        },
        "id": "I-GpNgzJfPYV",
        "outputId": "4cc24dc0-e038-4f78-a6ce-8b3033b90c07"
      },
      "execution_count": 40,
      "outputs": [
        {
          "output_type": "display_data",
          "data": {
            "text/plain": [
              "<Figure size 432x288 with 3 Axes>"
            ],
            "image/png": "[encoded data removed]"
          },
          "metadata": {}
        }
      ]
    },
    {
      "cell_type": "markdown",
      "source": [
        "Indeed, All-Americans do shoot better than other players. The average field goal percentage for All-American players was close to 50%, while other were closer to 40-45%. In addition, All-American players that shot at least 50 3-point attempts had an average 3P% close to 38%. Free throws were also important as All-Americans shot an average of over 75% from the line. "
      ],
      "metadata": {
        "id": "UURAVwIc-I8w"
      }
    },
    {
      "cell_type": "markdown",
      "source": [
        "Next, we can look at team efficiency metrics and strength of schedule:"
      ],
      "metadata": {
        "id": "t-iVOq0F-j78"
      }
    },
    {
      "cell_type": "code",
      "source": [
        "tm_df = df[[\"Player\",\"All_American\",\"adj_o\",\"adj_d\",\"sos_opp_o\",\"sos_opp_d\"]]\n",
        "tm_df = pd.melt(tm_df, id_vars = [\"Player\",\"All_American\"],\n",
        "                 value_vars = [\"adj_o\",\"adj_d\",\"sos_opp_o\",\"sos_opp_d\"])\n",
        "tm_df = tm_df.rename({\"variable\" : \"Metric\", \"value\" : \"Value\"}, axis = 1)\n",
        "tm_boxplot = sns.catplot(data = tm_df, x = \"Value\", y = \"All_American\", col = \"Metric\",\n",
        "                          kind = 'box', orient = 'h', order = [\"Yes\",\"No\"],\n",
        "                          col_wrap = 2)\n",
        "tm_boxplot.set(xlabel = \"\",\n",
        "                ylabel = \"All-American\")\n",
        "plt.show()"
      ],
      "metadata": {
        "colab": {
          "base_uri": "https://localhost:8080/",
          "height": 715
        },
        "id": "OyeKl_8XfQph",
        "outputId": "4eb475bf-48ec-4a8b-944b-698d216e2ab7"
      },
      "execution_count": 41,
      "outputs": [
        {
          "output_type": "display_data",
          "data": {
            "text/plain": [
              "<Figure size 720x720 with 4 Axes>"
            ],
            "image/png": "[encoded data removed]"
          },
          "metadata": {}
        }
      ]
    },
    {
      "cell_type": "markdown",
      "source": [
        "NOTE: A lower defensive efficiency (adj_d) is better as it means the team is allowing fewer points per 100 possessions. The same logic follows for defensive strength of schedule (sos_opp_d)"
      ],
      "metadata": {
        "id": "o0DHLBEC_n_4"
      }
    },
    {
      "cell_type": "markdown",
      "source": [
        "Team strength seems to have a large effect on the selection of All-American players. Almost all All-Americans are on teams that are among the top in the country, especially on offense. In fact, every single player that received at least 1 All-American vote since 2011 has been on an team with an adjusted offensive efficiency above the median. Defense is also important, but there were still some All-American players from below average defensive teams. Strength of schedule also plays a role, as All-American players played a tougher schedule than average. For those that watch college basketball, this is obvious as almost all All-American players come from teams that are top-8 seeds in the NCAA Tournament (implying they are among the top 32 teams in the country). "
      ],
      "metadata": {
        "id": "_CNtyqxC-nTA"
      }
    },
    {
      "cell_type": "markdown",
      "source": [
        "The two most important variables in predicting All-Americans seem to be points and team quality. Let's see how we can combine these variables to get an idea of what a typical All-American's profile is. "
      ],
      "metadata": {
        "id": "kk9QN0-NAaL7"
      }
    },
    {
      "cell_type": "code",
      "source": [
        "scat_df = df.assign(adj_em = lambda x: x[\"adj_o\"] - x[\"adj_d\"])\n",
        "\n",
        "fig = plt.gcf()\n",
        "fig.set_size_inches(10,8)\n",
        "scatter = sns.scatterplot(data = scat_df, x = \"PTS\", y = \"adj_em\",\n",
        "                          hue = \"All_American\", alpha = 0.4)\n",
        "scatter.set(xlabel = \"PTS / 100 Possessions\",\n",
        "            ylabel = \"Adj EM (via KenPom)\",\n",
        "            title = \"Detecting All-Amercians: Easy Version\")\n",
        "plt.show()"
      ],
      "metadata": {
        "colab": {
          "base_uri": "https://localhost:8080/",
          "height": 513
        },
        "id": "3rKkh8JdfUhy",
        "outputId": "0e91725a-0654-4627-f247-c55e4011cdaf"
      },
      "execution_count": 42,
      "outputs": [
        {
          "output_type": "display_data",
          "data": {
            "text/plain": [
              "<Figure size 720x576 with 1 Axes>"
            ],
            "image/png": "[encoded data removed]"
          },
          "metadata": {}
        }
      ]
    },
    {
      "cell_type": "markdown",
      "source": [
        "The scatterplot above implies that most All-Americans are very good scorers and are on a very good team. It seems like a player needs to score at least 30 points per 100 or have an adjusted efficiency margin (adjusted offense - adjusted defense) above 20 to even have a chance of being an All-American. "
      ],
      "metadata": {
        "id": "refOEdgCAnaj"
      }
    },
    {
      "cell_type": "markdown",
      "source": [
        "To get probablistic predictions, we can train a neural network. First I dropped the unnecessary columns. We don't need to include points because it can be computed with 2-point makes, 3-point makes, and free throw makes, all of which are in the data. In addition, I reconverted the `All_American` variable to a numeric so it can be predicted. "
      ],
      "metadata": {
        "id": "OzCdMERSBE1F"
      }
    },
    {
      "cell_type": "code",
      "source": [
        "df = df.drop([\"POSS\",\"MIN\",\"PTS\",\"team\",\"year\"], axis = 1)\n",
        "df = df.assign(FG2M = lambda x: x[\"FGM\"] - x[\"FG3M\"])\n",
        "df = df.assign(FG2A = lambda x: x[\"FGA\"] - x[\"FG3A\"])\n",
        "df[\"All_American\"] = np.select([df[\"All_American\"] == \"Yes\", df[\"All_American\"] == \"No\"], \n",
        "                               [1,0])"
      ],
      "metadata": {
        "id": "hxiGM1JhfZz6"
      },
      "execution_count": 43,
      "outputs": []
    },
    {
      "cell_type": "markdown",
      "source": [
        "Next, I set random seeds so that the results are reproducable and selected the columns that I wanted to keep. "
      ],
      "metadata": {
        "id": "BZILNMIdBkcO"
      }
    },
    {
      "cell_type": "code",
      "source": [
        "SEED = 100\n",
        "SEED2 = 200"
      ],
      "metadata": {
        "id": "MC7Xwz4Cfekm"
      },
      "execution_count": 44,
      "outputs": []
    },
    {
      "cell_type": "code",
      "source": [
        "#Choose variables we want to use to predict:\n",
        "\n",
        "new_df = df[[\"Player\",\"School\",\"Season\",\"FG2M\",\"FG2A\",\"FG3M\",\"FG3A\",\"FTM\",\"FTA\",\"OREB\",\"DREB\",\"AST\",\n",
        "             \"TOV\",\"STL\",\"BLK\",\"WP\",\"adj_o\",\"adj_d\",\"sos_opp_o\",\"sos_opp_d\",\"All_American\"]]"
      ],
      "metadata": {
        "id": "cgD56ggmfiPj"
      },
      "execution_count": 45,
      "outputs": []
    },
    {
      "cell_type": "markdown",
      "source": [
        "Then, I split the data into a training set, validation set, and test set. I put 70% of the data in the training set, 15% in the validation set, and 15% in the test set. "
      ],
      "metadata": {
        "id": "Im5tjdfOBvnF"
      }
    },
    {
      "cell_type": "code",
      "source": [
        "train_df = new_df.sample(frac = 0.70, random_state = SEED)\n",
        "rest = new_df.drop(train_df.index)\n",
        "val_df = rest.sample(frac = 0.5, random_state = SEED2)\n",
        "test_df = rest.drop(val_df.index)"
      ],
      "metadata": {
        "id": "pQ2ZGe27fi-h"
      },
      "execution_count": 46,
      "outputs": []
    },
    {
      "cell_type": "code",
      "source": [
        "train_successes = train_df['All_American'].sum()\n",
        "train_percent = round(100*train_successes/len(train_df),2)\n",
        "print(\"Train Successes: \" + str(train_successes) + \"/\" + str(len(train_df)) + \" (\" + str(train_percent) + \"%)\")\n",
        "\n",
        "val_successes = val_df['All_American'].sum()\n",
        "val_percent = round(100*val_successes/len(val_df),2)\n",
        "print(\"Validation Successes: \" + str(val_successes) + \"/\" + str(len(val_df)) + \" (\" + str(val_percent) + \"%)\")\n",
        "\n",
        "test_successes = test_df['All_American'].sum()\n",
        "test_percent = round(100*test_successes/len(test_df),2)\n",
        "print(\"Test Successes: \" + str(test_successes) + \"/\" + str(len(test_df)) + \" (\" + str(test_percent) + \"%)\")"
      ],
      "metadata": {
        "colab": {
          "base_uri": "https://localhost:8080/"
        },
        "id": "fN-kCFxCfmr7",
        "outputId": "52e379ea-0aac-4a10-a094-e10a5dcb524b"
      },
      "execution_count": 47,
      "outputs": [
        {
          "output_type": "stream",
          "name": "stdout",
          "text": [
            "Train Successes: 152/17837 (0.85%)\n",
            "Validation Successes: 31/3822 (0.81%)\n",
            "Test Successes: 33/3822 (0.86%)\n"
          ]
        }
      ]
    },
    {
      "cell_type": "code",
      "source": [
        "train_df.head()"
      ],
      "metadata": {
        "colab": {
          "base_uri": "https://localhost:8080/",
          "height": 386
        },
        "id": "q2fm3GuSfphd",
        "outputId": "017492be-34c8-4d31-8ef8-19b7645d7955"
      },
      "execution_count": 48,
      "outputs": [
        {
          "output_type": "execute_result",
          "data": {
            "text/plain": [
              "               Player         School  Season      FG2M       FG2A      FG3M  \\\n",
              "186         AJ Sumbry         Wagner    2019  7.871882  17.010504  0.000000   \n",
              "258      Aaron Bright   Saint Mary's    2015  3.947205   9.595791  2.994431   \n",
              "3042   Antwon Lillard  Bowling Green    2016  7.380942  12.166388  1.297748   \n",
              "51358   Chaz Williams  Massachusetts    2012  5.579776  13.760649  2.601098   \n",
              "7289   Carsen Edwards         Purdue    2018  7.134177  13.855633  5.247452   \n",
              "\n",
              "            FG3A       FTM       FTA      OREB  ...       AST       TOV  \\\n",
              "186     0.271444  5.428884  9.500548  5.700329  ...  0.633370  3.709738   \n",
              "258     9.868012  5.444420  6.193028  0.612497  ...  7.690244  4.627757   \n",
              "3042    4.785446  4.947664  7.867597  3.082152  ...  1.703294  3.568807   \n",
              "51358   6.209073  7.341810  9.313610  1.510315  ...  9.691189  5.286103   \n",
              "7289   12.735390  7.016257  8.667141  0.766482  ...  6.013934  3.537608   \n",
              "\n",
              "            STL       BLK        WP  adj_o  adj_d  sos_opp_o  sos_opp_d  \\\n",
              "186    0.633370  3.619256  0.433333   93.9  107.5      101.4      108.7   \n",
              "258    1.020829  0.000000  0.677419  110.9  100.6      106.7      104.3   \n",
              "3042   2.027731  0.729983  0.470588  100.9  106.7      104.7      106.2   \n",
              "51358  3.398209  0.293672  0.675676  106.2   96.3      105.0      101.2   \n",
              "7289   2.358406  0.471681  0.810811  122.7   96.4      109.1      100.1   \n",
              "\n",
              "       All_American  \n",
              "186               0  \n",
              "258               0  \n",
              "3042              0  \n",
              "51358             0  \n",
              "7289              1  \n",
              "\n",
              "[5 rows x 21 columns]"
            ],
            "text/html": [
              "\n",
              "  <div id=\"df-522d79d9-5583-4dd9-8948-efae94413914\">\n",
              "    <div class=\"colab-df-container\">\n",
              "      <div>\n",
              "<style scoped>\n",
              "    .dataframe tbody tr th:only-of-type {\n",
              "        vertical-align: middle;\n",
              "    }\n",
              "\n",
              "    .dataframe tbody tr th {\n",
              "        vertical-align: top;\n",
              "    }\n",
              "\n",
              "    .dataframe thead th {\n",
              "        text-align: right;\n",
              "    }\n",
              "</style>\n",
              "<table border=\"1\" class=\"dataframe\">\n",
              "  <thead>\n",
              "    <tr style=\"text-align: right;\">\n",
              "      <th></th>\n",
              "      <th>Player</th>\n",
              "      <th>School</th>\n",
              "      <th>Season</th>\n",
              "      <th>FG2M</th>\n",
              "      <th>FG2A</th>\n",
              "      <th>FG3M</th>\n",
              "      <th>FG3A</th>\n",
              "      <th>FTM</th>\n",
              "      <th>FTA</th>\n",
              "      <th>OREB</th>\n",
              "      <th>...</th>\n",
              "      <th>AST</th>\n",
              "      <th>TOV</th>\n",
              "      <th>STL</th>\n",
              "      <th>BLK</th>\n",
              "      <th>WP</th>\n",
              "      <th>adj_o</th>\n",
              "      <th>adj_d</th>\n",
              "      <th>sos_opp_o</th>\n",
              "      <th>sos_opp_d</th>\n",
              "      <th>All_American</th>\n",
              "    </tr>\n",
              "  </thead>\n",
              "  <tbody>\n",
              "    <tr>\n",
              "      <th>186</th>\n",
              "      <td>AJ Sumbry</td>\n",
              "      <td>Wagner</td>\n",
              "      <td>2019</td>\n",
              "      <td>7.871882</td>\n",
              "      <td>17.010504</td>\n",
              "      <td>0.000000</td>\n",
              "      <td>0.271444</td>\n",
              "      <td>5.428884</td>\n",
              "      <td>9.500548</td>\n",
              "      <td>5.700329</td>\n",
              "      <td>...</td>\n",
              "      <td>0.633370</td>\n",
              "      <td>3.709738</td>\n",
              "      <td>0.633370</td>\n",
              "      <td>3.619256</td>\n",
              "      <td>0.433333</td>\n",
              "      <td>93.9</td>\n",
              "      <td>107.5</td>\n",
              "      <td>101.4</td>\n",
              "      <td>108.7</td>\n",
              "      <td>0</td>\n",
              "    </tr>\n",
              "    <tr>\n",
              "      <th>258</th>\n",
              "      <td>Aaron Bright</td>\n",
              "      <td>Saint Mary's</td>\n",
              "      <td>2015</td>\n",
              "      <td>3.947205</td>\n",
              "      <td>9.595791</td>\n",
              "      <td>2.994431</td>\n",
              "      <td>9.868012</td>\n",
              "      <td>5.444420</td>\n",
              "      <td>6.193028</td>\n",
              "      <td>0.612497</td>\n",
              "      <td>...</td>\n",
              "      <td>7.690244</td>\n",
              "      <td>4.627757</td>\n",
              "      <td>1.020829</td>\n",
              "      <td>0.000000</td>\n",
              "      <td>0.677419</td>\n",
              "      <td>110.9</td>\n",
              "      <td>100.6</td>\n",
              "      <td>106.7</td>\n",
              "      <td>104.3</td>\n",
              "      <td>0</td>\n",
              "    </tr>\n",
              "    <tr>\n",
              "      <th>3042</th>\n",
              "      <td>Antwon Lillard</td>\n",
              "      <td>Bowling Green</td>\n",
              "      <td>2016</td>\n",
              "      <td>7.380942</td>\n",
              "      <td>12.166388</td>\n",
              "      <td>1.297748</td>\n",
              "      <td>4.785446</td>\n",
              "      <td>4.947664</td>\n",
              "      <td>7.867597</td>\n",
              "      <td>3.082152</td>\n",
              "      <td>...</td>\n",
              "      <td>1.703294</td>\n",
              "      <td>3.568807</td>\n",
              "      <td>2.027731</td>\n",
              "      <td>0.729983</td>\n",
              "      <td>0.470588</td>\n",
              "      <td>100.9</td>\n",
              "      <td>106.7</td>\n",
              "      <td>104.7</td>\n",
              "      <td>106.2</td>\n",
              "      <td>0</td>\n",
              "    </tr>\n",
              "    <tr>\n",
              "      <th>51358</th>\n",
              "      <td>Chaz Williams</td>\n",
              "      <td>Massachusetts</td>\n",
              "      <td>2012</td>\n",
              "      <td>5.579776</td>\n",
              "      <td>13.760649</td>\n",
              "      <td>2.601098</td>\n",
              "      <td>6.209073</td>\n",
              "      <td>7.341810</td>\n",
              "      <td>9.313610</td>\n",
              "      <td>1.510315</td>\n",
              "      <td>...</td>\n",
              "      <td>9.691189</td>\n",
              "      <td>5.286103</td>\n",
              "      <td>3.398209</td>\n",
              "      <td>0.293672</td>\n",
              "      <td>0.675676</td>\n",
              "      <td>106.2</td>\n",
              "      <td>96.3</td>\n",
              "      <td>105.0</td>\n",
              "      <td>101.2</td>\n",
              "      <td>0</td>\n",
              "    </tr>\n",
              "    <tr>\n",
              "      <th>7289</th>\n",
              "      <td>Carsen Edwards</td>\n",
              "      <td>Purdue</td>\n",
              "      <td>2018</td>\n",
              "      <td>7.134177</td>\n",
              "      <td>13.855633</td>\n",
              "      <td>5.247452</td>\n",
              "      <td>12.735390</td>\n",
              "      <td>7.016257</td>\n",
              "      <td>8.667141</td>\n",
              "      <td>0.766482</td>\n",
              "      <td>...</td>\n",
              "      <td>6.013934</td>\n",
              "      <td>3.537608</td>\n",
              "      <td>2.358406</td>\n",
              "      <td>0.471681</td>\n",
              "      <td>0.810811</td>\n",
              "      <td>122.7</td>\n",
              "      <td>96.4</td>\n",
              "      <td>109.1</td>\n",
              "      <td>100.1</td>\n",
              "      <td>1</td>\n",
              "    </tr>\n",
              "  </tbody>\n",
              "</table>\n",
              "<p>5 rows × 21 columns</p>\n",
              "</div>\n",
              "      <button class=\"colab-df-convert\" onclick=\"convertToInteractive('df-522d79d9-5583-4dd9-8948-efae94413914')\"\n",
              "              title=\"Convert this dataframe to an interactive table.\"\n",
              "              style=\"display:none;\">\n",
              "        \n",
              "  <svg xmlns=\"http://www.w3.org/2000/svg\" height=\"24px\"viewBox=\"0 0 24 24\"\n",
              "       width=\"24px\">\n",
              "    <path d=\"M0 0h24v24H0V0z\" fill=\"none\"/>\n",
              "    <path d=\"M18.56 5.44l.94 2.06.94-2.06 2.06-.94-2.06-.94-.94-2.06-.94 2.06-2.06.94zm-11 1L8.5 8.5l.94-2.06 2.06-.94-2.06-.94L8.5 2.5l-.94 2.06-2.06.94zm10 10l.94 2.06.94-2.06 2.06-.94-2.06-.94-.94-2.06-.94 2.06-2.06.94z\"/><path d=\"M17.41 7.96l-1.37-1.37c-.4-.4-.92-.59-1.43-.59-.52 0-1.04.2-1.43.59L10.3 9.45l-7.72 7.72c-.78.78-.78 2.05 0 2.83L4 21.41c.39.39.9.59 1.41.59.51 0 1.02-.2 1.41-.59l7.78-7.78 2.81-2.81c.8-.78.8-2.07 0-2.86zM5.41 20L4 18.59l7.72-7.72 1.47 1.35L5.41 20z\"/>\n",
              "  </svg>\n",
              "      </button>\n",
              "      \n",
              "  <style>\n",
              "    .colab-df-container {\n",
              "      display:flex;\n",
              "      flex-wrap:wrap;\n",
              "      gap: 12px;\n",
              "    }\n",
              "\n",
              "    .colab-df-convert {\n",
              "      background-color: #E8F0FE;\n",
              "      border: none;\n",
              "      border-radius: 50%;\n",
              "      cursor: pointer;\n",
              "      display: none;\n",
              "      fill: #1967D2;\n",
              "      height: 32px;\n",
              "      padding: 0 0 0 0;\n",
              "      width: 32px;\n",
              "    }\n",
              "\n",
              "    .colab-df-convert:hover {\n",
              "      background-color: #E2EBFA;\n",
              "      box-shadow: 0px 1px 2px rgba(60, 64, 67, 0.3), 0px 1px 3px 1px rgba(60, 64, 67, 0.15);\n",
              "      fill: #174EA6;\n",
              "    }\n",
              "\n",
              "    [theme=dark] .colab-df-convert {\n",
              "      background-color: #3B4455;\n",
              "      fill: #D2E3FC;\n",
              "    }\n",
              "\n",
              "    [theme=dark] .colab-df-convert:hover {\n",
              "      background-color: #434B5C;\n",
              "      box-shadow: 0px 1px 3px 1px rgba(0, 0, 0, 0.15);\n",
              "      filter: drop-shadow(0px 1px 2px rgba(0, 0, 0, 0.3));\n",
              "      fill: #FFFFFF;\n",
              "    }\n",
              "  </style>\n",
              "\n",
              "      <script>\n",
              "        const buttonEl =\n",
              "          document.querySelector('#df-522d79d9-5583-4dd9-8948-efae94413914 button.colab-df-convert');\n",
              "        buttonEl.style.display =\n",
              "          google.colab.kernel.accessAllowed ? 'block' : 'none';\n",
              "\n",
              "        async function convertToInteractive(key) {\n",
              "          const element = document.querySelector('#df-522d79d9-5583-4dd9-8948-efae94413914');\n",
              "          const dataTable =\n",
              "            await google.colab.kernel.invokeFunction('convertToInteractive',\n",
              "                                                     [key], {});\n",
              "          if (!dataTable) return;\n",
              "\n",
              "          const docLinkHtml = 'Like what you see? Visit the ' +\n",
              "            '<a target=\"_blank\" href=https://colab.research.google.com/notebooks/data_table.ipynb>data table notebook</a>'\n",
              "            + ' to learn more about interactive tables.';\n",
              "          element.innerHTML = '';\n",
              "          dataTable['output_type'] = 'display_data';\n",
              "          await google.colab.output.renderOutput(dataTable, element);\n",
              "          const docLink = document.createElement('div');\n",
              "          docLink.innerHTML = docLinkHtml;\n",
              "          element.appendChild(docLink);\n",
              "        }\n",
              "      </script>\n",
              "    </div>\n",
              "  </div>\n",
              "  "
            ]
          },
          "metadata": {},
          "execution_count": 48
        }
      ]
    },
    {
      "cell_type": "markdown",
      "source": [
        "Now we can begin to train the network. I turned the data into an array and separated the data into predictors and the dependent variable. In addition, I standardized all the data so that units do not have an impact. This process was repeated for the validation and test sets. I also set seeds so that the results from the neural network are reproducible. "
      ],
      "metadata": {
        "id": "DIX0juKzCGHi"
      }
    },
    {
      "cell_type": "code",
      "source": [
        "blind_df = train_df.drop([\"Player\",\"School\",\"Season\"], axis = 1)\n",
        "arr_data = np.array(blind_df)\n",
        "\n",
        "ncol = arr_data.shape[1]\n",
        "train_x = arr_data[:, 0 : ncol - 1]\n",
        "train_y = arr_data[:, ncol - 1]\n",
        "\n",
        "#Standardize all input values so they have a mean of 0 and standard deviation of 1\n",
        "st_train_x = (train_x - np.mean(train_x, axis = 0))/np.std(train_x, axis = 0)\n",
        "\n",
        "val_array = np.array(val_df.drop([\"Player\",\"School\",\"Season\"], axis = 1))\n",
        "val_x = val_array[:, 0 : ncol - 1]\n",
        "val_y = val_array[:, ncol - 1]\n",
        "\n",
        "st_val_x = (val_x - np.mean(val_x, axis = 0))/np.std(val_x, axis = 0)\n",
        "\n",
        "test_array = np.array(test_df.drop([\"Player\",\"School\",\"Season\"], axis = 1))\n",
        "test_x = test_array[:, 0 : ncol - 1]\n",
        "test_y = test_array[:, ncol - 1]\n",
        "\n",
        "st_test_x = (test_x - np.mean(test_x, axis = 0))/np.std(test_x, axis = 0)"
      ],
      "metadata": {
        "id": "TURZGvROft33"
      },
      "execution_count": 49,
      "outputs": []
    },
    {
      "cell_type": "code",
      "source": [
        "SEED_VAL = 123\n",
        "random.seed(SEED_VAL)\n",
        "np.random.seed(SEED_VAL)\n",
        "tf.random.set_seed(SEED_VAL)"
      ],
      "metadata": {
        "id": "XJcio9wDH_HB"
      },
      "execution_count": 50,
      "outputs": []
    },
    {
      "cell_type": "markdown",
      "source": [
        "I chose to use a neural network with 1 hidden layer. This hidden layer has 5 nodes. I played around with the number of nodes in the hidden layer and found that 5 nodes produced the best results in the validation set. Adding more layers did not provide any more accurate predictions on the validation set, so its possible that adding more hidden layers led to overfitting in the model. Therefore, the final model has 1 hidden layer with 5 nodes. The sigmoid activation function is needed for the final step because the outputs needed to be probabilities. \n",
        "\n",
        "Other hyperparameters included the number of epochs and batch size. After varying these parameters, I found that the best results came when the number of epochs was 30 and the batch size was 32. Increasing the epochs led to inaccurate validation set predictions as the model was likely overfit. Although increasing the batch size led to faster training, it resulted in worse predictions. I also tried reducing the batch size but the validation set results were still not as good."
      ],
      "metadata": {
        "id": "afK8_YmuOV6g"
      }
    },
    {
      "cell_type": "code",
      "source": [
        "nn = keras.Sequential([\n",
        "    keras.layers.Dense(units = 5, input_shape = (17,), activation = 'relu'),\n",
        "    keras.layers.Dense(units = 1, activation = 'sigmoid')\n",
        "])"
      ],
      "metadata": {
        "id": "P27t3rjcnR3m"
      },
      "execution_count": 51,
      "outputs": []
    },
    {
      "cell_type": "code",
      "source": [
        "nn.compile(optimizer = 'adam', \n",
        "           loss = 'binary_crossentropy',\n",
        "           metrics = ['accuracy'])\n",
        "\n",
        "history = nn.fit(st_train_x, train_y, epochs = 30, batch_size = 32)"
      ],
      "metadata": {
        "colab": {
          "base_uri": "https://localhost:8080/"
        },
        "id": "V57-t7GrD4Rf",
        "outputId": "0002c883-c836-4980-8e20-ea06fd3b05aa"
      },
      "execution_count": 52,
      "outputs": [
        {
          "output_type": "stream",
          "name": "stdout",
          "text": [
            "Epoch 1/30\n",
            "558/558 [==============================] - 2s 2ms/step - loss: 0.2767 - accuracy: 0.9059\n",
            "Epoch 2/30\n",
            "558/558 [==============================] - 1s 2ms/step - loss: 0.0727 - accuracy: 0.9915\n",
            "Epoch 3/30\n",
            "558/558 [==============================] - 2s 3ms/step - loss: 0.0500 - accuracy: 0.9916\n",
            "Epoch 4/30\n",
            "558/558 [==============================] - 2s 3ms/step - loss: 0.0408 - accuracy: 0.9917\n",
            "Epoch 5/30\n",
            "558/558 [==============================] - 1s 2ms/step - loss: 0.0352 - accuracy: 0.9920\n",
            "Epoch 6/30\n",
            "558/558 [==============================] - 1s 2ms/step - loss: 0.0311 - accuracy: 0.9921\n",
            "Epoch 7/30\n",
            "558/558 [==============================] - 1s 2ms/step - loss: 0.0274 - accuracy: 0.9922\n",
            "Epoch 8/30\n",
            "558/558 [==============================] - 1s 2ms/step - loss: 0.0243 - accuracy: 0.9929\n",
            "Epoch 9/30\n",
            "558/558 [==============================] - 1s 2ms/step - loss: 0.0224 - accuracy: 0.9930\n",
            "Epoch 10/30\n",
            "558/558 [==============================] - 1s 2ms/step - loss: 0.0208 - accuracy: 0.9930\n",
            "Epoch 11/30\n",
            "558/558 [==============================] - 1s 2ms/step - loss: 0.0198 - accuracy: 0.9932\n",
            "Epoch 12/30\n",
            "558/558 [==============================] - 1s 2ms/step - loss: 0.0190 - accuracy: 0.9932\n",
            "Epoch 13/30\n",
            "558/558 [==============================] - 2s 3ms/step - loss: 0.0184 - accuracy: 0.9936\n",
            "Epoch 14/30\n",
            "558/558 [==============================] - 2s 3ms/step - loss: 0.0179 - accuracy: 0.9936\n",
            "Epoch 15/30\n",
            "558/558 [==============================] - 1s 2ms/step - loss: 0.0175 - accuracy: 0.9939\n",
            "Epoch 16/30\n",
            "558/558 [==============================] - 2s 3ms/step - loss: 0.0170 - accuracy: 0.9938\n",
            "Epoch 17/30\n",
            "558/558 [==============================] - 1s 3ms/step - loss: 0.0167 - accuracy: 0.9937\n",
            "Epoch 18/30\n",
            "558/558 [==============================] - 2s 3ms/step - loss: 0.0167 - accuracy: 0.9938\n",
            "Epoch 19/30\n",
            "558/558 [==============================] - 2s 3ms/step - loss: 0.0164 - accuracy: 0.9937\n",
            "Epoch 20/30\n",
            "558/558 [==============================] - 2s 3ms/step - loss: 0.0162 - accuracy: 0.9936\n",
            "Epoch 21/30\n",
            "558/558 [==============================] - 6s 10ms/step - loss: 0.0160 - accuracy: 0.9939\n",
            "Epoch 22/30\n",
            "558/558 [==============================] - 1s 2ms/step - loss: 0.0159 - accuracy: 0.9938\n",
            "Epoch 23/30\n",
            "558/558 [==============================] - 1s 2ms/step - loss: 0.0158 - accuracy: 0.9940\n",
            "Epoch 24/30\n",
            "558/558 [==============================] - 1s 2ms/step - loss: 0.0149 - accuracy: 0.9941\n",
            "Epoch 25/30\n",
            "558/558 [==============================] - 1s 2ms/step - loss: 0.0157 - accuracy: 0.9939\n",
            "Epoch 26/30\n",
            "558/558 [==============================] - 1s 2ms/step - loss: 0.0154 - accuracy: 0.9942\n",
            "Epoch 27/30\n",
            "558/558 [==============================] - 1s 2ms/step - loss: 0.0156 - accuracy: 0.9941\n",
            "Epoch 28/30\n",
            "558/558 [==============================] - 1s 2ms/step - loss: 0.0152 - accuracy: 0.9939\n",
            "Epoch 29/30\n",
            "558/558 [==============================] - 1s 3ms/step - loss: 0.0152 - accuracy: 0.9941\n",
            "Epoch 30/30\n",
            "558/558 [==============================] - 2s 4ms/step - loss: 0.0151 - accuracy: 0.9942\n"
          ]
        }
      ]
    },
    {
      "cell_type": "markdown",
      "source": [
        "Let's see some of the output of the neural network on the training set. This set included most of the data. A peak at the results below shows that it gave extremely high probabilities to players that were considered easy All-American picks. Among the 5 players with the greatest All-American probability in the training set, 4 were named First-Team All-Americans in all 4 sites used to compile the consensus All-Americans. "
      ],
      "metadata": {
        "id": "ufGQZgJpPetN"
      }
    },
    {
      "cell_type": "code",
      "source": [
        "train_pred = nn.predict(st_train_x)\n",
        "train_df[\"phat_nn\"] = train_pred\n",
        "train_results = train_df[train_df[\"phat_nn\"] >= 0.5]\n",
        "train_results = train_results[[\"Player\",\"Season\",\"School\",\"All_American\",\"phat_nn\"]]\n",
        "train_results = train_results.sort_values(by = \"phat_nn\", ascending = False)\n",
        "train_results"
      ],
      "metadata": {
        "colab": {
          "base_uri": "https://localhost:8080/",
          "height": 442
        },
        "id": "czZYzcJNpBg4",
        "outputId": "e8ef4ed5-5efe-4655-e409-30170c7fb0fa"
      },
      "execution_count": 53,
      "outputs": [
        {
          "output_type": "stream",
          "name": "stdout",
          "text": [
            "558/558 [==============================] - 1s 2ms/step\n"
          ]
        },
        {
          "output_type": "execute_result",
          "data": {
            "text/plain": [
              "                  Player  Season        School  All_American   phat_nn\n",
              "16803     Frank Kaminsky    2015     Wisconsin             1  0.995866\n",
              "21941       Jared Butler    2021        Baylor             1  0.989195\n",
              "7463     Cassius Winston    2019  Michigan St.             1  0.986382\n",
              "23718    Jimmer Fredette    2011           BYU             1  0.976367\n",
              "26120          Josh Hart    2017     Villanova             1  0.965286\n",
              "...                  ...     ...           ...           ...       ...\n",
              "3804     Azuolas Tubelis    2022       Arizona             0  0.513147\n",
              "21940       Jared Butler    2020        Baylor             1  0.512301\n",
              "18517   Hunter Dickinson    2021      Michigan             1  0.507464\n",
              "22221  Jarron Cumberland    2019    Cincinnati             0  0.503742\n",
              "47606     Victor Oladipo    2013       Indiana             1  0.501836\n",
              "\n",
              "[110 rows x 5 columns]"
            ],
            "text/html": [
              "\n",
              "  <div id=\"df-1a3a95a6-2572-4b08-afd6-88bc9ac64966\">\n",
              "    <div class=\"colab-df-container\">\n",
              "      <div>\n",
              "<style scoped>\n",
              "    .dataframe tbody tr th:only-of-type {\n",
              "        vertical-align: middle;\n",
              "    }\n",
              "\n",
              "    .dataframe tbody tr th {\n",
              "        vertical-align: top;\n",
              "    }\n",
              "\n",
              "    .dataframe thead th {\n",
              "        text-align: right;\n",
              "    }\n",
              "</style>\n",
              "<table border=\"1\" class=\"dataframe\">\n",
              "  <thead>\n",
              "    <tr style=\"text-align: right;\">\n",
              "      <th></th>\n",
              "      <th>Player</th>\n",
              "      <th>Season</th>\n",
              "      <th>School</th>\n",
              "      <th>All_American</th>\n",
              "      <th>phat_nn</th>\n",
              "    </tr>\n",
              "  </thead>\n",
              "  <tbody>\n",
              "    <tr>\n",
              "      <th>16803</th>\n",
              "      <td>Frank Kaminsky</td>\n",
              "      <td>2015</td>\n",
              "      <td>Wisconsin</td>\n",
              "      <td>1</td>\n",
              "      <td>0.995866</td>\n",
              "    </tr>\n",
              "    <tr>\n",
              "      <th>21941</th>\n",
              "      <td>Jared Butler</td>\n",
              "      <td>2021</td>\n",
              "      <td>Baylor</td>\n",
              "      <td>1</td>\n",
              "      <td>0.989195</td>\n",
              "    </tr>\n",
              "    <tr>\n",
              "      <th>7463</th>\n",
              "      <td>Cassius Winston</td>\n",
              "      <td>2019</td>\n",
              "      <td>Michigan St.</td>\n",
              "      <td>1</td>\n",
              "      <td>0.986382</td>\n",
              "    </tr>\n",
              "    <tr>\n",
              "      <th>23718</th>\n",
              "      <td>Jimmer Fredette</td>\n",
              "      <td>2011</td>\n",
              "      <td>BYU</td>\n",
              "      <td>1</td>\n",
              "      <td>0.976367</td>\n",
              "    </tr>\n",
              "    <tr>\n",
              "      <th>26120</th>\n",
              "      <td>Josh Hart</td>\n",
              "      <td>2017</td>\n",
              "      <td>Villanova</td>\n",
              "      <td>1</td>\n",
              "      <td>0.965286</td>\n",
              "    </tr>\n",
              "    <tr>\n",
              "      <th>...</th>\n",
              "      <td>...</td>\n",
              "      <td>...</td>\n",
              "      <td>...</td>\n",
              "      <td>...</td>\n",
              "      <td>...</td>\n",
              "    </tr>\n",
              "    <tr>\n",
              "      <th>3804</th>\n",
              "      <td>Azuolas Tubelis</td>\n",
              "      <td>2022</td>\n",
              "      <td>Arizona</td>\n",
              "      <td>0</td>\n",
              "      <td>0.513147</td>\n",
              "    </tr>\n",
              "    <tr>\n",
              "      <th>21940</th>\n",
              "      <td>Jared Butler</td>\n",
              "      <td>2020</td>\n",
              "      <td>Baylor</td>\n",
              "      <td>1</td>\n",
              "      <td>0.512301</td>\n",
              "    </tr>\n",
              "    <tr>\n",
              "      <th>18517</th>\n",
              "      <td>Hunter Dickinson</td>\n",
              "      <td>2021</td>\n",
              "      <td>Michigan</td>\n",
              "      <td>1</td>\n",
              "      <td>0.507464</td>\n",
              "    </tr>\n",
              "    <tr>\n",
              "      <th>22221</th>\n",
              "      <td>Jarron Cumberland</td>\n",
              "      <td>2019</td>\n",
              "      <td>Cincinnati</td>\n",
              "      <td>0</td>\n",
              "      <td>0.503742</td>\n",
              "    </tr>\n",
              "    <tr>\n",
              "      <th>47606</th>\n",
              "      <td>Victor Oladipo</td>\n",
              "      <td>2013</td>\n",
              "      <td>Indiana</td>\n",
              "      <td>1</td>\n",
              "      <td>0.501836</td>\n",
              "    </tr>\n",
              "  </tbody>\n",
              "</table>\n",
              "<p>110 rows × 5 columns</p>\n",
              "</div>\n",
              "      <button class=\"colab-df-convert\" onclick=\"convertToInteractive('df-1a3a95a6-2572-4b08-afd6-88bc9ac64966')\"\n",
              "              title=\"Convert this dataframe to an interactive table.\"\n",
              "              style=\"display:none;\">\n",
              "        \n",
              "  <svg xmlns=\"http://www.w3.org/2000/svg\" height=\"24px\"viewBox=\"0 0 24 24\"\n",
              "       width=\"24px\">\n",
              "    <path d=\"M0 0h24v24H0V0z\" fill=\"none\"/>\n",
              "    <path d=\"M18.56 5.44l.94 2.06.94-2.06 2.06-.94-2.06-.94-.94-2.06-.94 2.06-2.06.94zm-11 1L8.5 8.5l.94-2.06 2.06-.94-2.06-.94L8.5 2.5l-.94 2.06-2.06.94zm10 10l.94 2.06.94-2.06 2.06-.94-2.06-.94-.94-2.06-.94 2.06-2.06.94z\"/><path d=\"M17.41 7.96l-1.37-1.37c-.4-.4-.92-.59-1.43-.59-.52 0-1.04.2-1.43.59L10.3 9.45l-7.72 7.72c-.78.78-.78 2.05 0 2.83L4 21.41c.39.39.9.59 1.41.59.51 0 1.02-.2 1.41-.59l7.78-7.78 2.81-2.81c.8-.78.8-2.07 0-2.86zM5.41 20L4 18.59l7.72-7.72 1.47 1.35L5.41 20z\"/>\n",
              "  </svg>\n",
              "      </button>\n",
              "      \n",
              "  <style>\n",
              "    .colab-df-container {\n",
              "      display:flex;\n",
              "      flex-wrap:wrap;\n",
              "      gap: 12px;\n",
              "    }\n",
              "\n",
              "    .colab-df-convert {\n",
              "      background-color: #E8F0FE;\n",
              "      border: none;\n",
              "      border-radius: 50%;\n",
              "      cursor: pointer;\n",
              "      display: none;\n",
              "      fill: #1967D2;\n",
              "      height: 32px;\n",
              "      padding: 0 0 0 0;\n",
              "      width: 32px;\n",
              "    }\n",
              "\n",
              "    .colab-df-convert:hover {\n",
              "      background-color: #E2EBFA;\n",
              "      box-shadow: 0px 1px 2px rgba(60, 64, 67, 0.3), 0px 1px 3px 1px rgba(60, 64, 67, 0.15);\n",
              "      fill: #174EA6;\n",
              "    }\n",
              "\n",
              "    [theme=dark] .colab-df-convert {\n",
              "      background-color: #3B4455;\n",
              "      fill: #D2E3FC;\n",
              "    }\n",
              "\n",
              "    [theme=dark] .colab-df-convert:hover {\n",
              "      background-color: #434B5C;\n",
              "      box-shadow: 0px 1px 3px 1px rgba(0, 0, 0, 0.15);\n",
              "      filter: drop-shadow(0px 1px 2px rgba(0, 0, 0, 0.3));\n",
              "      fill: #FFFFFF;\n",
              "    }\n",
              "  </style>\n",
              "\n",
              "      <script>\n",
              "        const buttonEl =\n",
              "          document.querySelector('#df-1a3a95a6-2572-4b08-afd6-88bc9ac64966 button.colab-df-convert');\n",
              "        buttonEl.style.display =\n",
              "          google.colab.kernel.accessAllowed ? 'block' : 'none';\n",
              "\n",
              "        async function convertToInteractive(key) {\n",
              "          const element = document.querySelector('#df-1a3a95a6-2572-4b08-afd6-88bc9ac64966');\n",
              "          const dataTable =\n",
              "            await google.colab.kernel.invokeFunction('convertToInteractive',\n",
              "                                                     [key], {});\n",
              "          if (!dataTable) return;\n",
              "\n",
              "          const docLinkHtml = 'Like what you see? Visit the ' +\n",
              "            '<a target=\"_blank\" href=https://colab.research.google.com/notebooks/data_table.ipynb>data table notebook</a>'\n",
              "            + ' to learn more about interactive tables.';\n",
              "          element.innerHTML = '';\n",
              "          dataTable['output_type'] = 'display_data';\n",
              "          await google.colab.output.renderOutput(dataTable, element);\n",
              "          const docLink = document.createElement('div');\n",
              "          docLink.innerHTML = docLinkHtml;\n",
              "          element.appendChild(docLink);\n",
              "        }\n",
              "      </script>\n",
              "    </div>\n",
              "  </div>\n",
              "  "
            ]
          },
          "metadata": {},
          "execution_count": 53
        }
      ]
    },
    {
      "cell_type": "markdown",
      "source": [
        "We can also take a look at the validation set. The root mean squared error was 0.076. Both of the players with an All-American probability greater than 90% (RJ Barrett and Trey Burke) were on the first-team for all 4 sites. "
      ],
      "metadata": {
        "id": "BB0rd4TNQV6V"
      }
    },
    {
      "cell_type": "code",
      "source": [
        "val_pred = nn.predict(st_val_x)\n",
        "val_df[\"phat_nn\"] = val_pred\n",
        "val_results = val_df[val_df[\"phat_nn\"] >= 0.5]\n",
        "val_results = val_results[[\"Player\",\"Season\",\"School\",\"All_American\",\"phat_nn\"]]\n",
        "val_results = val_results.sort_values(by = \"phat_nn\", ascending = False)\n",
        "print(val_results.head())\n",
        "val_RMSE = ((val_df.phat_nn - val_df.All_American) ** 2).mean() ** .5\n",
        "print(\"Validation Set RMSE: \" + str(round(val_RMSE,4)))"
      ],
      "metadata": {
        "colab": {
          "base_uri": "https://localhost:8080/"
        },
        "id": "588xU2a_vRoM",
        "outputId": "13face49-7444-4df4-94be-536b955bc863"
      },
      "execution_count": 54,
      "outputs": [
        {
          "output_type": "stream",
          "name": "stdout",
          "text": [
            "120/120 [==============================] - 0s 1ms/step\n",
            "                Player  Season          School  All_American   phat_nn\n",
            "46204       Trey Burke    2013        Michigan             1  0.967635\n",
            "39163       RJ Barrett    2019            Duke             1  0.965137\n",
            "9977     Corey Kispert    2021         Gonzaga             1  0.864088\n",
            "5854     Brice Johnson    2016  North Carolina             1  0.832533\n",
            "22026  Jared Sullinger    2012        Ohio St.             1  0.811634\n",
            "Validation Set RMSE: 0.076\n"
          ]
        }
      ]
    },
    {
      "cell_type": "markdown",
      "source": [
        "Finally, we can make predictions on the test set. This set will give the best idea of how the model will perform on unseen data. Surprisingly, the RMSE of the test set was much lower than for the validation set. This means we have a pretty good model for predicting All-Americans. "
      ],
      "metadata": {
        "id": "3UT0-_J1Q4NH"
      }
    },
    {
      "cell_type": "code",
      "source": [
        "test_pred = nn.predict(st_test_x)\n",
        "test_df[\"phat_nn\"] = test_pred\n",
        "test_results = test_df[test_df[\"phat_nn\"] >= 0.5]\n",
        "test_results = test_results[[\"Player\",\"Season\",\"School\",\"All_American\",\"phat_nn\"]]\n",
        "test_results = test_results.sort_values(by = \"phat_nn\", ascending = False)\n",
        "print(test_results.head())\n",
        "test_RMSE = ((test_df.phat_nn - test_df.All_American) ** 2).mean() ** .5\n",
        "print(\"Test Set RMSE: \" + str(round(test_RMSE,4)))"
      ],
      "metadata": {
        "colab": {
          "base_uri": "https://localhost:8080/"
        },
        "id": "AmUqgblPyE20",
        "outputId": "1d6cda36-c29f-4fe3-c9da-84b1bc033db6"
      },
      "execution_count": 55,
      "outputs": [
        {
          "output_type": "stream",
          "name": "stdout",
          "text": [
            "120/120 [==============================] - 1s 5ms/step\n",
            "                 Player  Season        School  All_American   phat_nn\n",
            "12990  Denzel Valentine    2016  Michigan St.             1  0.994975\n",
            "49272   Zion Williamson    2019          Duke             1  0.994145\n",
            "31381        Luka Garza    2021          Iowa             1  0.991126\n",
            "14458    Doug McDermott    2014     Creighton             1  0.979887\n",
            "41000        Russ Smith    2013    Louisville             1  0.947474\n",
            "Test Set RMSE: 0.0595\n"
          ]
        }
      ]
    },
    {
      "cell_type": "markdown",
      "source": [
        "To get a better idea of the model's performance, I looked at some false positive and false negative results. False negative results included players that actually got All-American votes but had a low probability from the model. False positive results include players with a >50% probability of being an All-American according to the model but in reality did not get any votes. "
      ],
      "metadata": {
        "id": "DAGL7QxKRpGW"
      }
    },
    {
      "cell_type": "code",
      "source": [
        "false_neg = test_df[test_df[\"All_American\"] == 1]\n",
        "false_neg = false_neg[[\"Player\",\"Season\",\"School\",\"All_American\",\"phat_nn\"]]\n",
        "false_neg = false_neg.sort_values(by = \"phat_nn\")\n",
        "print(\"False Negatives: \")\n",
        "print(false_neg.head())\n",
        "\n",
        "false_pos = test_df[test_df[\"All_American\"] == 0]\n",
        "false_pos = false_pos[[\"Player\",\"Season\",\"School\",\"All_American\",\"phat_nn\"]]\n",
        "false_pos = false_pos.sort_values(by = \"phat_nn\", ascending = False)\n",
        "print(\"\\n\\nFalse Positives: \")\n",
        "print(false_pos.head())"
      ],
      "metadata": {
        "colab": {
          "base_uri": "https://localhost:8080/"
        },
        "id": "Tq1BMBJBysR3",
        "outputId": "2741a30e-42a1-4ab9-8e86-ca9f1c523d13"
      },
      "execution_count": 56,
      "outputs": [
        {
          "output_type": "stream",
          "name": "stdout",
          "text": [
            "False Negatives: \n",
            "                 Player  Season        School  All_American   phat_nn\n",
            "28554    Kenneth Faried    2011  Morehead St.             1  0.013448\n",
            "18986     Isaiah Canaan    2012    Murray St.             1  0.017212\n",
            "24657     Johnny Juzang    2022          UCLA             1  0.046187\n",
            "42399  Shabazz Muhammad    2013          UCLA             1  0.052348\n",
            "27990        Kay Felder    2016       Oakland             1  0.120074\n",
            "\n",
            "\n",
            "False Positives: \n",
            "                Player  Season         School  All_American   phat_nn\n",
            "46676        Ty Jerome    2019       Virginia             0  0.764839\n",
            "7462   Cassius Winston    2018   Michigan St.             0  0.666072\n",
            "806      Adreian Payne    2014   Michigan St.             0  0.573793\n",
            "4688     Bonzie Colson    2018     Notre Dame             0  0.519737\n",
            "13075     Derek Culver    2021  West Virginia             0  0.514059\n"
          ]
        }
      ]
    },
    {
      "cell_type": "markdown",
      "source": [
        "Looking at the false negatives, we can get a sense of what the model sees as important. 3 of the 5 players with the lowest probabilities that actually got All-American votes were on mid-major teams, meaning they played inferior schedules to most All-American players. This means the model likely gives a high weight to team performance and strength of schedule. The 2 high-major false negatives were only voted as All-Americans by 1 of the 4 voting sites, meaning they were not widely seen as All-Americans. \n",
        "\n",
        "It seems that there were few extreme false positives in the test set as the highest probability for a false positive was just 76% while most were around 50%. This tells us that the model has a high specificity. "
      ],
      "metadata": {
        "id": "kwXHXtfBR_Nj"
      }
    },
    {
      "cell_type": "markdown",
      "source": [
        "Now, we can apply our predictions to this season. Using player and team stats up until the games of February 11, 2023 can show us which players will likely make All-American teams. "
      ],
      "metadata": {
        "id": "3QksvFx1UqyD"
      }
    },
    {
      "cell_type": "code",
      "source": [
        "data23 = data23.assign(FG2M = lambda x: x[\"FGM\"] - x[\"FG3M\"])\n",
        "data23 = data23.assign(FG2A = lambda x: x[\"FGA\"] - x[\"FG3A\"])\n",
        "data23 = data23[[\"Player\",\"School\",\"Season\",\"FG2M\",\"FG2A\",\"FG3M\",\"FG3A\",\"FTM\",\"FTA\",\"OREB\",\"DREB\",\"AST\",\n",
        "                 \"TOV\",\"STL\",\"BLK\",\"WP\",\"adj_o\",\"adj_d\",\"sos_opp_o\",\"sos_opp_d\"]]\n",
        "\n",
        "data23_x = np.array(data23.drop([\"Player\",\"School\",\"Season\"], axis = 1))\n",
        "\n",
        "st_data23_x = (data23_x - np.mean(data23_x, axis = 0))/np.std(data23_x, axis = 0)\n",
        "\n",
        "data23_pred = nn.predict(st_data23_x)\n",
        "data23[\"phat_nn\"] = data23_pred\n",
        "data23_results = data23[[\"Player\",\"Season\",\"School\",\"phat_nn\"]]\n",
        "data23_results = data23_results.sort_values(by = \"phat_nn\", ascending = False)\n",
        "print(data23_results.head(20))\n",
        "\n"
      ],
      "metadata": {
        "colab": {
          "base_uri": "https://localhost:8080/"
        },
        "id": "SMyW5fvGzfb0",
        "outputId": "317716c9-cc1e-4608-9a0d-2f64263e9dde"
      },
      "execution_count": 57,
      "outputs": [
        {
          "output_type": "stream",
          "name": "stdout",
          "text": [
            "70/70 [==============================] - 0s 1ms/step\n",
            "                     Player  Season       School   phat_nn\n",
            "48838             Zach Edey    2023       Purdue  0.984472\n",
            "21173          Jalen Wilson    2023       Kansas  0.885775\n",
            "3805        Azuolas Tubelis    2023      Arizona  0.868469\n",
            "45813  Trayce Jackson-Davis    2023      Indiana  0.768406\n",
            "5174         Brandon Miller    2023      Alabama  0.754298\n",
            "32564         Marcus Sasser    2023      Houston  0.644999\n",
            "49474          Adama Sanogo    2023  Connecticut  0.618253\n",
            "29161        Keyonte George    2023       Baylor  0.608215\n",
            "32881       Markquis Nowell    2023   Kansas St.  0.505917\n",
            "14663            Drew Timme    2023      Gonzaga  0.504127\n",
            "29788           Kris Murray    2023         Iowa  0.437799\n",
            "5861       Brice Sensabaugh    2023     Ohio St.  0.426707\n",
            "32401           Marcus Carr    2023        Texas  0.426264\n",
            "29542            Kobe Brown    2023     Missouri  0.410941\n",
            "37791           Oumar Ballo    2023      Arizona  0.397959\n",
            "20494          Jahmir Young    2023     Maryland  0.331196\n",
            "627            Adam Flagler    2023       Baylor  0.325782\n",
            "28510         Kendric Davis    2023      Memphis  0.324196\n",
            "31008          Liam Robbins    2023   Vanderbilt  0.317167\n",
            "21910         Jarace Walker    2023      Houston  0.303741\n"
          ]
        }
      ]
    },
    {
      "cell_type": "markdown",
      "source": [
        "Above we see the 20 players with the greatest All-American probabilities. Ten of them have probabilities above 50%. Zach Edey, Jalen Wilson, and Azuolas Tubelis are the most surefire All-Americans, and most college basketball fans would agree with this statement. Right now, it looks like the First Team All-Americans could compose of Edey, Wilson, Tubelis, Jackson-Davis, and Miller (ignoring positions). "
      ],
      "metadata": {
        "id": "8ObWflQhU7kr"
      }
    },
    {
      "cell_type": "markdown",
      "source": [
        "In the code below, we can see the most likely All-Americans in each team. For example, I have the All-American probabilities for Duke. It looks like Duke will not have an All-American player this year, as their most likely All-American is Kyle Filipowski at about 4%. "
      ],
      "metadata": {
        "id": "j5XRwXyXVeJr"
      }
    },
    {
      "cell_type": "code",
      "source": [
        "#TEAM ALL-AMERICANS 2023\n",
        "TEAM = \"Duke\"\n",
        "\n",
        "team_results = data23_results[data23_results[\"School\"] == TEAM]\n",
        "print(team_results.head())"
      ],
      "metadata": {
        "colab": {
          "base_uri": "https://localhost:8080/"
        },
        "id": "bnzYa-1P2AaE",
        "outputId": "4b7d3391-d01e-4a1c-aa97-68d5ce89381a"
      },
      "execution_count": 58,
      "outputs": [
        {
          "output_type": "stream",
          "name": "stdout",
          "text": [
            "                 Player  Season School   phat_nn\n",
            "30032   Kyle Filipowski    2023   Duke  0.037040\n",
            "23333      Jeremy Roach    2023   Duke  0.000744\n",
            "41462        Ryan Young    2023   Duke  0.000462\n",
            "13060  Dereck Lively II    2023   Duke  0.000438\n",
            "47280    Tyrese Proctor    2023   Duke  0.000196\n"
          ]
        }
      ]
    },
    {
      "cell_type": "markdown",
      "source": [
        "We can also train a logistic regression using the same data. I wanted to train both a neural network and a logistic regression then compare results and see which model performed better. "
      ],
      "metadata": {
        "id": "yoFTqDTtVoc-"
      }
    },
    {
      "cell_type": "code",
      "source": [
        "logReg = LogisticRegression()\n",
        "logReg.fit(st_train_x, train_y)"
      ],
      "metadata": {
        "colab": {
          "base_uri": "https://localhost:8080/"
        },
        "id": "Y2-WWhYuP6nG",
        "outputId": "0dac0b36-a94b-4f22-e9e0-ebef56b89971"
      },
      "execution_count": 59,
      "outputs": [
        {
          "output_type": "execute_result",
          "data": {
            "text/plain": [
              "LogisticRegression()"
            ]
          },
          "metadata": {},
          "execution_count": 59
        }
      ]
    },
    {
      "cell_type": "code",
      "source": [
        "train_pred_lr = logReg.predict_proba(st_train_x)\n",
        "train_df[\"phat_logis\"] = train_pred_lr[:, 1]\n",
        "train_results = train_df[train_df[\"phat_logis\"] >= 0.5]\n",
        "train_results = train_results[[\"Player\",\"Season\",\"School\",\"All_American\",\"phat_nn\",\"phat_logis\"]]\n",
        "train_results = train_results.sort_values(by = \"phat_logis\", ascending = False)\n",
        "train_results"
      ],
      "metadata": {
        "colab": {
          "base_uri": "https://localhost:8080/",
          "height": 424
        },
        "id": "5Sh3RbLlSV1q",
        "outputId": "682c1945-07cf-491d-bf14-97b7ba43b488"
      },
      "execution_count": 60,
      "outputs": [
        {
          "output_type": "execute_result",
          "data": {
            "text/plain": [
              "                Player  Season         School  All_American   phat_nn  \\\n",
              "16803   Frank Kaminsky    2015      Wisconsin             1  0.995866   \n",
              "7463   Cassius Winston    2019   Michigan St.             1  0.986382   \n",
              "23718  Jimmer Fredette    2011            BYU             1  0.976367   \n",
              "21941     Jared Butler    2021         Baylor             1  0.989195   \n",
              "48837        Zach Edey    2022         Purdue             0  0.949485   \n",
              "...                ...     ...            ...           ...       ...   \n",
              "12649    Dedric Lawson    2019         Kansas             1  0.733528   \n",
              "13784  Devonte' Graham    2018         Kansas             1  0.637273   \n",
              "17249      Gary Harris    2014   Michigan St.             0  0.551987   \n",
              "37378      Norris Cole    2011  Cleveland St.             0  0.437036   \n",
              "2042     Andre Curbelo    2021       Illinois             0  0.059155   \n",
              "\n",
              "       phat_logis  \n",
              "16803    0.996742  \n",
              "7463     0.990500  \n",
              "23718    0.987820  \n",
              "21941    0.984243  \n",
              "48837    0.978070  \n",
              "...           ...  \n",
              "12649    0.526929  \n",
              "13784    0.522619  \n",
              "17249    0.522001  \n",
              "37378    0.519977  \n",
              "2042     0.511448  \n",
              "\n",
              "[97 rows x 6 columns]"
            ],
            "text/html": [
              "\n",
              "  <div id=\"df-d4f6d98d-59c3-4140-b36e-5c97606dc49b\">\n",
              "    <div class=\"colab-df-container\">\n",
              "      <div>\n",
              "<style scoped>\n",
              "    .dataframe tbody tr th:only-of-type {\n",
              "        vertical-align: middle;\n",
              "    }\n",
              "\n",
              "    .dataframe tbody tr th {\n",
              "        vertical-align: top;\n",
              "    }\n",
              "\n",
              "    .dataframe thead th {\n",
              "        text-align: right;\n",
              "    }\n",
              "</style>\n",
              "<table border=\"1\" class=\"dataframe\">\n",
              "  <thead>\n",
              "    <tr style=\"text-align: right;\">\n",
              "      <th></th>\n",
              "      <th>Player</th>\n",
              "      <th>Season</th>\n",
              "      <th>School</th>\n",
              "      <th>All_American</th>\n",
              "      <th>phat_nn</th>\n",
              "      <th>phat_logis</th>\n",
              "    </tr>\n",
              "  </thead>\n",
              "  <tbody>\n",
              "    <tr>\n",
              "      <th>16803</th>\n",
              "      <td>Frank Kaminsky</td>\n",
              "      <td>2015</td>\n",
              "      <td>Wisconsin</td>\n",
              "      <td>1</td>\n",
              "      <td>0.995866</td>\n",
              "      <td>0.996742</td>\n",
              "    </tr>\n",
              "    <tr>\n",
              "      <th>7463</th>\n",
              "      <td>Cassius Winston</td>\n",
              "      <td>2019</td>\n",
              "      <td>Michigan St.</td>\n",
              "      <td>1</td>\n",
              "      <td>0.986382</td>\n",
              "      <td>0.990500</td>\n",
              "    </tr>\n",
              "    <tr>\n",
              "      <th>23718</th>\n",
              "      <td>Jimmer Fredette</td>\n",
              "      <td>2011</td>\n",
              "      <td>BYU</td>\n",
              "      <td>1</td>\n",
              "      <td>0.976367</td>\n",
              "      <td>0.987820</td>\n",
              "    </tr>\n",
              "    <tr>\n",
              "      <th>21941</th>\n",
              "      <td>Jared Butler</td>\n",
              "      <td>2021</td>\n",
              "      <td>Baylor</td>\n",
              "      <td>1</td>\n",
              "      <td>0.989195</td>\n",
              "      <td>0.984243</td>\n",
              "    </tr>\n",
              "    <tr>\n",
              "      <th>48837</th>\n",
              "      <td>Zach Edey</td>\n",
              "      <td>2022</td>\n",
              "      <td>Purdue</td>\n",
              "      <td>0</td>\n",
              "      <td>0.949485</td>\n",
              "      <td>0.978070</td>\n",
              "    </tr>\n",
              "    <tr>\n",
              "      <th>...</th>\n",
              "      <td>...</td>\n",
              "      <td>...</td>\n",
              "      <td>...</td>\n",
              "      <td>...</td>\n",
              "      <td>...</td>\n",
              "      <td>...</td>\n",
              "    </tr>\n",
              "    <tr>\n",
              "      <th>12649</th>\n",
              "      <td>Dedric Lawson</td>\n",
              "      <td>2019</td>\n",
              "      <td>Kansas</td>\n",
              "      <td>1</td>\n",
              "      <td>0.733528</td>\n",
              "      <td>0.526929</td>\n",
              "    </tr>\n",
              "    <tr>\n",
              "      <th>13784</th>\n",
              "      <td>Devonte' Graham</td>\n",
              "      <td>2018</td>\n",
              "      <td>Kansas</td>\n",
              "      <td>1</td>\n",
              "      <td>0.637273</td>\n",
              "      <td>0.522619</td>\n",
              "    </tr>\n",
              "    <tr>\n",
              "      <th>17249</th>\n",
              "      <td>Gary Harris</td>\n",
              "      <td>2014</td>\n",
              "      <td>Michigan St.</td>\n",
              "      <td>0</td>\n",
              "      <td>0.551987</td>\n",
              "      <td>0.522001</td>\n",
              "    </tr>\n",
              "    <tr>\n",
              "      <th>37378</th>\n",
              "      <td>Norris Cole</td>\n",
              "      <td>2011</td>\n",
              "      <td>Cleveland St.</td>\n",
              "      <td>0</td>\n",
              "      <td>0.437036</td>\n",
              "      <td>0.519977</td>\n",
              "    </tr>\n",
              "    <tr>\n",
              "      <th>2042</th>\n",
              "      <td>Andre Curbelo</td>\n",
              "      <td>2021</td>\n",
              "      <td>Illinois</td>\n",
              "      <td>0</td>\n",
              "      <td>0.059155</td>\n",
              "      <td>0.511448</td>\n",
              "    </tr>\n",
              "  </tbody>\n",
              "</table>\n",
              "<p>97 rows × 6 columns</p>\n",
              "</div>\n",
              "      <button class=\"colab-df-convert\" onclick=\"convertToInteractive('df-d4f6d98d-59c3-4140-b36e-5c97606dc49b')\"\n",
              "              title=\"Convert this dataframe to an interactive table.\"\n",
              "              style=\"display:none;\">\n",
              "        \n",
              "  <svg xmlns=\"http://www.w3.org/2000/svg\" height=\"24px\"viewBox=\"0 0 24 24\"\n",
              "       width=\"24px\">\n",
              "    <path d=\"M0 0h24v24H0V0z\" fill=\"none\"/>\n",
              "    <path d=\"M18.56 5.44l.94 2.06.94-2.06 2.06-.94-2.06-.94-.94-2.06-.94 2.06-2.06.94zm-11 1L8.5 8.5l.94-2.06 2.06-.94-2.06-.94L8.5 2.5l-.94 2.06-2.06.94zm10 10l.94 2.06.94-2.06 2.06-.94-2.06-.94-.94-2.06-.94 2.06-2.06.94z\"/><path d=\"M17.41 7.96l-1.37-1.37c-.4-.4-.92-.59-1.43-.59-.52 0-1.04.2-1.43.59L10.3 9.45l-7.72 7.72c-.78.78-.78 2.05 0 2.83L4 21.41c.39.39.9.59 1.41.59.51 0 1.02-.2 1.41-.59l7.78-7.78 2.81-2.81c.8-.78.8-2.07 0-2.86zM5.41 20L4 18.59l7.72-7.72 1.47 1.35L5.41 20z\"/>\n",
              "  </svg>\n",
              "      </button>\n",
              "      \n",
              "  <style>\n",
              "    .colab-df-container {\n",
              "      display:flex;\n",
              "      flex-wrap:wrap;\n",
              "      gap: 12px;\n",
              "    }\n",
              "\n",
              "    .colab-df-convert {\n",
              "      background-color: #E8F0FE;\n",
              "      border: none;\n",
              "      border-radius: 50%;\n",
              "      cursor: pointer;\n",
              "      display: none;\n",
              "      fill: #1967D2;\n",
              "      height: 32px;\n",
              "      padding: 0 0 0 0;\n",
              "      width: 32px;\n",
              "    }\n",
              "\n",
              "    .colab-df-convert:hover {\n",
              "      background-color: #E2EBFA;\n",
              "      box-shadow: 0px 1px 2px rgba(60, 64, 67, 0.3), 0px 1px 3px 1px rgba(60, 64, 67, 0.15);\n",
              "      fill: #174EA6;\n",
              "    }\n",
              "\n",
              "    [theme=dark] .colab-df-convert {\n",
              "      background-color: #3B4455;\n",
              "      fill: #D2E3FC;\n",
              "    }\n",
              "\n",
              "    [theme=dark] .colab-df-convert:hover {\n",
              "      background-color: #434B5C;\n",
              "      box-shadow: 0px 1px 3px 1px rgba(0, 0, 0, 0.15);\n",
              "      filter: drop-shadow(0px 1px 2px rgba(0, 0, 0, 0.3));\n",
              "      fill: #FFFFFF;\n",
              "    }\n",
              "  </style>\n",
              "\n",
              "      <script>\n",
              "        const buttonEl =\n",
              "          document.querySelector('#df-d4f6d98d-59c3-4140-b36e-5c97606dc49b button.colab-df-convert');\n",
              "        buttonEl.style.display =\n",
              "          google.colab.kernel.accessAllowed ? 'block' : 'none';\n",
              "\n",
              "        async function convertToInteractive(key) {\n",
              "          const element = document.querySelector('#df-d4f6d98d-59c3-4140-b36e-5c97606dc49b');\n",
              "          const dataTable =\n",
              "            await google.colab.kernel.invokeFunction('convertToInteractive',\n",
              "                                                     [key], {});\n",
              "          if (!dataTable) return;\n",
              "\n",
              "          const docLinkHtml = 'Like what you see? Visit the ' +\n",
              "            '<a target=\"_blank\" href=https://colab.research.google.com/notebooks/data_table.ipynb>data table notebook</a>'\n",
              "            + ' to learn more about interactive tables.';\n",
              "          element.innerHTML = '';\n",
              "          dataTable['output_type'] = 'display_data';\n",
              "          await google.colab.output.renderOutput(dataTable, element);\n",
              "          const docLink = document.createElement('div');\n",
              "          docLink.innerHTML = docLinkHtml;\n",
              "          element.appendChild(docLink);\n",
              "        }\n",
              "      </script>\n",
              "    </div>\n",
              "  </div>\n",
              "  "
            ]
          },
          "metadata": {},
          "execution_count": 60
        }
      ]
    },
    {
      "cell_type": "markdown",
      "source": [
        "Looking at the results for the training set and test set tells us that the two models give similar probabilities for most players, but can vary a lot for others. For example, we can see above that Andre Curbelo in 2021 had an All-American chance of 6% according to the neural network and 51% from the logistic regression. Most basketball fans would say that Curbelo was not really in the running for an All-American spot, so it looks like the neural network was better for this one example. \n",
        "\n",
        "Looking at the test set RMSE, we can see that it is greater than the test set RMSE for the neural network. Therefore, we can conclude that the neural network gives better predictions for All-Americans. "
      ],
      "metadata": {
        "id": "0Cla5VxkV33G"
      }
    },
    {
      "cell_type": "code",
      "source": [
        "test_pred_lr = logReg.predict_proba(st_test_x)\n",
        "test_df[\"phat_logis\"] = test_pred_lr[:, 1]\n",
        "test_results = test_df[test_df[\"phat_logis\"] >= 0.5]\n",
        "test_results = test_results[[\"Player\",\"Season\",\"School\",\"All_American\",\"phat_logis\"]]\n",
        "test_results = test_results.sort_values(by = \"phat_logis\", ascending = False)\n",
        "print(test_results.head())\n",
        "test_RMSE = ((test_df.phat_logis - test_df.All_American) ** 2).mean() ** .5\n",
        "print(\"Test Set RMSE: \" + str(round(val_RMSE,4)))"
      ],
      "metadata": {
        "colab": {
          "base_uri": "https://localhost:8080/"
        },
        "id": "b5r00s0NTYIy",
        "outputId": "afb563b8-257f-406b-b9a2-623e4f377004"
      },
      "execution_count": 61,
      "outputs": [
        {
          "output_type": "stream",
          "name": "stdout",
          "text": [
            "                 Player  Season        School  All_American  phat_logis\n",
            "49272   Zion Williamson    2019          Duke             1    0.996706\n",
            "12990  Denzel Valentine    2016  Michigan St.             1    0.995105\n",
            "31381        Luka Garza    2021          Iowa             1    0.993765\n",
            "14458    Doug McDermott    2014     Creighton             1    0.984171\n",
            "41000        Russ Smith    2013    Louisville             1    0.969074\n",
            "Test Set RMSE: 0.076\n"
          ]
        }
      ]
    },
    {
      "cell_type": "markdown",
      "source": [
        "The plot below shows the neural network test set predictions against the logistic regression predictions. The points lie roughly on a line, so both models can capture what statistics set apart All-Americans."
      ],
      "metadata": {
        "id": "FLn3jbqHWfdr"
      }
    },
    {
      "cell_type": "code",
      "source": [
        "test_scatter = sns.scatterplot(data = test_df, x = \"phat_nn\", y = \"phat_logis\",\n",
        "                hue = \"All_American\")\n",
        "test_scatter.set(xlabel = \"Probability (NN)\",\n",
        "                 ylabel = \"Probability (Logistic)\",\n",
        "                 title = \"All-American Probability\")\n",
        "plt.show()"
      ],
      "metadata": {
        "colab": {
          "base_uri": "https://localhost:8080/",
          "height": 295
        },
        "id": "yr9CPDwaXfjR",
        "outputId": "83424279-476b-4fb3-afa4-685f007b3a76"
      },
      "execution_count": 62,
      "outputs": [
        {
          "output_type": "display_data",
          "data": {
            "text/plain": [
              "<Figure size 432x288 with 1 Axes>"
            ],
            "image/png": "[encoded data removed]"
          },
          "metadata": {}
        }
      ]
    },
    {
      "cell_type": "markdown",
      "source": [
        "We can also apply the logistic regression model to this year's players. Many of the results are similar, like how Edey, Tubelis, and Wilson are ahead of everyone else. However, there are a couple interesting results. Liam Robbins and Darius McGee both have high probabilities despite the fact that they likely will not be named All-Americans at the end of the season. Both play for teams that are not in the NCAA Tournament at-large picture, telling us that the logistic regression model probably does not give as much importance to team performance as the neural network does. "
      ],
      "metadata": {
        "id": "rkWbxpK2WzSt"
      }
    },
    {
      "cell_type": "code",
      "source": [
        "data23_pred_lr = logReg.predict_proba(st_data23_x)\n",
        "data23[\"phat_logis\"] = data23_pred_lr[:, 1]\n",
        "data23_results = data23[[\"Player\",\"Season\",\"School\",\"phat_logis\"]]\n",
        "data23_results = data23_results.sort_values(by = \"phat_logis\", ascending = False)\n",
        "print(data23_results.head(20))"
      ],
      "metadata": {
        "colab": {
          "base_uri": "https://localhost:8080/"
        },
        "id": "TcLrlMMsZSGq",
        "outputId": "7d70b1af-76e6-4108-b498-c11f9de2f793"
      },
      "execution_count": 63,
      "outputs": [
        {
          "output_type": "stream",
          "name": "stdout",
          "text": [
            "                     Player  Season       School  phat_logis\n",
            "48838             Zach Edey    2023       Purdue    0.996063\n",
            "3805        Azuolas Tubelis    2023      Arizona    0.835075\n",
            "21173          Jalen Wilson    2023       Kansas    0.808402\n",
            "45813  Trayce Jackson-Davis    2023      Indiana    0.799519\n",
            "32564         Marcus Sasser    2023      Houston    0.753495\n",
            "5174         Brandon Miller    2023      Alabama    0.725795\n",
            "29161        Keyonte George    2023       Baylor    0.537205\n",
            "49474          Adama Sanogo    2023  Connecticut    0.537187\n",
            "31008          Liam Robbins    2023   Vanderbilt    0.501838\n",
            "14663            Drew Timme    2023      Gonzaga    0.490138\n",
            "32881       Markquis Nowell    2023   Kansas St.    0.468629\n",
            "28510         Kendric Davis    2023      Memphis    0.426058\n",
            "32401           Marcus Carr    2023        Texas    0.407706\n",
            "11595         Darius McGhee    2023      Liberty    0.362590\n",
            "627            Adam Flagler    2023       Baylor    0.322272\n",
            "47762        Wade Taylor IV    2023    Texas A&M    0.274718\n",
            "5861       Brice Sensabaugh    2023     Ohio St.    0.269308\n",
            "20535      Jaime Jaquez Jr.    2023         UCLA    0.265405\n",
            "20494          Jahmir Young    2023     Maryland    0.247014\n",
            "29542            Kobe Brown    2023     Missouri    0.240397\n"
          ]
        }
      ]
    },
    {
      "cell_type": "markdown",
      "source": [
        "McGee and Robbins are two of the players with the greatest descrepancies in probability from the two models. They are joined by Kris Murray, Oumar Ballo, and Kobe Brown as players that are likely to be All-Americans by one model but unlikely by the other. "
      ],
      "metadata": {
        "id": "WE5NUKbpXgb6"
      }
    },
    {
      "cell_type": "code",
      "source": [
        "big_diff = data23[[\"Player\",\"School\",\"phat_nn\",\"phat_logis\"]]\n",
        "big_diff[\"diff\"] = abs(big_diff[\"phat_nn\"] - big_diff[\"phat_logis\"])\n",
        "print(big_diff.sort_values(by = \"diff\", ascending = False).head())"
      ],
      "metadata": {
        "colab": {
          "base_uri": "https://localhost:8080/"
        },
        "id": "TxPFcAbSbnNg",
        "outputId": "e495a490-69db-4393-f6e4-0dfbdeb61f6b"
      },
      "execution_count": 65,
      "outputs": [
        {
          "output_type": "stream",
          "name": "stdout",
          "text": [
            "              Player      School   phat_nn  phat_logis      diff\n",
            "11595  Darius McGhee     Liberty  0.000330    0.362590  0.362260\n",
            "29788    Kris Murray        Iowa  0.437799    0.167580  0.270219\n",
            "37791    Oumar Ballo     Arizona  0.397959    0.187749  0.210210\n",
            "31008   Liam Robbins  Vanderbilt  0.317167    0.501838  0.184670\n",
            "29542     Kobe Brown    Missouri  0.410941    0.240397  0.170545\n"
          ]
        },
        {
          "output_type": "stream",
          "name": "stderr",
          "text": [
            "<ipython-input-65-b0c688c3f37e>:2: SettingWithCopyWarning: \n",
            "A value is trying to be set on a copy of a slice from a DataFrame.\n",
            "Try using .loc[row_indexer,col_indexer] = value instead\n",
            "\n",
            "See the caveats in the documentation: https://pandas.pydata.org/pandas-docs/stable/user_guide/indexing.html#returning-a-view-versus-a-copy\n",
            "  big_diff[\"diff\"] = abs(big_diff[\"phat_nn\"] - big_diff[\"phat_logis\"])\n"
          ]
        }
      ]
    },
    {
      "cell_type": "markdown",
      "source": [
        "One advantage of a logistic regression is that it is easier to see which variables are the msot important in determining the probability. The bar graph shows which variables have the greatest impact in the regression. Blue columns note variables with a positive coefficient (greater is better) while orange bars represent variables with a negative coefficient (lower is better). We can do this because all of the independent variables are in a standardized scale, so the coefficients can be compared. In this context, the coefficient can be interpreted as how much the log odds would increase (or decrease) with a one standard deviation increase in the statistic. "
      ],
      "metadata": {
        "id": "1PHAvqusX9fu"
      }
    },
    {
      "cell_type": "code",
      "source": [
        "coeffs = logReg.coef_[0]\n",
        "variables = list(train_df.columns[3:ncol+2])\n",
        "\n",
        "coeff_df = pd.DataFrame(list(zip(variables, coeffs)), columns = [\"Variable\",\"Coefficient\"])\n",
        "coeff_df[\"Sign\"] = np.select([coeff_df[\"Coefficient\"] > 0, coeff_df[\"Coefficient\"] < 0], \n",
        "                             [\"Positive\",\"Negative\"])\n",
        "coeff_df = coeff_df.assign(Coefficient = lambda x: abs(x[\"Coefficient\"]))\n",
        "coeff_df = coeff_df.sort_values(by = \"Coefficient\", ascending = False)\n",
        "coeff_df"
      ],
      "metadata": {
        "colab": {
          "base_uri": "https://localhost:8080/",
          "height": 582
        },
        "id": "Zj3Fj-x7iEji",
        "outputId": "26a2536b-d51b-4533-8e68-174e16d1bdd5"
      },
      "execution_count": 66,
      "outputs": [
        {
          "output_type": "execute_result",
          "data": {
            "text/plain": [
              "     Variable  Coefficient      Sign\n",
              "0        FG2M     1.812996  Positive\n",
              "2        FG3M     1.793715  Positive\n",
              "12         WP     1.466951  Positive\n",
              "4         FTM     1.237520  Positive\n",
              "8         AST     0.962909  Positive\n",
              "16  sos_opp_d     0.926847  Negative\n",
              "13      adj_o     0.780288  Positive\n",
              "14      adj_d     0.600626  Negative\n",
              "15  sos_opp_o     0.545772  Positive\n",
              "7        DREB     0.521441  Positive\n",
              "9         TOV     0.378864  Negative\n",
              "10        STL     0.327769  Positive\n",
              "11        BLK     0.314411  Positive\n",
              "5         FTA     0.277408  Negative\n",
              "3        FG3A     0.114828  Positive\n",
              "1        FG2A     0.010024  Negative\n",
              "6        OREB     0.002783  Negative"
            ],
            "text/html": [
              "\n",
              "  <div id=\"df-998c1907-2289-4911-86cb-9f1fd943a6e9\">\n",
              "    <div class=\"colab-df-container\">\n",
              "      <div>\n",
              "<style scoped>\n",
              "    .dataframe tbody tr th:only-of-type {\n",
              "        vertical-align: middle;\n",
              "    }\n",
              "\n",
              "    .dataframe tbody tr th {\n",
              "        vertical-align: top;\n",
              "    }\n",
              "\n",
              "    .dataframe thead th {\n",
              "        text-align: right;\n",
              "    }\n",
              "</style>\n",
              "<table border=\"1\" class=\"dataframe\">\n",
              "  <thead>\n",
              "    <tr style=\"text-align: right;\">\n",
              "      <th></th>\n",
              "      <th>Variable</th>\n",
              "      <th>Coefficient</th>\n",
              "      <th>Sign</th>\n",
              "    </tr>\n",
              "  </thead>\n",
              "  <tbody>\n",
              "    <tr>\n",
              "      <th>0</th>\n",
              "      <td>FG2M</td>\n",
              "      <td>1.812996</td>\n",
              "      <td>Positive</td>\n",
              "    </tr>\n",
              "    <tr>\n",
              "      <th>2</th>\n",
              "      <td>FG3M</td>\n",
              "      <td>1.793715</td>\n",
              "      <td>Positive</td>\n",
              "    </tr>\n",
              "    <tr>\n",
              "      <th>12</th>\n",
              "      <td>WP</td>\n",
              "      <td>1.466951</td>\n",
              "      <td>Positive</td>\n",
              "    </tr>\n",
              "    <tr>\n",
              "      <th>4</th>\n",
              "      <td>FTM</td>\n",
              "      <td>1.237520</td>\n",
              "      <td>Positive</td>\n",
              "    </tr>\n",
              "    <tr>\n",
              "      <th>8</th>\n",
              "      <td>AST</td>\n",
              "      <td>0.962909</td>\n",
              "      <td>Positive</td>\n",
              "    </tr>\n",
              "    <tr>\n",
              "      <th>16</th>\n",
              "      <td>sos_opp_d</td>\n",
              "      <td>0.926847</td>\n",
              "      <td>Negative</td>\n",
              "    </tr>\n",
              "    <tr>\n",
              "      <th>13</th>\n",
              "      <td>adj_o</td>\n",
              "      <td>0.780288</td>\n",
              "      <td>Positive</td>\n",
              "    </tr>\n",
              "    <tr>\n",
              "      <th>14</th>\n",
              "      <td>adj_d</td>\n",
              "      <td>0.600626</td>\n",
              "      <td>Negative</td>\n",
              "    </tr>\n",
              "    <tr>\n",
              "      <th>15</th>\n",
              "      <td>sos_opp_o</td>\n",
              "      <td>0.545772</td>\n",
              "      <td>Positive</td>\n",
              "    </tr>\n",
              "    <tr>\n",
              "      <th>7</th>\n",
              "      <td>DREB</td>\n",
              "      <td>0.521441</td>\n",
              "      <td>Positive</td>\n",
              "    </tr>\n",
              "    <tr>\n",
              "      <th>9</th>\n",
              "      <td>TOV</td>\n",
              "      <td>0.378864</td>\n",
              "      <td>Negative</td>\n",
              "    </tr>\n",
              "    <tr>\n",
              "      <th>10</th>\n",
              "      <td>STL</td>\n",
              "      <td>0.327769</td>\n",
              "      <td>Positive</td>\n",
              "    </tr>\n",
              "    <tr>\n",
              "      <th>11</th>\n",
              "      <td>BLK</td>\n",
              "      <td>0.314411</td>\n",
              "      <td>Positive</td>\n",
              "    </tr>\n",
              "    <tr>\n",
              "      <th>5</th>\n",
              "      <td>FTA</td>\n",
              "      <td>0.277408</td>\n",
              "      <td>Negative</td>\n",
              "    </tr>\n",
              "    <tr>\n",
              "      <th>3</th>\n",
              "      <td>FG3A</td>\n",
              "      <td>0.114828</td>\n",
              "      <td>Positive</td>\n",
              "    </tr>\n",
              "    <tr>\n",
              "      <th>1</th>\n",
              "      <td>FG2A</td>\n",
              "      <td>0.010024</td>\n",
              "      <td>Negative</td>\n",
              "    </tr>\n",
              "    <tr>\n",
              "      <th>6</th>\n",
              "      <td>OREB</td>\n",
              "      <td>0.002783</td>\n",
              "      <td>Negative</td>\n",
              "    </tr>\n",
              "  </tbody>\n",
              "</table>\n",
              "</div>\n",
              "      <button class=\"colab-df-convert\" onclick=\"convertToInteractive('df-998c1907-2289-4911-86cb-9f1fd943a6e9')\"\n",
              "              title=\"Convert this dataframe to an interactive table.\"\n",
              "              style=\"display:none;\">\n",
              "        \n",
              "  <svg xmlns=\"http://www.w3.org/2000/svg\" height=\"24px\"viewBox=\"0 0 24 24\"\n",
              "       width=\"24px\">\n",
              "    <path d=\"M0 0h24v24H0V0z\" fill=\"none\"/>\n",
              "    <path d=\"M18.56 5.44l.94 2.06.94-2.06 2.06-.94-2.06-.94-.94-2.06-.94 2.06-2.06.94zm-11 1L8.5 8.5l.94-2.06 2.06-.94-2.06-.94L8.5 2.5l-.94 2.06-2.06.94zm10 10l.94 2.06.94-2.06 2.06-.94-2.06-.94-.94-2.06-.94 2.06-2.06.94z\"/><path d=\"M17.41 7.96l-1.37-1.37c-.4-.4-.92-.59-1.43-.59-.52 0-1.04.2-1.43.59L10.3 9.45l-7.72 7.72c-.78.78-.78 2.05 0 2.83L4 21.41c.39.39.9.59 1.41.59.51 0 1.02-.2 1.41-.59l7.78-7.78 2.81-2.81c.8-.78.8-2.07 0-2.86zM5.41 20L4 18.59l7.72-7.72 1.47 1.35L5.41 20z\"/>\n",
              "  </svg>\n",
              "      </button>\n",
              "      \n",
              "  <style>\n",
              "    .colab-df-container {\n",
              "      display:flex;\n",
              "      flex-wrap:wrap;\n",
              "      gap: 12px;\n",
              "    }\n",
              "\n",
              "    .colab-df-convert {\n",
              "      background-color: #E8F0FE;\n",
              "      border: none;\n",
              "      border-radius: 50%;\n",
              "      cursor: pointer;\n",
              "      display: none;\n",
              "      fill: #1967D2;\n",
              "      height: 32px;\n",
              "      padding: 0 0 0 0;\n",
              "      width: 32px;\n",
              "    }\n",
              "\n",
              "    .colab-df-convert:hover {\n",
              "      background-color: #E2EBFA;\n",
              "      box-shadow: 0px 1px 2px rgba(60, 64, 67, 0.3), 0px 1px 3px 1px rgba(60, 64, 67, 0.15);\n",
              "      fill: #174EA6;\n",
              "    }\n",
              "\n",
              "    [theme=dark] .colab-df-convert {\n",
              "      background-color: #3B4455;\n",
              "      fill: #D2E3FC;\n",
              "    }\n",
              "\n",
              "    [theme=dark] .colab-df-convert:hover {\n",
              "      background-color: #434B5C;\n",
              "      box-shadow: 0px 1px 3px 1px rgba(0, 0, 0, 0.15);\n",
              "      filter: drop-shadow(0px 1px 2px rgba(0, 0, 0, 0.3));\n",
              "      fill: #FFFFFF;\n",
              "    }\n",
              "  </style>\n",
              "\n",
              "      <script>\n",
              "        const buttonEl =\n",
              "          document.querySelector('#df-998c1907-2289-4911-86cb-9f1fd943a6e9 button.colab-df-convert');\n",
              "        buttonEl.style.display =\n",
              "          google.colab.kernel.accessAllowed ? 'block' : 'none';\n",
              "\n",
              "        async function convertToInteractive(key) {\n",
              "          const element = document.querySelector('#df-998c1907-2289-4911-86cb-9f1fd943a6e9');\n",
              "          const dataTable =\n",
              "            await google.colab.kernel.invokeFunction('convertToInteractive',\n",
              "                                                     [key], {});\n",
              "          if (!dataTable) return;\n",
              "\n",
              "          const docLinkHtml = 'Like what you see? Visit the ' +\n",
              "            '<a target=\"_blank\" href=https://colab.research.google.com/notebooks/data_table.ipynb>data table notebook</a>'\n",
              "            + ' to learn more about interactive tables.';\n",
              "          element.innerHTML = '';\n",
              "          dataTable['output_type'] = 'display_data';\n",
              "          await google.colab.output.renderOutput(dataTable, element);\n",
              "          const docLink = document.createElement('div');\n",
              "          docLink.innerHTML = docLinkHtml;\n",
              "          element.appendChild(docLink);\n",
              "        }\n",
              "      </script>\n",
              "    </div>\n",
              "  </div>\n",
              "  "
            ]
          },
          "metadata": {},
          "execution_count": 66
        }
      ]
    },
    {
      "cell_type": "code",
      "source": [
        "cols = ['blue' if x == \"Positive\" else 'orange' for x in coeff_df.Sign]\n",
        "\n",
        "coeff_bar = sns.barplot(data = coeff_df, orient = 'h',\n",
        "                        x = 'Coefficient', y = 'Variable',\n",
        "                        palette = cols)\n",
        "coeff_bar.set(title = \"Logistic Regression: Most Important Variables\")\n",
        "coeff_bar.legend(title = \"Sign\",\n",
        "                 loc = \"lower right\",\n",
        "                 labels = [\"Positive\",\"Negative\"])\n",
        "plt.show()"
      ],
      "metadata": {
        "colab": {
          "base_uri": "https://localhost:8080/",
          "height": 295
        },
        "id": "DXf0cR97m012",
        "outputId": "05a83980-56f7-4055-f54b-f344c518a1fb"
      },
      "execution_count": 67,
      "outputs": [
        {
          "output_type": "display_data",
          "data": {
            "text/plain": [
              "<Figure size 432x288 with 1 Axes>"
            ],
            "image/png": "[encoded data removed]"
          },
          "metadata": {}
        }
      ]
    },
    {
      "cell_type": "markdown",
      "source": [
        "The graph reinforces some of the findings earlier, in that scoring and team performance are the most important factors in predicting All-Americans as 2-point makes, 3-point makes, win percentage, and free throws made are the 4 variables with the greatest coefficients. In additions, we can see that playmaking matters as assists is next. \n",
        "\n",
        "There were some things that surprised me, though. First, both 2-point field goals made and 3-point field goals made had the same coefficient even though 3's are worth more. This could indicate that 2-point scoring has increased importance in college. Additionally, shooting efficiency did not seem to matter very much as attempts in all shooting categories had very low coefficients (although this could be due to collinearity). Lastly, it seems that team offense is more important than team defense in this context since adjusted offensive efficiency and strength of opponent defense were more important than adjusted defensive efficiency and strength of opponent offense. "
      ],
      "metadata": {
        "id": "Vvwf0qWZYVNT"
      }
    },
    {
      "cell_type": "markdown",
      "source": [
        "After investigating both the neural network and logistic regression, it seems like the neural network came up with the best predictions. Finally, we can see the projected All-American teams. If the season ended today, the first-team All-Americans would likely consist of Edey, Wilson, Tubelis, Jackson-Davis, and Miller. Unfortunately, this doesn't account for positions as it is unlikely all 5 of these players will make the real first-team since all are forwards or centers. Marcus Sasser, Keyonte George, and Markquis Nowell headline the guards with rank highest. The player with the greatest All-American probability by a wide margin is Zach Edey, which is good since he is the NCAA player of the year favorite right now. In addition, all of the teams listed below except for Ohio State are on track to make the NCAA Tournament, reinforcing the belief that All-Americans play on high quality teams. \n",
        "\n",
        "Watch out for these guys in the tournament come March!"
      ],
      "metadata": {
        "id": "YsDNqu4ycrLE"
      }
    },
    {
      "cell_type": "code",
      "source": [
        "aa23 = data23[[\"Player\",\"School\",\"phat_nn\"]]\n",
        "aa23[\"Rk\"] = aa23[\"phat_nn\"].rank(ascending = False, method = 'min')\n",
        "aa23 = aa23[aa23[\"Rk\"] < 16].sort_values(by = \"Rk\")\n",
        "\n",
        "cond = [(aa23[\"Rk\"] > 0) & (aa23[\"Rk\"] < 6),\n",
        "        (aa23[\"Rk\"] > 5) & (aa23[\"Rk\"] < 11),\n",
        "        (aa23[\"Rk\"] > 10) & (aa23[\"Rk\"] < 16)]\n",
        "choice = [\"First-Team\", \"Second-Team\", \"Third-Team\"]\n",
        "aa23[\"All-American\"] = np.select(cond, choice)\n",
        "aa23 = aa23[[\"Rk\",\"All-American\",\"Player\",\"School\",\"phat_nn\"]]\n",
        "print(aa23)"
      ],
      "metadata": {
        "colab": {
          "base_uri": "https://localhost:8080/"
        },
        "id": "wCL0vsI_ajrx",
        "outputId": "1235b888-e62e-4972-bdd4-a117b4400187"
      },
      "execution_count": 68,
      "outputs": [
        {
          "output_type": "stream",
          "name": "stdout",
          "text": [
            "         Rk All-American                Player       School   phat_nn\n",
            "48838   1.0   First-Team             Zach Edey       Purdue  0.984472\n",
            "21173   2.0   First-Team          Jalen Wilson       Kansas  0.885775\n",
            "3805    3.0   First-Team       Azuolas Tubelis      Arizona  0.868469\n",
            "45813   4.0   First-Team  Trayce Jackson-Davis      Indiana  0.768406\n",
            "5174    5.0   First-Team        Brandon Miller      Alabama  0.754298\n",
            "32564   6.0  Second-Team         Marcus Sasser      Houston  0.644999\n",
            "49474   7.0  Second-Team          Adama Sanogo  Connecticut  0.618253\n",
            "29161   8.0  Second-Team        Keyonte George       Baylor  0.608215\n",
            "32881   9.0  Second-Team       Markquis Nowell   Kansas St.  0.505917\n",
            "14663  10.0  Second-Team            Drew Timme      Gonzaga  0.504127\n",
            "29788  11.0   Third-Team           Kris Murray         Iowa  0.437799\n",
            "5861   12.0   Third-Team      Brice Sensabaugh     Ohio St.  0.426707\n",
            "32401  13.0   Third-Team           Marcus Carr        Texas  0.426264\n",
            "29542  14.0   Third-Team            Kobe Brown     Missouri  0.410941\n",
            "37791  15.0   Third-Team           Oumar Ballo      Arizona  0.397959\n"
          ]
        },
        {
          "output_type": "stream",
          "name": "stderr",
          "text": [
            "<ipython-input-68-06bfda66e462>:2: SettingWithCopyWarning: \n",
            "A value is trying to be set on a copy of a slice from a DataFrame.\n",
            "Try using .loc[row_indexer,col_indexer] = value instead\n",
            "\n",
            "See the caveats in the documentation: https://pandas.pydata.org/pandas-docs/stable/user_guide/indexing.html#returning-a-view-versus-a-copy\n",
            "  aa23[\"Rk\"] = aa23[\"phat_nn\"].rank(ascending = False, method = 'min')\n"
          ]
        }
      ]
    }
  ],
  "metadata": {
    "colab": {
      "provenance": []
    },
    "kernelspec": {
      "display_name": "Python 3",
      "name": "python3"
    },
    "language_info": {
      "name": "python"
    }
  },
  "nbformat": 4,
  "nbformat_minor": 0
}